{
 "cells": [
  {
   "cell_type": "markdown",
   "metadata": {},
   "source": [
    "# PRICE MINISTER : évaluation de l'utilité des commentaires"
   ]
  },
  {
   "cell_type": "markdown",
   "metadata": {},
   "source": [
    "***"
   ]
  },
  {
   "cell_type": "markdown",
   "metadata": {},
   "source": [
    "## Exploration et visualisation des données"
   ]
  },
  {
   "cell_type": "markdown",
   "metadata": {},
   "source": [
    "On importe l'ensemble des modules dont on aura besoin pour la visualisation, le text mining ainsi que le ML"
   ]
  },
  {
   "cell_type": "code",
   "execution_count": 1,
   "metadata": {
    "collapsed": true
   },
   "outputs": [],
   "source": [
    "# Generic modules for loading data and visualisation\n",
    "import pandas as pd\n",
    "import numpy as np\n",
    "import matplotlib.pyplot as plt\n",
    "import seaborn as sns\n",
    "\n",
    "%matplotlib inline"
   ]
  },
  {
   "cell_type": "markdown",
   "metadata": {},
   "source": [
    "On Charge les données:"
   ]
  },
  {
   "cell_type": "code",
   "execution_count": 2,
   "metadata": {
    "collapsed": false
   },
   "outputs": [
    {
     "name": "stdout",
     "output_type": "stream",
     "text": [
      "train : (60000, 6)\n",
      "test : (20000, 5)\n"
     ]
    }
   ],
   "source": [
    "# Get data\n",
    "train = pd.read_csv(\"./train.csv\",sep=';')\n",
    "print(\"train : \" + str(train.shape))\n",
    "test = pd.read_csv(\"./test.csv\",sep=';')\n",
    "print(\"test : \" + str(test.shape))"
   ]
  },
  {
   "cell_type": "markdown",
   "metadata": {},
   "source": [
    "On jette un coup d'oeil à quoi ressemble les données"
   ]
  },
  {
   "cell_type": "code",
   "execution_count": 3,
   "metadata": {
    "collapsed": false,
    "scrolled": true
   },
   "outputs": [
    {
     "data": {
      "text/html": [
       "<div>\n",
       "<style>\n",
       "    .dataframe thead tr:only-child th {\n",
       "        text-align: right;\n",
       "    }\n",
       "\n",
       "    .dataframe thead th {\n",
       "        text-align: left;\n",
       "    }\n",
       "\n",
       "    .dataframe tbody tr th {\n",
       "        vertical-align: top;\n",
       "    }\n",
       "</style>\n",
       "<table border=\"1\" class=\"dataframe\">\n",
       "  <thead>\n",
       "    <tr style=\"text-align: right;\">\n",
       "      <th></th>\n",
       "      <th>ID</th>\n",
       "      <th>review_content</th>\n",
       "      <th>review_title</th>\n",
       "      <th>review_stars</th>\n",
       "      <th>product</th>\n",
       "      <th>Target</th>\n",
       "    </tr>\n",
       "  </thead>\n",
       "  <tbody>\n",
       "    <tr>\n",
       "      <th>0</th>\n",
       "      <td>0</td>\n",
       "      <td>En appelant un acheteur pour demander si l'écr...</td>\n",
       "      <td>La Police s'inscrit en acheteur privé sur Pric...</td>\n",
       "      <td>5</td>\n",
       "      <td>2fbb619e3606f9b7c213e858a109cda771aa2c47ce50d5...</td>\n",
       "      <td>0</td>\n",
       "    </tr>\n",
       "    <tr>\n",
       "      <th>1</th>\n",
       "      <td>1</td>\n",
       "      <td>Alors, là, on a affaire au plus grand Navet ja...</td>\n",
       "      <td>Chef D'Oeuvre Absolu en vue...</td>\n",
       "      <td>5</td>\n",
       "      <td>7b56d9d378d9e999d293f301ac43d044cd7b4786d09afb...</td>\n",
       "      <td>1</td>\n",
       "    </tr>\n",
       "    <tr>\n",
       "      <th>2</th>\n",
       "      <td>2</td>\n",
       "      <td>Effet garanti sur la terrase. Ils donnent immé...</td>\n",
       "      <td>Effet garanti sur la terrase. Ils donnent immé...</td>\n",
       "      <td>3</td>\n",
       "      <td>7b37bf5dcb2fafd9229897910318a7dfa11a04ca36893c...</td>\n",
       "      <td>0</td>\n",
       "    </tr>\n",
       "    <tr>\n",
       "      <th>3</th>\n",
       "      <td>3</td>\n",
       "      <td>tres bon rapport qualite prix tre pratique en ...</td>\n",
       "      <td>bon produit</td>\n",
       "      <td>4</td>\n",
       "      <td>77d2dbd504b933ab3aaf7cb0cd81c22f7c3549012f4f88...</td>\n",
       "      <td>1</td>\n",
       "    </tr>\n",
       "    <tr>\n",
       "      <th>4</th>\n",
       "      <td>4</td>\n",
       "      <td>Ordinateur de bureau trés bien pour quelqu'un ...</td>\n",
       "      <td>Apple Power MAC G4</td>\n",
       "      <td>3</td>\n",
       "      <td>f574512e7d2dd1dd73c7f8f804bf16f14c932c5651a01b...</td>\n",
       "      <td>1</td>\n",
       "    </tr>\n",
       "  </tbody>\n",
       "</table>\n",
       "</div>"
      ],
      "text/plain": [
       "   ID                                     review_content  \\\n",
       "0   0  En appelant un acheteur pour demander si l'écr...   \n",
       "1   1  Alors, là, on a affaire au plus grand Navet ja...   \n",
       "2   2  Effet garanti sur la terrase. Ils donnent immé...   \n",
       "3   3  tres bon rapport qualite prix tre pratique en ...   \n",
       "4   4  Ordinateur de bureau trés bien pour quelqu'un ...   \n",
       "\n",
       "                                        review_title  review_stars  \\\n",
       "0  La Police s'inscrit en acheteur privé sur Pric...             5   \n",
       "1                     Chef D'Oeuvre Absolu en vue...             5   \n",
       "2  Effet garanti sur la terrase. Ils donnent immé...             3   \n",
       "3                                        bon produit             4   \n",
       "4                                 Apple Power MAC G4             3   \n",
       "\n",
       "                                             product  Target  \n",
       "0  2fbb619e3606f9b7c213e858a109cda771aa2c47ce50d5...       0  \n",
       "1  7b56d9d378d9e999d293f301ac43d044cd7b4786d09afb...       1  \n",
       "2  7b37bf5dcb2fafd9229897910318a7dfa11a04ca36893c...       0  \n",
       "3  77d2dbd504b933ab3aaf7cb0cd81c22f7c3549012f4f88...       1  \n",
       "4  f574512e7d2dd1dd73c7f8f804bf16f14c932c5651a01b...       1  "
      ]
     },
     "execution_count": 3,
     "metadata": {},
     "output_type": "execute_result"
    }
   ],
   "source": [
    "train.head()"
   ]
  },
  {
   "cell_type": "markdown",
   "metadata": {},
   "source": [
    "On vérifie qu'il ne manque pas de donnée"
   ]
  },
  {
   "cell_type": "code",
   "execution_count": 4,
   "metadata": {
    "collapsed": false
   },
   "outputs": [
    {
     "data": {
      "text/plain": [
       "ID                0\n",
       "review_content    0\n",
       "review_title      0\n",
       "review_stars      0\n",
       "product           0\n",
       "Target            0\n",
       "dtype: int64"
      ]
     },
     "execution_count": 4,
     "metadata": {},
     "output_type": "execute_result"
    }
   ],
   "source": [
    "train.isnull().sum()"
   ]
  },
  {
   "cell_type": "code",
   "execution_count": 5,
   "metadata": {
    "collapsed": false
   },
   "outputs": [
    {
     "data": {
      "text/plain": [
       "ID                0\n",
       "review_content    0\n",
       "review_title      0\n",
       "review_stars      0\n",
       "product           0\n",
       "dtype: int64"
      ]
     },
     "execution_count": 5,
     "metadata": {},
     "output_type": "execute_result"
    }
   ],
   "source": [
    "test.isnull().sum()"
   ]
  },
  {
   "cell_type": "markdown",
   "metadata": {},
   "source": [
    "On commence par regarder les statistiques de base sur les données numériques afin de voir ce qu'elle peuve nous donner."
   ]
  },
  {
   "cell_type": "code",
   "execution_count": 6,
   "metadata": {
    "collapsed": false
   },
   "outputs": [
    {
     "data": {
      "text/html": [
       "<div>\n",
       "<style>\n",
       "    .dataframe thead tr:only-child th {\n",
       "        text-align: right;\n",
       "    }\n",
       "\n",
       "    .dataframe thead th {\n",
       "        text-align: left;\n",
       "    }\n",
       "\n",
       "    .dataframe tbody tr th {\n",
       "        vertical-align: top;\n",
       "    }\n",
       "</style>\n",
       "<table border=\"1\" class=\"dataframe\">\n",
       "  <thead>\n",
       "    <tr style=\"text-align: right;\">\n",
       "      <th></th>\n",
       "      <th>ID</th>\n",
       "      <th>review_stars</th>\n",
       "      <th>Target</th>\n",
       "    </tr>\n",
       "  </thead>\n",
       "  <tbody>\n",
       "    <tr>\n",
       "      <th>count</th>\n",
       "      <td>60000.000000</td>\n",
       "      <td>60000.000000</td>\n",
       "      <td>60000.000000</td>\n",
       "    </tr>\n",
       "    <tr>\n",
       "      <th>mean</th>\n",
       "      <td>29999.500000</td>\n",
       "      <td>4.308667</td>\n",
       "      <td>0.554850</td>\n",
       "    </tr>\n",
       "    <tr>\n",
       "      <th>std</th>\n",
       "      <td>17320.652413</td>\n",
       "      <td>1.151512</td>\n",
       "      <td>0.496987</td>\n",
       "    </tr>\n",
       "    <tr>\n",
       "      <th>min</th>\n",
       "      <td>0.000000</td>\n",
       "      <td>1.000000</td>\n",
       "      <td>0.000000</td>\n",
       "    </tr>\n",
       "    <tr>\n",
       "      <th>25%</th>\n",
       "      <td>14999.750000</td>\n",
       "      <td>4.000000</td>\n",
       "      <td>0.000000</td>\n",
       "    </tr>\n",
       "    <tr>\n",
       "      <th>50%</th>\n",
       "      <td>29999.500000</td>\n",
       "      <td>5.000000</td>\n",
       "      <td>1.000000</td>\n",
       "    </tr>\n",
       "    <tr>\n",
       "      <th>75%</th>\n",
       "      <td>44999.250000</td>\n",
       "      <td>5.000000</td>\n",
       "      <td>1.000000</td>\n",
       "    </tr>\n",
       "    <tr>\n",
       "      <th>max</th>\n",
       "      <td>59999.000000</td>\n",
       "      <td>5.000000</td>\n",
       "      <td>1.000000</td>\n",
       "    </tr>\n",
       "  </tbody>\n",
       "</table>\n",
       "</div>"
      ],
      "text/plain": [
       "                 ID  review_stars        Target\n",
       "count  60000.000000  60000.000000  60000.000000\n",
       "mean   29999.500000      4.308667      0.554850\n",
       "std    17320.652413      1.151512      0.496987\n",
       "min        0.000000      1.000000      0.000000\n",
       "25%    14999.750000      4.000000      0.000000\n",
       "50%    29999.500000      5.000000      1.000000\n",
       "75%    44999.250000      5.000000      1.000000\n",
       "max    59999.000000      5.000000      1.000000"
      ]
     },
     "execution_count": 6,
     "metadata": {},
     "output_type": "execute_result"
    }
   ],
   "source": [
    "train.describe()"
   ]
  },
  {
   "cell_type": "markdown",
   "metadata": {},
   "source": [
    "On a plutot des bonnes notes dans review_stars. On observe que les données sont plutot bien balancées. Le plus mauvais prédicteur sera à 55% en mettant tout le temps que l'avis est utile dans la classification."
   ]
  },
  {
   "cell_type": "markdown",
   "metadata": {},
   "source": [
    "Désormais, on va créer une classe pour la vérification des duplicatas, et la suppression des colonnes inutiles. On cré une classe dans un esprit générique, afin de ne pas répéter du code pour les données de train et de test."
   ]
  },
  {
   "cell_type": "code",
   "execution_count": 7,
   "metadata": {
    "collapsed": false
   },
   "outputs": [],
   "source": [
    "class checkData():\n",
    "    def __init__(self):\n",
    "        pass\n",
    "    def fit(self,X):\n",
    "        pass\n",
    "    def checkID(self,X):\n",
    "# Check for duplicates in ID\n",
    "        idsUnique = len(set(train.ID))\n",
    "        idsTotal = train.shape[0]\n",
    "        idsDupli = idsTotal - idsUnique\n",
    "        print(\"There are \" + str(idsDupli) + \" duplicate IDs for \" + str(idsTotal) + \" total entries\")       \n",
    "    def dropUselessColumn(self,X):\n",
    "# Drop ID column\n",
    "        X.drop(\"ID\", axis = 1, inplace = True)        \n",
    "# Drop ID column\n",
    "        X.drop(\"product\", axis = 1, inplace = True)        "
   ]
  },
  {
   "cell_type": "markdown",
   "metadata": {},
   "source": [
    "On vérifie que l'on a pas de duplicata dans nos données. Une fois cela fait, on va supprimer les colonnes pour le machine learning. On se garde toutefois la colonne ID de test dans un coin pour créer le fichier candidate submission"
   ]
  },
  {
   "cell_type": "code",
   "execution_count": 8,
   "metadata": {
    "collapsed": true
   },
   "outputs": [],
   "source": [
    "clr = checkData()"
   ]
  },
  {
   "cell_type": "code",
   "execution_count": 9,
   "metadata": {
    "collapsed": false
   },
   "outputs": [
    {
     "name": "stdout",
     "output_type": "stream",
     "text": [
      "There are 0 duplicate IDs for 60000 total entries\n"
     ]
    }
   ],
   "source": [
    "clr.checkID(train)"
   ]
  },
  {
   "cell_type": "code",
   "execution_count": 10,
   "metadata": {
    "collapsed": false
   },
   "outputs": [
    {
     "name": "stdout",
     "output_type": "stream",
     "text": [
      "There are 0 duplicate IDs for 60000 total entries\n"
     ]
    }
   ],
   "source": [
    "clr.checkID(test)"
   ]
  },
  {
   "cell_type": "code",
   "execution_count": 11,
   "metadata": {
    "collapsed": true
   },
   "outputs": [],
   "source": [
    "testID = test.ID"
   ]
  },
  {
   "cell_type": "code",
   "execution_count": 12,
   "metadata": {
    "collapsed": false
   },
   "outputs": [
    {
     "data": {
      "text/plain": [
       "0    60000\n",
       "1    60001\n",
       "2    60002\n",
       "3    60003\n",
       "4    60004\n",
       "Name: ID, dtype: int64"
      ]
     },
     "execution_count": 12,
     "metadata": {},
     "output_type": "execute_result"
    }
   ],
   "source": [
    "testID.head()"
   ]
  },
  {
   "cell_type": "code",
   "execution_count": 13,
   "metadata": {
    "collapsed": false
   },
   "outputs": [],
   "source": [
    "clr.dropUselessColumn(train)\n",
    "clr.dropUselessColumn(test)"
   ]
  },
  {
   "cell_type": "markdown",
   "metadata": {},
   "source": [
    "On regarde la distribution de review_stars afin de voir s'il a un intérêt dans la prédiction de Target"
   ]
  },
  {
   "cell_type": "code",
   "execution_count": 14,
   "metadata": {
    "collapsed": false
   },
   "outputs": [
    {
     "data": {
      "text/plain": [
       "array([<matplotlib.axes._subplots.AxesSubplot object at 0x000001FB8D72EB38>,\n",
       "       <matplotlib.axes._subplots.AxesSubplot object at 0x000001FB8ECE16D8>], dtype=object)"
      ]
     },
     "execution_count": 14,
     "metadata": {},
     "output_type": "execute_result"
    },
    {
     "data": {
      "image/png": "[encoded data removed]",
      "text/plain": [
       "<matplotlib.figure.Figure at 0x1fb90dae198>"
      ]
     },
     "metadata": {},
     "output_type": "display_data"
    }
   ],
   "source": [
    "train['review_stars'].hist(by=train['Target'])"
   ]
  },
  {
   "cell_type": "markdown",
   "metadata": {},
   "source": [
    "La distribution des review_stars pour chaque Target est à peu près identique. Cela ne nous aidera pas beaucoup pour la prédiction. On va désormais s'intéresser aux données textuelles, i.e. les colonnes review_content et review_title."
   ]
  },
  {
   "cell_type": "markdown",
   "metadata": {},
   "source": [
    "## Création des features : text mining"
   ]
  },
  {
   "cell_type": "markdown",
   "metadata": {},
   "source": [
    "On commence par importer les modules dont on aura besoin pour la création de nos features."
   ]
  },
  {
   "cell_type": "code",
   "execution_count": 15,
   "metadata": {
    "collapsed": true
   },
   "outputs": [],
   "source": [
    "# text mining modules\n",
    "from textblob import Blobber\n",
    "from textblob_fr import PatternTagger, PatternAnalyzer\n",
    "from sklearn.feature_extraction.text import CountVectorizer, TfidfVectorizer\n",
    "from sklearn.metrics.pairwise import cosine_similarity\n",
    "import nltk\n",
    "from nltk.stem.porter import *\n",
    "import string\n",
    "from stop_words import get_stop_words\n",
    "from nltk.tokenize import word_tokenize"
   ]
  },
  {
   "cell_type": "markdown",
   "metadata": {},
   "source": [
    "Dans un premier temps, je vais ajouter une fonction pour compter le nombre de mots, avec l'intuition que plus le texte est long plus il y a de chance qu'il soit pertinent."
   ]
  },
  {
   "cell_type": "code",
   "execution_count": 16,
   "metadata": {
    "collapsed": true
   },
   "outputs": [],
   "source": [
    "def count_word(words):\n",
    "    return len(words.split(' '))"
   ]
  },
  {
   "cell_type": "markdown",
   "metadata": {},
   "source": [
    "Dans un second temps, je vais créer des fonctions pour l'analyse de sentiment du texte. La polarité et la subjectivité du commentaire ou du titre doivent certainement avoir une influence sur l'utilité."
   ]
  },
  {
   "cell_type": "code",
   "execution_count": 17,
   "metadata": {
    "collapsed": true
   },
   "outputs": [],
   "source": [
    "tb = Blobber(pos_tagger=PatternTagger(), analyzer=PatternAnalyzer())"
   ]
  },
  {
   "cell_type": "code",
   "execution_count": 18,
   "metadata": {
    "collapsed": true
   },
   "outputs": [],
   "source": [
    "def polarity(x):\n",
    "    return tb(x).sentiment[0]\n",
    "def subjectivity(x):\n",
    "    return tb(x).sentiment[1]    "
   ]
  },
  {
   "cell_type": "markdown",
   "metadata": {},
   "source": [
    "Une autre idée est de regarder la consistance des données. En d'autres termes, si un commentaire positif donne une note positive, cela semble correct et devrait donner lieu à un commentaire utile..."
   ]
  },
  {
   "cell_type": "code",
   "execution_count": 19,
   "metadata": {
    "collapsed": true
   },
   "outputs": [],
   "source": [
    "def dot_function(x,y):\n",
    "    return x*y"
   ]
  },
  {
   "cell_type": "markdown",
   "metadata": {},
   "source": [
    "Comme autre feature, on va regarder la consistance de contenue entre le titre et le commentaire."
   ]
  },
  {
   "cell_type": "code",
   "execution_count": 20,
   "metadata": {
    "collapsed": true
   },
   "outputs": [],
   "source": [
    "stop_words_list = get_stop_words('french')\n",
    "\n",
    "def rmP(x):\n",
    "    p=set(string.punctuation)\n",
    "    doc = x.lower()\n",
    "    words = word_tokenize(doc,language='french')\n",
    "    for i,j in enumerate(words):\n",
    "        if len(j)>2:\n",
    "            if j[2] in p:\n",
    "                words[i]=j[3:]\n",
    "        if len(j)>1:\n",
    "            if j[1] in p:\n",
    "                words[i]=j[2:]\n",
    "        if len(j)==1:\n",
    "            if j[0] in p:\n",
    "                words[i]=' '\n",
    "    doc = list(filter(lambda x: x not in stop_words_list,words))\n",
    "#    doc =[ word for word in words if word not in stop_words_list  ]\n",
    "# french stemming : use snowball...\n",
    "#    stemmer=PorterStemmer()\n",
    "#    for i,word in enumerate(doc):\n",
    "#       doc[i]=stemmer.stem(word)\n",
    "    return ' '.join(doc)\n",
    "\n",
    "def text_similarity(x,y):\n",
    "    docs = [x,y]\n",
    "#use tfidfvectorizer\n",
    "    vectorizer=TfidfVectorizer()\n",
    "    try :\n",
    "        vectorizer.fit(docs)\n",
    "    except :\n",
    "        return 0.\n",
    "    Xtf_idf = vectorizer.transform([x]).toarray()    \n",
    "    Ytf_idf = vectorizer.transform([y]).toarray()\n",
    "    return cosine_similarity(Xtf_idf,Ytf_idf)"
   ]
  },
  {
   "cell_type": "markdown",
   "metadata": {},
   "source": [
    "L'idée suivante est de regarder l'influence des 100 mots avec le plus grand tf_idf.\n",
    "On va dans un premier temps merger nos données textes de test et de train. Puis nous allons regarder les 100 mots les plus utilisés. Ils seront utilisées comme variable catégorielle pour l'entrainement du classifieur."
   ]
  },
  {
   "cell_type": "code",
   "execution_count": 21,
   "metadata": {
    "collapsed": true
   },
   "outputs": [],
   "source": [
    "def merge_text(x,y):\n",
    "    return x+' '+y"
   ]
  },
  {
   "cell_type": "code",
   "execution_count": 22,
   "metadata": {
    "collapsed": false
   },
   "outputs": [],
   "source": [
    "merged_data = pd.concat([train.get(['review_content','review_title']),test.get(['review_content','review_title'])])"
   ]
  },
  {
   "cell_type": "code",
   "execution_count": 23,
   "metadata": {
    "collapsed": true
   },
   "outputs": [],
   "source": [
    "merged_data['merge_text']= np.vectorize(merge_text)(merged_data['review_content'],merged_data['review_title'])"
   ]
  },
  {
   "cell_type": "code",
   "execution_count": 24,
   "metadata": {
    "collapsed": false
   },
   "outputs": [],
   "source": [
    "vect = TfidfVectorizer(stop_words= stop_words_list)\n",
    "X = vect.fit_transform(merged_data['merge_text'])"
   ]
  },
  {
   "cell_type": "code",
   "execution_count": 25,
   "metadata": {
    "collapsed": false
   },
   "outputs": [
    {
     "name": "stdout",
     "output_type": "stream",
     "text": [
      "['bien', 'plus', 'qualité', 'produit', 'bonne', 'prix', 'tres', 'super', 'vraiment', 'belle', 'pratique', 'petit', 'excellent', 'rien', 'parfait', 'rapport', 'beau', 'facile', 'rapide', 'trés', 'toute', 'assez', 'livre', 'superbe', 'beaucoup', 'photo', 'merci', 'magnifique', 'autres', 'simple', 'faut', 'grand', 'collection', 'recommande', 'utilisation', 'temps', 'carte', 'jeu', 'toujours', 'appareil', 'acheter', 'permet', 'film', 'trouve', 'mal', 'achat', 'dire', 'cher', 'reste', 'surtout', 'agréable', 'grande', 'seul', 'toutes', 'voir', 'petite', 'jolie', 'entre', 'non', 'idéal', 'couleur', 'top', 'rare', 'mieux', 'jeux', 'fans', 'article', 'après', 'ans', 'album', 'marque', 'taille', 'mettre', 'photos', 'avis', 'jamais', 'dommage', 'sympa', 'efficace', 'histoire', 'meme', 'série', 'plaisir', 'vrai', 'joli', 'monde', 'fonctionne', 'utiliser', 'attention', 'enfants', 'meilleur', 'solide', 'génial', 'adore', 'aime', 'lire', 'quelques', 'indispensable', 'celui', 'excellente']\n"
     ]
    }
   ],
   "source": [
    "indices = np.argsort(vect.idf_)[::]\n",
    "features = vect.get_feature_names()\n",
    "top_n = 100\n",
    "top_features = [features[i] for i in indices[:top_n]]\n",
    "print(top_features)"
   ]
  },
  {
   "cell_type": "markdown",
   "metadata": {},
   "source": [
    "Pour la creation des features, et toujours dans un esprit générique. Je vais créer une classe:"
   ]
  },
  {
   "cell_type": "code",
   "execution_count": 26,
   "metadata": {
    "collapsed": false
   },
   "outputs": [],
   "source": [
    "class createFeature():\n",
    "    def __init__(self):\n",
    "        pass\n",
    "    def create_count_word(self,X):\n",
    "        X['count_content'] = X['review_content'].apply(count_word)\n",
    "        X['count_title'] = X['review_title'].apply(count_word)\n",
    "    def sentiment_analysis(self,X):\n",
    "        X['polarity_content'] = X['review_content'].apply(polarity)\n",
    "        X['polarity_title'] = X['review_title'].apply(polarity)\n",
    "        X['subjectivity_content'] = X['review_content'].apply(subjectivity)\n",
    "        X['subjectivity_title'] = X['review_title'].apply(subjectivity)\n",
    "    def consistency(self,X):\n",
    "        X['dot_pol_content']=np.vectorize(dot_function)(X['review_stars'],X['polarity_content'])\n",
    "        X['dot_sub_content']=np.vectorize(dot_function)(X['review_stars'],X['subjectivity_content'])\n",
    "        X['dot_pol_title']=np.vectorize(dot_function)(X['review_stars'],X['polarity_title'])\n",
    "        X['dot_sub_title']=np.vectorize(dot_function)(X['review_stars'],X['subjectivity_title'])\n",
    "        X['dot_pol_title_content']=np.vectorize(dot_function)(X['polarity_content'],X['polarity_title'])\n",
    "    def text_similarity(self,X):\n",
    "        X['review_content2']= X['review_content'].apply(rmP)\n",
    "        X['review_title2']= X['review_title'].apply(rmP)\n",
    "        X['text_similarity']= np.vectorize(text_similarity)(X['review_content2'],X['review_title2'])"
   ]
  },
  {
   "cell_type": "markdown",
   "metadata": {},
   "source": [
    "On cré les features:"
   ]
  },
  {
   "cell_type": "code",
   "execution_count": 27,
   "metadata": {
    "collapsed": false
   },
   "outputs": [],
   "source": [
    "crf = createFeature()\n",
    "crf.create_count_word(train)\n",
    "crf.sentiment_analysis(train)\n",
    "crf.consistency(train)\n",
    "crf.text_similarity(train)\n",
    "crf.create_count_word(test)\n",
    "crf.sentiment_analysis(test)\n",
    "crf.consistency(test)\n",
    "crf.text_similarity(test)\n"
   ]
  },
  {
   "cell_type": "code",
   "execution_count": 28,
   "metadata": {
    "collapsed": false
   },
   "outputs": [],
   "source": [
    "def check_word(x):\n",
    "    list_words = x.split()\n",
    "    if word in list_words:\n",
    "        return 1.0\n",
    "    else:\n",
    "        return 0.0\n",
    "\n",
    "for word in top_features:\n",
    "    train[word] = merged_data['merge_text'].apply(check_word)[:60000]    \n",
    "    test[word] = merged_data['merge_text'].apply(check_word)[60000:]"
   ]
  },
  {
   "cell_type": "markdown",
   "metadata": {},
   "source": [
    "On vérifie avant de passer au machine learning que nos données sont propres"
   ]
  },
  {
   "cell_type": "code",
   "execution_count": 29,
   "metadata": {
    "collapsed": false
   },
   "outputs": [
    {
     "data": {
      "text/plain": [
       "review_content           0\n",
       "review_title             0\n",
       "review_stars             0\n",
       "Target                   0\n",
       "count_content            0\n",
       "count_title              0\n",
       "polarity_content         0\n",
       "polarity_title           0\n",
       "subjectivity_content     0\n",
       "subjectivity_title       0\n",
       "dot_pol_content          0\n",
       "dot_sub_content          0\n",
       "dot_pol_title            0\n",
       "dot_sub_title            0\n",
       "dot_pol_title_content    0\n",
       "review_content2          0\n",
       "review_title2            0\n",
       "text_similarity          0\n",
       "bien                     0\n",
       "plus                     0\n",
       "qualité                  0\n",
       "produit                  0\n",
       "bonne                    0\n",
       "prix                     0\n",
       "tres                     0\n",
       "super                    0\n",
       "vraiment                 0\n",
       "belle                    0\n",
       "pratique                 0\n",
       "petit                    0\n",
       "                        ..\n",
       "marque                   0\n",
       "taille                   0\n",
       "mettre                   0\n",
       "photos                   0\n",
       "avis                     0\n",
       "jamais                   0\n",
       "dommage                  0\n",
       "sympa                    0\n",
       "efficace                 0\n",
       "histoire                 0\n",
       "meme                     0\n",
       "série                    0\n",
       "plaisir                  0\n",
       "vrai                     0\n",
       "joli                     0\n",
       "monde                    0\n",
       "fonctionne               0\n",
       "utiliser                 0\n",
       "attention                0\n",
       "enfants                  0\n",
       "meilleur                 0\n",
       "solide                   0\n",
       "génial                   0\n",
       "adore                    0\n",
       "aime                     0\n",
       "lire                     0\n",
       "quelques                 0\n",
       "indispensable            0\n",
       "celui                    0\n",
       "excellente               0\n",
       "Length: 118, dtype: int64"
      ]
     },
     "execution_count": 29,
     "metadata": {},
     "output_type": "execute_result"
    }
   ],
   "source": [
    "train.isnull().sum()"
   ]
  },
  {
   "cell_type": "code",
   "execution_count": 30,
   "metadata": {
    "collapsed": false
   },
   "outputs": [
    {
     "data": {
      "text/plain": [
       "review_content           0\n",
       "review_title             0\n",
       "review_stars             0\n",
       "count_content            0\n",
       "count_title              0\n",
       "polarity_content         0\n",
       "polarity_title           0\n",
       "subjectivity_content     0\n",
       "subjectivity_title       0\n",
       "dot_pol_content          0\n",
       "dot_sub_content          0\n",
       "dot_pol_title            0\n",
       "dot_sub_title            0\n",
       "dot_pol_title_content    0\n",
       "review_content2          0\n",
       "review_title2            0\n",
       "text_similarity          0\n",
       "bien                     0\n",
       "plus                     0\n",
       "qualité                  0\n",
       "produit                  0\n",
       "bonne                    0\n",
       "prix                     0\n",
       "tres                     0\n",
       "super                    0\n",
       "vraiment                 0\n",
       "belle                    0\n",
       "pratique                 0\n",
       "petit                    0\n",
       "excellent                0\n",
       "                        ..\n",
       "marque                   0\n",
       "taille                   0\n",
       "mettre                   0\n",
       "photos                   0\n",
       "avis                     0\n",
       "jamais                   0\n",
       "dommage                  0\n",
       "sympa                    0\n",
       "efficace                 0\n",
       "histoire                 0\n",
       "meme                     0\n",
       "série                    0\n",
       "plaisir                  0\n",
       "vrai                     0\n",
       "joli                     0\n",
       "monde                    0\n",
       "fonctionne               0\n",
       "utiliser                 0\n",
       "attention                0\n",
       "enfants                  0\n",
       "meilleur                 0\n",
       "solide                   0\n",
       "génial                   0\n",
       "adore                    0\n",
       "aime                     0\n",
       "lire                     0\n",
       "quelques                 0\n",
       "indispensable            0\n",
       "celui                    0\n",
       "excellente               0\n",
       "Length: 117, dtype: int64"
      ]
     },
     "execution_count": 30,
     "metadata": {},
     "output_type": "execute_result"
    }
   ],
   "source": [
    "test.isnull().sum()"
   ]
  },
  {
   "cell_type": "markdown",
   "metadata": {},
   "source": [
    "## Machine Learning : Classification à l'aide d'un Random Forest"
   ]
  },
  {
   "cell_type": "markdown",
   "metadata": {},
   "source": [
    "Mon choix s'est orienté vers ce classifieur d'amblée parce qu'il est très robuste à l'overfitting. Par ailleurs, il permet de donner l'importance de chaque feature dans sa classification."
   ]
  },
  {
   "cell_type": "code",
   "execution_count": 31,
   "metadata": {
    "collapsed": true
   },
   "outputs": [],
   "source": [
    "# ML imports\n",
    "from sklearn.model_selection import StratifiedShuffleSplit\n",
    "import sklearn.ensemble as ske\n",
    "from sklearn.metrics import roc_auc_score\n",
    "from sklearn.metrics import confusion_matrix"
   ]
  },
  {
   "cell_type": "markdown",
   "metadata": {},
   "source": [
    "On élimine les colonnes non numériques:"
   ]
  },
  {
   "cell_type": "code",
   "execution_count": 32,
   "metadata": {
    "collapsed": false
   },
   "outputs": [],
   "source": [
    "numeric_feats = train.dtypes[train.dtypes != \"object\"].index\n",
    "train = train[numeric_feats]"
   ]
  },
  {
   "cell_type": "code",
   "execution_count": 33,
   "metadata": {
    "collapsed": true
   },
   "outputs": [],
   "source": [
    "y = train.Target \n",
    "# Drop Target column\n",
    "train.drop(\"Target\", axis = 1, inplace = True) "
   ]
  },
  {
   "cell_type": "markdown",
   "metadata": {},
   "source": [
    "On regarde la corrélation des données:"
   ]
  },
  {
   "cell_type": "code",
   "execution_count": 34,
   "metadata": {
    "collapsed": false
   },
   "outputs": [
    {
     "data": {
      "text/plain": [
       "<matplotlib.axes._subplots.AxesSubplot at 0x1fb96792278>"
      ]
     },
     "execution_count": 34,
     "metadata": {},
     "output_type": "execute_result"
    },
    {
     "data": {
      "image/png": "[encoded data removed]",
      "text/plain": [
       "<matplotlib.figure.Figure at 0x1fb96863470>"
      ]
     },
     "metadata": {},
     "output_type": "display_data"
    }
   ],
   "source": [
    "train_corr = pd.concat([train],axis=1)\n",
    "corr = train_corr.corr()\n",
    "\n",
    "sns.heatmap(corr)\n"
   ]
  },
  {
   "cell_type": "markdown",
   "metadata": {},
   "source": [
    "Les données ont l'air assez indépendantes dans l'ensemble, sauf pour les données de consistences qui sont là seulement pour de l'ajustement."
   ]
  },
  {
   "cell_type": "markdown",
   "metadata": {},
   "source": [
    "On évalue notre classification sur les données train via roc_auc_score:"
   ]
  },
  {
   "cell_type": "code",
   "execution_count": 35,
   "metadata": {
    "collapsed": false
   },
   "outputs": [
    {
     "name": "stdout",
     "output_type": "stream",
     "text": [
      "roc auc score 0.678465151833\n",
      "[[ 6417  6938]\n",
      " [ 4138 12507]]\n",
      "1. feature 1 (0.090324)\n",
      "2. feature 7 (0.077377)\n",
      "3. feature 3 (0.077168)\n",
      "4. feature 8 (0.070970)\n",
      "5. feature 5 (0.069973)\n",
      "6. feature 12 (0.052991)\n",
      "7. feature 2 (0.045544)\n",
      "8. feature 11 (0.044229)\n",
      "9. feature 9 (0.031535)\n",
      "10. feature 4 (0.029502)\n",
      "roc auc score 0.672749124217\n",
      "[[ 6240  7115]\n",
      " [ 4126 12519]]\n",
      "1. feature 1 (0.092666)\n",
      "2. feature 3 (0.077743)\n",
      "3. feature 7 (0.077599)\n",
      "4. feature 8 (0.070475)\n",
      "5. feature 5 (0.069527)\n",
      "6. feature 12 (0.053409)\n",
      "7. feature 2 (0.046327)\n",
      "8. feature 11 (0.044061)\n",
      "9. feature 9 (0.031621)\n",
      "10. feature 4 (0.029711)\n",
      "roc auc score 0.672667453088\n",
      "[[ 6316  7039]\n",
      " [ 4240 12405]]\n",
      "1. feature 1 (0.089763)\n",
      "2. feature 3 (0.077414)\n",
      "3. feature 7 (0.076791)\n",
      "4. feature 5 (0.070597)\n",
      "5. feature 8 (0.069779)\n",
      "6. feature 12 (0.054885)\n",
      "7. feature 2 (0.047281)\n",
      "8. feature 11 (0.043537)\n",
      "9. feature 9 (0.031717)\n",
      "10. feature 10 (0.030316)\n",
      "roc auc score 0.671175397354\n",
      "[[ 6198  7157]\n",
      " [ 4168 12477]]\n",
      "1. feature 1 (0.091143)\n",
      "2. feature 7 (0.077685)\n",
      "3. feature 3 (0.076877)\n",
      "4. feature 8 (0.071120)\n",
      "5. feature 5 (0.070378)\n",
      "6. feature 12 (0.054873)\n",
      "7. feature 2 (0.045495)\n",
      "8. feature 11 (0.043975)\n",
      "9. feature 9 (0.031261)\n",
      "10. feature 4 (0.029383)\n",
      "roc auc score 0.675824858229\n",
      "[[ 6224  7130]\n",
      " [ 3938 12708]]\n",
      "1. feature 1 (0.091597)\n",
      "2. feature 7 (0.077887)\n",
      "3. feature 3 (0.077252)\n",
      "4. feature 8 (0.070820)\n",
      "5. feature 5 (0.070768)\n",
      "6. feature 12 (0.053190)\n",
      "7. feature 2 (0.046502)\n",
      "8. feature 11 (0.043191)\n",
      "9. feature 9 (0.031859)\n",
      "10. feature 10 (0.028911)\n"
     ]
    }
   ],
   "source": [
    "skf =StratifiedShuffleSplit(n_splits=5, test_size=0.5, random_state=0)\n",
    "for train_is,test_is in skf.split(train,y):\n",
    "    X_train = train.iloc[train_is]\n",
    "    y_train = y.iloc[train_is]\n",
    "    X_test = train.iloc[test_is]\n",
    "    y_test = y.iloc[test_is]\n",
    "    clf = ske.RandomForestClassifier(n_estimators=100,random_state=0)\n",
    "    clf.fit(X_train,y_train)\n",
    "    y_proba = clf.predict_proba(X_test)\n",
    "    print('roc auc score', roc_auc_score(y_test,y_proba[:,1]))\n",
    "    y_predic = clf.predict(X_test)\n",
    "    cm = confusion_matrix(y_test, y_predic)\n",
    "    print(cm)\n",
    "    importances = clf.feature_importances_\n",
    "    indices = np.argsort(importances)[::-1]\n",
    "    top_features = 10\n",
    "    for f in range(top_features):\n",
    "        print(\"%d. feature %d (%f)\"%(f+1,indices[f],importances[indices[f]]))"
   ]
  },
  {
   "cell_type": "markdown",
   "metadata": {},
   "source": [
    "Finalement, on évalue notre modèle sur les données test:"
   ]
  },
  {
   "cell_type": "code",
   "execution_count": 36,
   "metadata": {
    "collapsed": false
   },
   "outputs": [],
   "source": [
    "numeric_feats = test.dtypes[test.dtypes != \"object\"].index\n",
    "test = test[numeric_feats]"
   ]
  },
  {
   "cell_type": "code",
   "execution_count": 37,
   "metadata": {
    "collapsed": false
   },
   "outputs": [],
   "source": [
    "clf = ske.RandomForestClassifier(n_estimators=100,random_state=0)\n",
    "clf.fit(train,y)\n",
    "y_proba = clf.predict_proba(test)"
   ]
  },
  {
   "cell_type": "markdown",
   "metadata": {},
   "source": [
    "On extraie la probabilité que l'avis soit de classe 1. Puis on cré le dataframe de sortie result_data, pour enregister le résultat dans le fichier csv"
   ]
  },
  {
   "cell_type": "code",
   "execution_count": 38,
   "metadata": {
    "collapsed": false
   },
   "outputs": [],
   "source": [
    "prob_utile = np.zeros(test.shape[0])\n",
    "i = 0\n",
    "for proba0,proba1 in y_proba:\n",
    "    prob_utile[i]= proba1\n",
    "    i=i+1"
   ]
  },
  {
   "cell_type": "code",
   "execution_count": 39,
   "metadata": {
    "collapsed": false
   },
   "outputs": [],
   "source": [
    "prob_utile_data = pd.DataFrame({'Target':prob_utile})"
   ]
  },
  {
   "cell_type": "code",
   "execution_count": 40,
   "metadata": {
    "collapsed": false
   },
   "outputs": [],
   "source": [
    "result_data = pd.concat([testID,prob_utile_data],axis=1)"
   ]
  },
  {
   "cell_type": "code",
   "execution_count": 41,
   "metadata": {
    "collapsed": true
   },
   "outputs": [],
   "source": [
    "result_data.set_index('ID',inplace=True)"
   ]
  },
  {
   "cell_type": "code",
   "execution_count": 42,
   "metadata": {
    "collapsed": false
   },
   "outputs": [],
   "source": [
    "result_data.to_csv('sylvain_submission.csv',sep=';')"
   ]
  }
 ],
 "metadata": {
  "kernelspec": {
   "display_name": "Python 3",
   "language": "python",
   "name": "python3"
  },
  "language_info": {
   "codemirror_mode": {
    "name": "ipython",
    "version": 3
   },
   "file_extension": ".py",
   "mimetype": "text/x-python",
   "name": "python",
   "nbconvert_exporter": "python",
   "pygments_lexer": "ipython3",
   "version": "3.6.0"
  }
 },
 "nbformat": 4,
 "nbformat_minor": 2
}
