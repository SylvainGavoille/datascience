{
 "cells": [
  {
   "cell_type": "markdown",
   "metadata": {},
   "source": [
    "## Entrée Chicago Recommendation\n",
    "\n",
    "## Introduction\n",
    "Le jeu de données contient des recommandations de restaurants interactives pour chaque utilisateur. L'utilisateur peut interagir avec chaque nouvelle proposition de recommandation. L'objectif est, à partir de la séquence de restaurants observée et des interactions réalisées par l'utilisateur, de prédire le restaurant désiré. J'ai choisi de seulement prédire le choix final, et pas les séquences intermédiaires, afin de ne pas apprendre le système de recommandation en place. Cela permet de réduire l'effet de biais. Mon objectif est de réaliser la meilleure prédiction afin de satisfaire au mieux l'utilisateur. Ma métrique d'évaluation se basera sur la qualité de la recommandation réalisée à la vue du parcours de l'utilisateur.\n",
    "\n",
    "En résumé, nous devons prédire une classe à partir d'une séquence. La solution que j'ai retenue est une approche type Deep Learning avec l'utilisation d'un Réseau de Neurones Récurrents.\n",
    "\n",
    "\n"
   ]
  },
  {
   "cell_type": "markdown",
   "metadata": {},
   "source": [
    "## Préparation des données pour l'entrainement\n",
    "### Chargement des données et packages"
   ]
  },
  {
   "cell_type": "code",
   "execution_count": 1,
   "metadata": {},
   "outputs": [],
   "source": [
    "# chargement des packages\n",
    "import os\n",
    "import re\n",
    "import pandas as pd\n",
    "from tensorflow.keras.preprocessing.sequence import pad_sequences\n",
    "import numpy as np\n",
    "from tensorflow.keras.layers import Dropout,concatenate,Embedding,LSTM,Input, Dense,BatchNormalization\n",
    "from tensorflow.keras.callbacks import ModelCheckpoint\n",
    "from tensorflow.keras.models import Model, load_model\n",
    "from tensorflow.keras.utils import plot_model\n",
    "from tensorflow.keras.callbacks import Callback\n",
    "import matplotlib.pyplot as plt\n",
    "# indication du positionnement des données dans l'arborescence\n",
    "session_dir = './entree/session'\n",
    "data_dir = './entree/data'"
   ]
  },
  {
   "cell_type": "markdown",
   "metadata": {},
   "source": [
    "### Extraction des données de session"
   ]
  },
  {
   "cell_type": "code",
   "execution_count": 2,
   "metadata": {},
   "outputs": [],
   "source": [
    "# extraction des données de session\n",
    "\n",
    "labels = [] # End point\n",
    "\n",
    "# je lis les fichiers et je remplis les tableaux\n",
    "list_session = os.listdir(session_dir)\n",
    "for file in filter(lambda x:\"session\" in x, list_session):\n",
    "    with open(os.path.join(session_dir,file)) as f:\n",
    "        lines = f.read().splitlines()\n",
    "        for line in lines:\n",
    "            content = line.split('\\t')\n",
    "            label = int(content[-1])\n",
    "            # je supprime les séquences sans label qui n'apporte rien dans mon approche du problème\n",
    "            if label == -1:\n",
    "                continue\n",
    "            labels.append(label)\n"
   ]
  },
  {
   "cell_type": "markdown",
   "metadata": {},
   "source": [
    "Après collecte des données, nous avons 618 classes en tout, avec certaines peu représentées. Nous les avons gardées lors de l'apprentissage. Soyons conscients qu'elles détérioreront la qualité de nos prédictions."
   ]
  },
  {
   "cell_type": "code",
   "execution_count": 3,
   "metadata": {},
   "outputs": [
    {
     "data": {
      "text/plain": [
       "count    618.000000\n",
       "mean      72.135922\n",
       "std       92.213572\n",
       "min        1.000000\n",
       "25%       16.000000\n",
       "50%       44.500000\n",
       "75%       92.000000\n",
       "max      773.000000\n",
       "dtype: float64"
      ]
     },
     "execution_count": 3,
     "metadata": {},
     "output_type": "execute_result"
    },
    {
     "data": {
      "image/png": "[encoded data removed]",
      "text/plain": [
       "<Figure size 432x288 with 1 Axes>"
      ]
     },
     "metadata": {
      "needs_background": "light"
     },
     "output_type": "display_data"
    }
   ],
   "source": [
    "from collections import Counter\n",
    "\n",
    "size_dict = len(Counter(labels).keys())\n",
    "counts = list(Counter(labels).values())\n",
    "pd.Series(counts).plot(kind=\"kde\")\n",
    "pd.Series(counts).describe()"
   ]
  },
  {
   "cell_type": "markdown",
   "metadata": {},
   "source": [
    "Désormais, éliminons les labels pour lesquels on a peu de données. Ils pénaliseront la performance de notre modèle. On gardera seulement les labels avec plus de 100 recommendations."
   ]
  },
  {
   "cell_type": "code",
   "execution_count": 4,
   "metadata": {},
   "outputs": [],
   "source": [
    "no_keep_labels = []\n",
    "for x,y in Counter(labels).items():\n",
    "    if y<70:\n",
    "        no_keep_labels.append(x)"
   ]
  },
  {
   "cell_type": "code",
   "execution_count": 5,
   "metadata": {},
   "outputs": [
    {
     "name": "stdout",
     "output_type": "stream",
     "text": [
      "session.1996-Q3\n",
      "session.1996-Q4\n",
      "session.1997-Q1\n",
      "session.1997-Q2\n",
      "session.1997-Q3\n",
      "session.1997-Q4\n",
      "session.1998-Q1\n",
      "session.1998-Q2\n",
      "session.1998-Q3\n",
      "session.1998-Q4\n",
      "session.1999-Q1\n",
      "session.1999-Q2\n"
     ]
    }
   ],
   "source": [
    "# extraction des données de session\n",
    "\n",
    "restaurant_seq = [] # sequence de Rated restaurant1,..,Rated restaurantN\n",
    "browser_seq = [] # sequence interaction utilisateur\n",
    "labels = [] # End point\n",
    "entry = [] # Entry point\n",
    "\n",
    "def pick_number(x):\n",
    "    \"\"\" Function extracting from a string numerical values\n",
    "    \"\"\"\n",
    "    return int(re.sub(\"[^0-9]\", \"\", x))\n",
    "\n",
    "# je lis les fichiers et je remplis les tableaux\n",
    "list_session = os.listdir(session_dir)\n",
    "for file in filter(lambda x:\"session\" in x, list_session):\n",
    "    print(file)\n",
    "    with open(os.path.join(session_dir,file)) as f:\n",
    "        lines = f.read().splitlines()\n",
    "        for line in lines:\n",
    "            content = line.split('\\t')\n",
    "            label = int(content[-1])\n",
    "            # je supprime les séquences sans label qui n'apporte rien dans mon approche du problème\n",
    "            if label == -1 or label in no_keep_labels:\n",
    "                continue\n",
    "            labels.append(label)\n",
    "            entry.append(content[2])\n",
    "            restaurant_seq.append(list(map(pick_number, content[3:-1])))\n",
    "            browser_seq.append(list(map(lambda x:x[-1], content[3:-1])))"
   ]
  },
  {
   "cell_type": "code",
   "execution_count": 6,
   "metadata": {},
   "outputs": [
    {
     "data": {
      "text/plain": [
       "count    208.000000\n",
       "mean     159.543269\n",
       "std      113.828662\n",
       "min       70.000000\n",
       "25%       92.000000\n",
       "50%      115.500000\n",
       "75%      178.250000\n",
       "max      773.000000\n",
       "dtype: float64"
      ]
     },
     "execution_count": 6,
     "metadata": {},
     "output_type": "execute_result"
    },
    {
     "data": {
      "image/png": "[encoded data removed]",
      "text/plain": [
       "<Figure size 432x288 with 1 Axes>"
      ]
     },
     "metadata": {
      "needs_background": "light"
     },
     "output_type": "display_data"
    }
   ],
   "source": [
    "from collections import Counter\n",
    "\n",
    "size_dict = len(Counter(labels).keys())\n",
    "counts = list(Counter(labels).values())\n",
    "pd.Series(counts).plot(kind=\"kde\")\n",
    "pd.Series(counts).describe()"
   ]
  },
  {
   "cell_type": "code",
   "execution_count": 7,
   "metadata": {},
   "outputs": [
    {
     "data": {
      "text/plain": [
       "208"
      ]
     },
     "execution_count": 7,
     "metadata": {},
     "output_type": "execute_result"
    }
   ],
   "source": [
    "len(counts)"
   ]
  },
  {
   "cell_type": "markdown",
   "metadata": {},
   "source": [
    "### Extraction des features pour chaque restaurant\n",
    "\n",
    "Ici, nous allons stocker dans _restaurant_encoding_ pour chaque ville et restaurant la liste des features. Nous pourrons l'utiliser par la suite pour réaliser l'encodage de chaque restaurant dans la séquence."
   ]
  },
  {
   "cell_type": "code",
   "execution_count": 8,
   "metadata": {},
   "outputs": [
    {
     "name": "stdout",
     "output_type": "stream",
     "text": [
      "atlanta\n",
      "boston\n",
      "chicago\n",
      "los_angeles\n",
      "new_orleans\n",
      "new_york\n",
      "san_francisco\n",
      "washington_dc\n"
     ]
    }
   ],
   "source": [
    "city_to_code = {'atlanta':'A','boston':'B','chicago':'C','los_angeles':'D',\n",
    "                'new_orleans':'E','new_york':'F','san_francisco':'G',\n",
    "                'washington_dc':'H'\n",
    "               }\n",
    "\n",
    "with open(os.path.join(data_dir,'features.txt')) as f:\n",
    "    lines = f.read().splitlines()\n",
    "    len_features = len(lines)\n",
    "\n",
    "list_data = os.listdir(data_dir)\n",
    "restaurant_encoding = dict()\n",
    "for file in filter(lambda x:not (\"feature\" in x or \"README\" in x), list_data):\n",
    "    print(file[:-4])\n",
    "    restaurant_encoding[city_to_code[file[:-4]]] = dict()\n",
    "    with open(os.path.join(data_dir,file)) as f:\n",
    "        lines = f.read().splitlines()\n",
    "        for line in lines:\n",
    "            content = line.split('\\t')\n",
    "            restaurant_encoding[city_to_code[file[:-4]]][int(content[0])] = [int(x) for x in content[2].split()]"
   ]
  },
  {
   "cell_type": "markdown",
   "metadata": {},
   "source": [
    "### Création des tables de correspondances\n",
    "\n",
    "Les index des restaurants donnés n'étant pas contigus, nous créons deux tables _restaurant_idx_ et _idx_restaurant_ afin de travailler une table d'index contigus. Et, nous créons une table d'encodage _encoding_browser_ pour les interactions utilisateurs. On réalise aussi des tables de correspondances pour les labels : _label_idx_ et _idx_label_."
   ]
  },
  {
   "cell_type": "code",
   "execution_count": 9,
   "metadata": {},
   "outputs": [],
   "source": [
    "# create restaurant_idx and idx_restaurant\n",
    "restaurant = set()\n",
    "for seq in restaurant_seq:\n",
    "    for x in seq:\n",
    "        restaurant.add(x)\n",
    "\n",
    "restaurant_idx = dict()\n",
    "idx_restaurant = dict()\n",
    "for i, w in enumerate(restaurant):\n",
    "    restaurant_idx[w] = i\n",
    "    idx_restaurant[i] = w\n",
    "len_emb = len(restaurant)\n",
    "browser=set()\n",
    "for seq in browser_seq:\n",
    "    for x in seq:\n",
    "        browser.add(x)\n",
    "\n",
    "encoding_browser = dict()\n",
    "decoding_browser = dict()\n",
    "for i, w in enumerate(browser):\n",
    "    encoding_browser[w] = i\n",
    "    decoding_browser[i] = w\n",
    "tweak_size = len(browser)\n",
    "\n",
    "label_for_idx = set()\n",
    "for label in labels:\n",
    "    label_for_idx.add(label)\n",
    "\n",
    "label_idx = dict()\n",
    "idx_label = dict()\n",
    "for i, w in enumerate(label_for_idx):\n",
    "    label_idx[w] = i\n",
    "    idx_label[i] = w\n"
   ]
  },
  {
   "cell_type": "markdown",
   "metadata": {},
   "source": [
    "### Création des séquences\n",
    "Dans cette partie, nous allons créer une séquence _idx_seq_ de tables de features à partir de la séquence de restaurants _restaurant_seq_ et _entry_ le cas échéant. Et, on crée la séquence _browser_encoded_seq_ contenant la séquence encodée des interactions utilisateurs."
   ]
  },
  {
   "cell_type": "code",
   "execution_count": 10,
   "metadata": {},
   "outputs": [],
   "source": [
    "# map sequences with restaurant_idx\n",
    "idx_seq = []\n",
    "max_seq = 0\n",
    "\n",
    "for i,seq in enumerate(restaurant_seq):\n",
    "    tmp = list()\n",
    "    if entry[i]!='0':\n",
    "        city = entry[i][-1]\n",
    "        code = int(entry[i][:-1])\n",
    "        tmp.append(restaurant_encoding[city][code])\n",
    "    for x in map(lambda x:restaurant_encoding[\"C\"][x], seq):\n",
    "        tmp.append(x)\n",
    "    idx_seq.append(tmp)\n",
    "    max_seq = max(max_seq, len(tmp))\n",
    "\n",
    "browser_encoded_seq = []\n",
    "for seq in browser_seq:\n",
    "    browser_encoded_seq.append(list(map(lambda x:encoding_browser[x], seq)))"
   ]
  },
  {
   "cell_type": "markdown",
   "metadata": {},
   "source": [
    "Ici, on réalise le OneHotEncoding des séquences concaténées _idx_seq_ et _browser_encoded_seq_ créées précédemment. Ce seront les données d'entrées qui nourriront notre modèle. Elles sont stockées dans _encoded_seq_. Et, on va remplir _y_ pour préparer l'entraînement en réalisant le OneHotEncoding. Aussi, dans _restaurant_entry_seq_, je rajoute la séquence des restaurants afin de pouvoir réaliser une embedding type word2vec dessus."
   ]
  },
  {
   "cell_type": "code",
   "execution_count": 11,
   "metadata": {},
   "outputs": [],
   "source": [
    "restaurant_entry_seq = []\n",
    "for i,seq in enumerate(restaurant_seq):\n",
    "    tmp = list()\n",
    "    if entry[i]!='0':\n",
    "        tmp.append(0)\n",
    "    for x in map(lambda x:restaurant_idx[x], seq):\n",
    "        tmp.append(x)\n",
    "    restaurant_entry_seq.append(tmp)\n",
    "\n",
    "encoded_seq = []\n",
    "for seq1, seq2 in zip(idx_seq,browser_encoded_seq):\n",
    "    a= np.zeros((len(seq1), len_features+tweak_size), dtype=np.int8)\n",
    "    for i, x in enumerate(seq1):\n",
    "        a[i, x] = 1\n",
    "    for i, x in enumerate(seq2):\n",
    "        a[i, x+len_features] = 1\n",
    "    encoded_seq.append(list(a))\n",
    "    \n",
    "idx_lab = []\n",
    "for lab in labels:\n",
    "    idx_lab.append(label_idx[lab])\n",
    "y = np.zeros((len(idx_lab), size_dict), dtype=np.int8)"
   ]
  },
  {
   "cell_type": "markdown",
   "metadata": {},
   "source": [
    "Pour les données d'entrée du modèle __X__ et __X_emb__, on réalise un padding des séquences. On fixe la longueur de la séquence __max_seq__ à 60 correspondant à la longueur maximale des séquences. Ceci est un hyperparamètre qu'il s'agirait d'optimiser afin d'améliorer les performances."
   ]
  },
  {
   "cell_type": "code",
   "execution_count": 12,
   "metadata": {},
   "outputs": [
    {
     "data": {
      "text/plain": [
       "(33185, 208)"
      ]
     },
     "execution_count": 12,
     "metadata": {},
     "output_type": "execute_result"
    }
   ],
   "source": [
    "y.shape"
   ]
  },
  {
   "cell_type": "code",
   "execution_count": 13,
   "metadata": {},
   "outputs": [],
   "source": [
    "#max_seq = 60\n",
    "X = pad_sequences(encoded_seq, maxlen=max_seq)\n",
    "X_emb = pad_sequences(restaurant_entry_seq, maxlen=max_seq)\n",
    "\n",
    "for idx, lab_idx in enumerate(idx_lab):\n",
    "    y[idx, lab_idx] = 1"
   ]
  },
  {
   "cell_type": "markdown",
   "metadata": {},
   "source": [
    "## Modèle Deep Learning du sytème de recommendation"
   ]
  },
  {
   "cell_type": "markdown",
   "metadata": {},
   "source": [
    "On crée naturellement notre jeu d'entraînement et de test."
   ]
  },
  {
   "cell_type": "code",
   "execution_count": 14,
   "metadata": {},
   "outputs": [],
   "source": [
    "from sklearn.model_selection import train_test_split\n",
    "X_train, X_test, X_emb_train, X_emb_test, y_train, y_test = train_test_split(X, X_emb, y, test_size=0.2, random_state=42)\n"
   ]
  },
  {
   "cell_type": "markdown",
   "metadata": {},
   "source": [
    "### Création du modèle"
   ]
  },
  {
   "cell_type": "code",
   "execution_count": 15,
   "metadata": {},
   "outputs": [],
   "source": [
    "embedding_size = 128\n",
    "dense_size = 64\n",
    "def create_model(max_seq, embedding_size, dense_size):\n",
    "    inp = Input(shape=(max_seq,len_features+tweak_size))\n",
    "    inp_emb = Input(shape=(max_seq))\n",
    "    emb = Embedding(\n",
    "        input_dim=len_emb+1,\n",
    "        output_dim=embedding_size,\n",
    "        weights=None,\n",
    "        trainable=True)(inp_emb)\n",
    "#    out1 = Dense(embedding_size, activation='relu')(inp)\n",
    "    merged = concatenate([(emb),(inp)])\n",
    "#    out2 = Dense(embedding_size, activation='relu')(merged)\n",
    "#    dropout1 = Dropout(0.5)(out2)\n",
    "#    batchn = BatchNormalization()(dropout1)\n",
    "    lstm1 = LSTM(\n",
    "            embedding_size, dropout=0.1,return_sequences=True,\n",
    "            recurrent_dropout=0.1)(merged)\n",
    "    lstm2 = LSTM(\n",
    "            embedding_size, return_sequences=False, dropout=0.1,\n",
    "            recurrent_dropout=0.1)(lstm1)\n",
    "    dense1 = Dense(dense_size, activation='relu')(lstm2)\n",
    "    batchn2 = BatchNormalization()(dense1)\n",
    "    dropout2 = Dropout(0.5)(batchn2)\n",
    "    output = Dense(size_dict, activation='softmax')(dropout2)\n",
    "\n",
    "    model = Model(inputs= [inp, inp_emb], outputs=output)\n",
    "    return model\n",
    "\n",
    "model = create_model(max_seq, embedding_size, dense_size)\n",
    "model.compile(optimizer='adam', loss='categorical_crossentropy', metrics=['accuracy'])"
   ]
  },
  {
   "cell_type": "code",
   "execution_count": 16,
   "metadata": {},
   "outputs": [],
   "source": [
    "# emplacement du fichier de checkpoint\n",
    "filepath=\"weights.best.hdf5\"\n",
    "# Chargement du modèle pré-entrainé \n",
    "# model = load_model(filepath)"
   ]
  },
  {
   "cell_type": "markdown",
   "metadata": {},
   "source": [
    "Le modèle est constitué d'une couche dense permettant de capturer les interactions entre les features du restaurant et les interactions utilisateurs. On réduit à _embedding_size_ qui permet de réduire la dimension du problème et de capturer les informations essentielles. S'en suit la couche LSTM, qui elle permet de traiter la séquence et extraire les informations pertinentes au fur et à mesure des interactions. Puis, deux couches denses à nouveau, qui sont chargées de réaliser la classification."
   ]
  },
  {
   "cell_type": "code",
   "execution_count": 17,
   "metadata": {},
   "outputs": [
    {
     "name": "stdout",
     "output_type": "stream",
     "text": [
      "Model: \"model\"\n",
      "__________________________________________________________________________________________________\n",
      "Layer (type)                    Output Shape         Param #     Connected to                     \n",
      "==================================================================================================\n",
      "input_2 (InputLayer)            [(None, 59)]         0                                            \n",
      "__________________________________________________________________________________________________\n",
      "embedding (Embedding)           (None, 59, 128)      79872       input_2[0][0]                    \n",
      "__________________________________________________________________________________________________\n",
      "input_1 (InputLayer)            [(None, 59, 264)]    0                                            \n",
      "__________________________________________________________________________________________________\n",
      "concatenate (Concatenate)       (None, 59, 392)      0           embedding[0][0]                  \n",
      "                                                                 input_1[0][0]                    \n",
      "__________________________________________________________________________________________________\n",
      "lstm (LSTM)                     (None, 59, 128)      266752      concatenate[0][0]                \n",
      "__________________________________________________________________________________________________\n",
      "lstm_1 (LSTM)                   (None, 128)          131584      lstm[0][0]                       \n",
      "__________________________________________________________________________________________________\n",
      "dense (Dense)                   (None, 64)           8256        lstm_1[0][0]                     \n",
      "__________________________________________________________________________________________________\n",
      "batch_normalization (BatchNorma (None, 64)           256         dense[0][0]                      \n",
      "__________________________________________________________________________________________________\n",
      "dropout (Dropout)               (None, 64)           0           batch_normalization[0][0]        \n",
      "__________________________________________________________________________________________________\n",
      "dense_1 (Dense)                 (None, 208)          13520       dropout[0][0]                    \n",
      "==================================================================================================\n",
      "Total params: 500,240\n",
      "Trainable params: 500,112\n",
      "Non-trainable params: 128\n",
      "__________________________________________________________________________________________________\n"
     ]
    }
   ],
   "source": [
    "model.summary()"
   ]
  },
  {
   "cell_type": "markdown",
   "metadata": {},
   "source": [
    "Ici, on peut voir une représentation graphique du modèle avec en entrée de la couche dense la concaténation des vecteurs OneHotEncoding des actions utilisateurs et des caractéristiques restaurants, et en entrée de l'embedding l'id des restaurants."
   ]
  },
  {
   "cell_type": "code",
   "execution_count": 18,
   "metadata": {},
   "outputs": [
    {
     "data": {
      "image/png": "[encoded data removed]",
      "text/plain": [
       "<IPython.core.display.Image object>"
      ]
     },
     "execution_count": 18,
     "metadata": {},
     "output_type": "execute_result"
    }
   ],
   "source": [
    "plot_model(model, to_file='output/model.png')\n"
   ]
  },
  {
   "cell_type": "markdown",
   "metadata": {},
   "source": [
    "Ici, je charge une classe afin de tracer l'évolution de l'entraînement au fur à mesure des epochs."
   ]
  },
  {
   "cell_type": "code",
   "execution_count": 19,
   "metadata": {},
   "outputs": [],
   "source": [
    "class TrainingPlot(Callback):\n",
    "\n",
    "    # This function is called when the training begins\n",
    "    def on_train_begin(self, logs={}):\n",
    "        # Initialize the lists for holding the logs, losses and accuracies\n",
    "        self.losses = []\n",
    "        self.val_losses = []\n",
    "        self.logs = []\n",
    "\n",
    "    # This function is called at the end of each epoch\n",
    "    def on_epoch_end(self, epoch, logs={}):\n",
    "\n",
    "        # Append the logs, losses and accuracies to the lists\n",
    "        self.logs.append(logs)\n",
    "        self.losses.append(logs.get('loss'))\n",
    "        self.val_losses.append(logs.get('val_loss'))\n",
    "\n",
    "        # Before plotting ensure at least 2 epochs have passed\n",
    "        if len(self.losses) > 1:\n",
    "\n",
    "            N = np.arange(0, len(self.losses))\n",
    "\n",
    "            # You can chose the style of your preference\n",
    "            # print(plt.style.available) to see the available options\n",
    "            #plt.style.use(\"seaborn\")\n",
    "\n",
    "            # Plot train loss, val loss  against epochs passed\n",
    "            plt.figure()\n",
    "            plt.plot(N, self.losses, label = \"train_loss\")\n",
    "            plt.plot(N, self.val_losses, label = \"val_loss\")\n",
    "            plt.title(\"Training Loss [Epoch {}]\".format(epoch))\n",
    "            plt.xlabel(\"Epoch #\")\n",
    "            plt.ylabel(\"Loss/Accuracy\")\n",
    "            plt.legend()\n",
    "            # Make sure there exists a folder called output in the current directory\n",
    "            # or replace 'output' with whatever direcory you want to put in the plots\n",
    "            plt.savefig('output/Epoch-{}.png'.format(epoch))\n",
    "#             plt.show()\n",
    "            plt.close()"
   ]
  },
  {
   "cell_type": "markdown",
   "metadata": {},
   "source": [
    "On entraîne le modèle:"
   ]
  },
  {
   "cell_type": "code",
   "execution_count": 20,
   "metadata": {},
   "outputs": [
    {
     "name": "stdout",
     "output_type": "stream",
     "text": [
      "Train on 26548 samples, validate on 6637 samples\n",
      "Epoch 1/20\n",
      "26528/26548 [============================>.] - ETA: 0s - loss: 4.1082 - accuracy: 0.1137\n",
      "Epoch 00001: val_accuracy improved from -inf to 0.22857, saving model to weights.best.hdf5\n",
      "26548/26548 [==============================] - 264s 10ms/sample - loss: 4.1078 - accuracy: 0.1137 - val_loss: 2.8813 - val_accuracy: 0.2286\n",
      "Epoch 2/20\n",
      "26528/26548 [============================>.] - ETA: 0s - loss: 2.9148 - accuracy: 0.2358\n",
      "Epoch 00002: val_accuracy improved from 0.22857 to 0.30601, saving model to weights.best.hdf5\n",
      "26548/26548 [==============================] - 223s 8ms/sample - loss: 2.9145 - accuracy: 0.2359 - val_loss: 2.4220 - val_accuracy: 0.3060\n",
      "Epoch 3/20\n",
      "26528/26548 [============================>.] - ETA: 0s - loss: 2.6108 - accuracy: 0.2883\n",
      "Epoch 00003: val_accuracy improved from 0.30601 to 0.34579, saving model to weights.best.hdf5\n",
      "26548/26548 [==============================] - 214s 8ms/sample - loss: 2.6108 - accuracy: 0.2884 - val_loss: 2.2585 - val_accuracy: 0.3458\n",
      "Epoch 4/20\n",
      "26528/26548 [============================>.] - ETA: 0s - loss: 2.4676 - accuracy: 0.3139\n",
      "Epoch 00004: val_accuracy improved from 0.34579 to 0.35935, saving model to weights.best.hdf5\n",
      "26548/26548 [==============================] - 208s 8ms/sample - loss: 2.4679 - accuracy: 0.3139 - val_loss: 2.1747 - val_accuracy: 0.3593\n",
      "Epoch 5/20\n",
      "26528/26548 [============================>.] - ETA: 0s - loss: 2.3870 - accuracy: 0.3359\n",
      "Epoch 00005: val_accuracy improved from 0.35935 to 0.37140, saving model to weights.best.hdf5\n",
      "26548/26548 [==============================] - 195s 7ms/sample - loss: 2.3869 - accuracy: 0.3360 - val_loss: 2.1158 - val_accuracy: 0.3714\n",
      "Epoch 6/20\n",
      "26528/26548 [============================>.] - ETA: 0s - loss: 2.3027 - accuracy: 0.3481\n",
      "Epoch 00006: val_accuracy did not improve from 0.37140\n",
      "26548/26548 [==============================] - 196s 7ms/sample - loss: 2.3031 - accuracy: 0.3480 - val_loss: 2.0814 - val_accuracy: 0.3690\n",
      "Epoch 7/20\n",
      "26528/26548 [============================>.] - ETA: 0s - loss: 2.2537 - accuracy: 0.3603 ETA: 3s - loss:\n",
      "Epoch 00007: val_accuracy improved from 0.37140 to 0.38617, saving model to weights.best.hdf5\n",
      "26548/26548 [==============================] - 224s 8ms/sample - loss: 2.2542 - accuracy: 0.3603 - val_loss: 2.0473 - val_accuracy: 0.3862\n",
      "Epoch 8/20\n",
      "26528/26548 [============================>.] - ETA: 0s - loss: 2.2038 - accuracy: 0.3666\n",
      "Epoch 00008: val_accuracy improved from 0.38617 to 0.39009, saving model to weights.best.hdf5\n",
      "26548/26548 [==============================] - 214s 8ms/sample - loss: 2.2044 - accuracy: 0.3665 - val_loss: 2.0449 - val_accuracy: 0.3901\n",
      "Epoch 9/20\n",
      "26528/26548 [============================>.] - ETA: 0s - loss: 2.1563 - accuracy: 0.3778\n",
      "Epoch 00009: val_accuracy improved from 0.39009 to 0.39973, saving model to weights.best.hdf5\n",
      "26548/26548 [==============================] - 224s 8ms/sample - loss: 2.1559 - accuracy: 0.3779 - val_loss: 2.0248 - val_accuracy: 0.3997\n",
      "Epoch 10/20\n",
      "26528/26548 [============================>.] - ETA: 0s - loss: 2.1272 - accuracy: 0.3828\n",
      "Epoch 00010: val_accuracy did not improve from 0.39973\n",
      "26548/26548 [==============================] - 210s 8ms/sample - loss: 2.1271 - accuracy: 0.3829 - val_loss: 2.0207 - val_accuracy: 0.3964\n",
      "Epoch 11/20\n",
      "26528/26548 [============================>.] - ETA: 0s - loss: 2.0959 - accuracy: 0.3915\n",
      "Epoch 00011: val_accuracy improved from 0.39973 to 0.40440, saving model to weights.best.hdf5\n",
      "26548/26548 [==============================] - 204s 8ms/sample - loss: 2.0962 - accuracy: 0.3916 - val_loss: 2.0101 - val_accuracy: 0.4044\n",
      "Epoch 12/20\n",
      "26528/26548 [============================>.] - ETA: 0s - loss: 2.0622 - accuracy: 0.4029\n",
      "Epoch 00012: val_accuracy improved from 0.40440 to 0.40741, saving model to weights.best.hdf5\n",
      "26548/26548 [==============================] - 203s 8ms/sample - loss: 2.0624 - accuracy: 0.4029 - val_loss: 1.9770 - val_accuracy: 0.4074\n",
      "Epoch 13/20\n",
      "26528/26548 [============================>.] - ETA: 0s - loss: 2.0328 - accuracy: 0.4082\n",
      "Epoch 00013: val_accuracy improved from 0.40741 to 0.40892, saving model to weights.best.hdf5\n",
      "26548/26548 [==============================] - 204s 8ms/sample - loss: 2.0326 - accuracy: 0.4082 - val_loss: 2.0030 - val_accuracy: 0.4089\n",
      "Epoch 14/20\n",
      "26528/26548 [============================>.] - ETA: 0s - loss: 2.0163 - accuracy: 0.4091\n",
      "Epoch 00014: val_accuracy did not improve from 0.40892\n",
      "26548/26548 [==============================] - 204s 8ms/sample - loss: 2.0160 - accuracy: 0.4092 - val_loss: 1.9889 - val_accuracy: 0.4070\n",
      "Epoch 15/20\n",
      "26528/26548 [============================>.] - ETA: 0s - loss: 1.9830 - accuracy: 0.4169\n",
      "Epoch 00015: val_accuracy improved from 0.40892 to 0.41148, saving model to weights.best.hdf5\n",
      "26548/26548 [==============================] - 204s 8ms/sample - loss: 1.9832 - accuracy: 0.4168 - val_loss: 1.9934 - val_accuracy: 0.4115\n",
      "Epoch 16/20\n",
      "26528/26548 [============================>.] - ETA: 0s - loss: 1.9602 - accuracy: 0.4205\n",
      "Epoch 00016: val_accuracy improved from 0.41148 to 0.41419, saving model to weights.best.hdf5\n",
      "26548/26548 [==============================] - 201s 8ms/sample - loss: 1.9598 - accuracy: 0.4206 - val_loss: 1.9868 - val_accuracy: 0.4142\n",
      "Epoch 17/20\n",
      "26528/26548 [============================>.] - ETA: 0s - loss: 1.9321 - accuracy: 0.4278\n",
      "Epoch 00017: val_accuracy did not improve from 0.41419\n",
      "26548/26548 [==============================] - 5289s 199ms/sample - loss: 1.9319 - accuracy: 0.4278 - val_loss: 1.9950 - val_accuracy: 0.4109\n",
      "Epoch 18/20\n",
      "26528/26548 [============================>.] - ETA: 0s - loss: 1.9270 - accuracy: 0.4319\n",
      "Epoch 00018: val_accuracy did not improve from 0.41419\n",
      "26548/26548 [==============================] - 228s 9ms/sample - loss: 1.9271 - accuracy: 0.4318 - val_loss: 1.9985 - val_accuracy: 0.4110\n",
      "Epoch 19/20\n",
      "26528/26548 [============================>.] - ETA: 0s - loss: 1.8893 - accuracy: 0.4380\n",
      "Epoch 00019: val_accuracy improved from 0.41419 to 0.42399, saving model to weights.best.hdf5\n",
      "26548/26548 [==============================] - 201s 8ms/sample - loss: 1.8895 - accuracy: 0.4379 - val_loss: 1.9937 - val_accuracy: 0.4240\n",
      "Epoch 20/20\n",
      "26528/26548 [============================>.] - ETA: 0s - loss: 1.8644 - accuracy: 0.4484\n",
      "Epoch 00020: val_accuracy did not improve from 0.42399\n",
      "26548/26548 [==============================] - 201s 8ms/sample - loss: 1.8645 - accuracy: 0.4483 - val_loss: 2.0143 - val_accuracy: 0.4122\n"
     ]
    },
    {
     "data": {
      "text/plain": [
       "<tensorflow.python.keras.callbacks.History at 0x2048f0b2988>"
      ]
     },
     "execution_count": 20,
     "metadata": {},
     "output_type": "execute_result"
    }
   ],
   "source": [
    "# checkpoint qui permet de stocker le meilleur modèle\n",
    "checkpoint = ModelCheckpoint(filepath, monitor='val_accuracy', verbose=1, save_best_only=True, mode='max')\n",
    "# callback qui permet de tracer l'évolution de l'entrainement\n",
    "plot_losses = TrainingPlot()\n",
    "callbacks_list = [checkpoint, plot_losses]\n",
    "\n",
    "epochs = 20\n",
    "\n",
    "model.fit([X_train,X_emb_train], y_train, epochs= epochs, validation_data=([X_test, X_emb_test], y_test), callbacks=callbacks_list)"
   ]
  },
  {
   "cell_type": "markdown",
   "metadata": {},
   "source": [
    "On visualise l'entraînement:"
   ]
  },
  {
   "cell_type": "code",
   "execution_count": 21,
   "metadata": {},
   "outputs": [
    {
     "data": {
      "image/png": "[encoded data removed]",
      "text/plain": [
       "<IPython.core.display.Image object>"
      ]
     },
     "execution_count": 21,
     "metadata": {},
     "output_type": "execute_result"
    }
   ],
   "source": [
    "from IPython.display import Image\n",
    "Image(filename='output/Epoch-{}.png'.format(epochs-1))"
   ]
  },
  {
   "cell_type": "markdown",
   "metadata": {},
   "source": [
    "25 epochs seulement auraient suffi."
   ]
  },
  {
   "cell_type": "markdown",
   "metadata": {},
   "source": [
    "## Evaluation du modèle\n",
    "\n",
    "Enfin, on évalue le modèle en regardant le rang, dans notre prédiction, du restaurant choisi par l'utilisateur. On voit que le quantile à 50% a un rang de 3."
   ]
  },
  {
   "cell_type": "code",
   "execution_count": 22,
   "metadata": {},
   "outputs": [],
   "source": [
    "# Chargement du meilleur modèle  \n",
    "model = load_model(filepath)"
   ]
  },
  {
   "cell_type": "code",
   "execution_count": 23,
   "metadata": {},
   "outputs": [
    {
     "data": {
      "text/plain": [
       "count    6637.000000\n",
       "mean        5.662799\n",
       "std        12.967487\n",
       "min         1.000000\n",
       "25%         1.000000\n",
       "50%         2.000000\n",
       "75%         6.000000\n",
       "max       204.000000\n",
       "dtype: float64"
      ]
     },
     "execution_count": 23,
     "metadata": {},
     "output_type": "execute_result"
    }
   ],
   "source": [
    "y_pred = model.predict([np.asarray(X_test, dtype=np.float32), np.asarray(X_emb_test, dtype=np.float32)])   \n",
    "rank = []\n",
    "for i in range(len(y_test)):\n",
    "    true_label=np.argmax(y_test[i])\n",
    "    pred_label=np.argmax(y_pred[i])\n",
    "    rank.append((size_dict-int(np.where(np.argsort(y_pred[i])== true_label)[0])))\n",
    "    \n",
    "pd.Series(rank).describe()"
   ]
  },
  {
   "cell_type": "code",
   "execution_count": 24,
   "metadata": {},
   "outputs": [
    {
     "data": {
      "text/plain": [
       "<matplotlib.axes._subplots.AxesSubplot at 0x2049efb35c8>"
      ]
     },
     "execution_count": 24,
     "metadata": {},
     "output_type": "execute_result"
    },
    {
     "data": {
      "image/png": "[encoded data removed]",
      "text/plain": [
       "<Figure size 432x288 with 1 Axes>"
      ]
     },
     "metadata": {
      "needs_background": "light"
     },
     "output_type": "display_data"
    }
   ],
   "source": [
    "pd.Series(rank).plot.hist(bins=50)"
   ]
  },
  {
   "cell_type": "markdown",
   "metadata": {},
   "source": [
    "Sur 339 classes, on a un quantile du rang à 95% de 28. Le classifieur performe plutôt bien."
   ]
  },
  {
   "cell_type": "code",
   "execution_count": 25,
   "metadata": {},
   "outputs": [
    {
     "data": {
      "text/plain": [
       "18.0"
      ]
     },
     "execution_count": 25,
     "metadata": {},
     "output_type": "execute_result"
    }
   ],
   "source": [
    "np.quantile(rank, 0.95)"
   ]
  },
  {
   "cell_type": "markdown",
   "metadata": {},
   "source": [
    "## Perspectives\n",
    "\n",
    "Pour la suite, nous pourrions nous intéresser au nettoyage des données, notamment la suppression d'outliers avec des classes peu fréquentes. Aussi, nous pourrions réaliser une étude hyper-paramétrique de notre réseau de neurones afin d'améliorer ses performances, en jouant sur les paramètres_ max_seq_, _embedding_size_ et _dense_size_ , mais aussi sur l'architecture en rajoutant des couches. Une couche intéressante à rajouter est une couche d' _Embedding_ en entrée. J'ai commencé à regarder cette approche et elle semble améliorer la performance."
   ]
  },
  {
   "cell_type": "code",
   "execution_count": null,
   "metadata": {},
   "outputs": [],
   "source": []
  }
 ],
 "metadata": {
  "kernelspec": {
   "display_name": "Python 3",
   "language": "python",
   "name": "python3"
  },
  "language_info": {
   "codemirror_mode": {
    "name": "ipython",
    "version": 3
   },
   "file_extension": ".py",
   "mimetype": "text/x-python",
   "name": "python",
   "nbconvert_exporter": "python",
   "pygments_lexer": "ipython3",
   "version": "3.7.6"
  }
 },
 "nbformat": 4,
 "nbformat_minor": 2
}
