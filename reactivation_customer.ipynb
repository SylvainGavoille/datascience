{
 "cells": [
  {
   "cell_type": "markdown",
   "id": "c290b77e",
   "metadata": {},
   "source": [
    "# Adikteev test\n",
    "\n",
    "Objective:\n",
    "- prediction of a click\n",
    "- prediction of conversion\n",
    "\n",
    "It seems, we are dealing here with 2 binary classifications problems"
   ]
  },
  {
   "cell_type": "markdown",
   "id": "02e15763",
   "metadata": {},
   "source": [
    "# load and explore data"
   ]
  },
  {
   "cell_type": "code",
   "execution_count": 1,
   "id": "a6b4fba6",
   "metadata": {},
   "outputs": [],
   "source": [
    "# import package for exploration\n",
    "import pandas as pd\n",
    "import matplotlib.pyplot as plt\n",
    "import seaborn as sns\n",
    "# system import\n",
    "import os\n",
    "import numpy as np\n",
    "import matplotlib.pyplot as plt\n",
    "\n",
    "plt.rcParams['figure.figsize'] = [14, 8]\n",
    "\n",
    "#fix random seed for reproductibility\n",
    "np.random.seed(42)"
   ]
  },
  {
   "cell_type": "code",
   "execution_count": 2,
   "id": "c423d9f3",
   "metadata": {},
   "outputs": [
    {
     "name": "stdout",
     "output_type": "stream",
     "text": [
      "adikteev_sylvain.ipynb  \u001b[0m\u001b[01;35manova.png\u001b[0m  campaign.csv  \u001b[01;31mcampaign.csv.gz\u001b[0m  \u001b[01;35mchi2.png\u001b[0m\r\n"
     ]
    }
   ],
   "source": [
    "%ls"
   ]
  },
  {
   "cell_type": "code",
   "execution_count": 3,
   "id": "06a7be25",
   "metadata": {},
   "outputs": [],
   "source": [
    "df = pd.read_csv(\"campaign.csv\")"
   ]
  },
  {
   "cell_type": "code",
   "execution_count": 4,
   "id": "2eb43818",
   "metadata": {},
   "outputs": [
    {
     "data": {
      "text/html": [
       "<div>\n",
       "<style scoped>\n",
       "    .dataframe tbody tr th:only-of-type {\n",
       "        vertical-align: middle;\n",
       "    }\n",
       "\n",
       "    .dataframe tbody tr th {\n",
       "        vertical-align: top;\n",
       "    }\n",
       "\n",
       "    .dataframe thead th {\n",
       "        text-align: right;\n",
       "    }\n",
       "</style>\n",
       "<table border=\"1\" class=\"dataframe\">\n",
       "  <thead>\n",
       "    <tr style=\"text-align: right;\">\n",
       "      <th></th>\n",
       "      <th>timestamp</th>\n",
       "      <th>admantx_art_and_entertainment</th>\n",
       "      <th>admantx_automotive</th>\n",
       "      <th>admantx_business</th>\n",
       "      <th>admantx_careers</th>\n",
       "      <th>admantx_education</th>\n",
       "      <th>admantx_family_and_parenting</th>\n",
       "      <th>admantx_health_and_fitness</th>\n",
       "      <th>admantx_food_and_drink</th>\n",
       "      <th>admantx_hobbies_and_interests</th>\n",
       "      <th>...</th>\n",
       "      <th>os</th>\n",
       "      <th>city</th>\n",
       "      <th>adSpacePrimaryThematic</th>\n",
       "      <th>deviceReferrer</th>\n",
       "      <th>formatId</th>\n",
       "      <th>containerId</th>\n",
       "      <th>advertiserId</th>\n",
       "      <th>creativeId</th>\n",
       "      <th>click</th>\n",
       "      <th>conversion</th>\n",
       "    </tr>\n",
       "  </thead>\n",
       "  <tbody>\n",
       "    <tr>\n",
       "      <th>0</th>\n",
       "      <td>1493337601</td>\n",
       "      <td>41.837</td>\n",
       "      <td>0.0</td>\n",
       "      <td>0.0</td>\n",
       "      <td>0.0</td>\n",
       "      <td>0.0</td>\n",
       "      <td>0.000</td>\n",
       "      <td>0.0</td>\n",
       "      <td>0.0</td>\n",
       "      <td>0.0</td>\n",
       "      <td>...</td>\n",
       "      <td>iOS</td>\n",
       "      <td>Bourg-les-valence</td>\n",
       "      <td>ART_AND_ENTERTAINMENT</td>\n",
       "      <td>other</td>\n",
       "      <td>111</td>\n",
       "      <td>8338</td>\n",
       "      <td>310</td>\n",
       "      <td>24595</td>\n",
       "      <td>0</td>\n",
       "      <td>0</td>\n",
       "    </tr>\n",
       "    <tr>\n",
       "      <th>1</th>\n",
       "      <td>1493337602</td>\n",
       "      <td>14.431</td>\n",
       "      <td>0.0</td>\n",
       "      <td>0.0</td>\n",
       "      <td>0.0</td>\n",
       "      <td>0.0</td>\n",
       "      <td>0.000</td>\n",
       "      <td>0.0</td>\n",
       "      <td>0.0</td>\n",
       "      <td>0.0</td>\n",
       "      <td>...</td>\n",
       "      <td>iOS</td>\n",
       "      <td>Joeuf</td>\n",
       "      <td>NEWS</td>\n",
       "      <td>other</td>\n",
       "      <td>111</td>\n",
       "      <td>8338</td>\n",
       "      <td>310</td>\n",
       "      <td>24595</td>\n",
       "      <td>0</td>\n",
       "      <td>0</td>\n",
       "    </tr>\n",
       "    <tr>\n",
       "      <th>2</th>\n",
       "      <td>1493337615</td>\n",
       "      <td>63.729</td>\n",
       "      <td>0.0</td>\n",
       "      <td>0.0</td>\n",
       "      <td>0.0</td>\n",
       "      <td>0.0</td>\n",
       "      <td>5.109</td>\n",
       "      <td>0.0</td>\n",
       "      <td>0.0</td>\n",
       "      <td>0.0</td>\n",
       "      <td>...</td>\n",
       "      <td>iOS</td>\n",
       "      <td>Aubervilliers</td>\n",
       "      <td>ART_AND_ENTERTAINMENT</td>\n",
       "      <td>other</td>\n",
       "      <td>111</td>\n",
       "      <td>8338</td>\n",
       "      <td>310</td>\n",
       "      <td>24595</td>\n",
       "      <td>0</td>\n",
       "      <td>0</td>\n",
       "    </tr>\n",
       "    <tr>\n",
       "      <th>3</th>\n",
       "      <td>1493337703</td>\n",
       "      <td>43.345</td>\n",
       "      <td>0.0</td>\n",
       "      <td>0.0</td>\n",
       "      <td>0.0</td>\n",
       "      <td>0.0</td>\n",
       "      <td>0.000</td>\n",
       "      <td>0.0</td>\n",
       "      <td>0.0</td>\n",
       "      <td>0.0</td>\n",
       "      <td>...</td>\n",
       "      <td>iOS</td>\n",
       "      <td>Vigneux-sur-seine</td>\n",
       "      <td>ART_AND_ENTERTAINMENT</td>\n",
       "      <td>other</td>\n",
       "      <td>111</td>\n",
       "      <td>8338</td>\n",
       "      <td>310</td>\n",
       "      <td>24595</td>\n",
       "      <td>0</td>\n",
       "      <td>0</td>\n",
       "    </tr>\n",
       "    <tr>\n",
       "      <th>4</th>\n",
       "      <td>1493337828</td>\n",
       "      <td>0.000</td>\n",
       "      <td>0.0</td>\n",
       "      <td>0.0</td>\n",
       "      <td>0.0</td>\n",
       "      <td>0.0</td>\n",
       "      <td>0.000</td>\n",
       "      <td>0.0</td>\n",
       "      <td>0.0</td>\n",
       "      <td>0.0</td>\n",
       "      <td>...</td>\n",
       "      <td>iOS</td>\n",
       "      <td>Barbey</td>\n",
       "      <td>ART_AND_ENTERTAINMENT</td>\n",
       "      <td>other</td>\n",
       "      <td>111</td>\n",
       "      <td>8338</td>\n",
       "      <td>310</td>\n",
       "      <td>24595</td>\n",
       "      <td>0</td>\n",
       "      <td>0</td>\n",
       "    </tr>\n",
       "  </tbody>\n",
       "</table>\n",
       "<p>5 rows × 135 columns</p>\n",
       "</div>"
      ],
      "text/plain": [
       "    timestamp  admantx_art_and_entertainment  admantx_automotive  \\\n",
       "0  1493337601                         41.837                 0.0   \n",
       "1  1493337602                         14.431                 0.0   \n",
       "2  1493337615                         63.729                 0.0   \n",
       "3  1493337703                         43.345                 0.0   \n",
       "4  1493337828                          0.000                 0.0   \n",
       "\n",
       "   admantx_business  admantx_careers  admantx_education  \\\n",
       "0               0.0              0.0                0.0   \n",
       "1               0.0              0.0                0.0   \n",
       "2               0.0              0.0                0.0   \n",
       "3               0.0              0.0                0.0   \n",
       "4               0.0              0.0                0.0   \n",
       "\n",
       "   admantx_family_and_parenting  admantx_health_and_fitness  \\\n",
       "0                         0.000                         0.0   \n",
       "1                         0.000                         0.0   \n",
       "2                         5.109                         0.0   \n",
       "3                         0.000                         0.0   \n",
       "4                         0.000                         0.0   \n",
       "\n",
       "   admantx_food_and_drink  admantx_hobbies_and_interests  ...   os  \\\n",
       "0                     0.0                            0.0  ...  iOS   \n",
       "1                     0.0                            0.0  ...  iOS   \n",
       "2                     0.0                            0.0  ...  iOS   \n",
       "3                     0.0                            0.0  ...  iOS   \n",
       "4                     0.0                            0.0  ...  iOS   \n",
       "\n",
       "                city  adSpacePrimaryThematic  deviceReferrer  formatId  \\\n",
       "0  Bourg-les-valence   ART_AND_ENTERTAINMENT           other       111   \n",
       "1              Joeuf                    NEWS           other       111   \n",
       "2      Aubervilliers   ART_AND_ENTERTAINMENT           other       111   \n",
       "3  Vigneux-sur-seine   ART_AND_ENTERTAINMENT           other       111   \n",
       "4             Barbey   ART_AND_ENTERTAINMENT           other       111   \n",
       "\n",
       "   containerId  advertiserId  creativeId  click  conversion  \n",
       "0         8338           310       24595      0           0  \n",
       "1         8338           310       24595      0           0  \n",
       "2         8338           310       24595      0           0  \n",
       "3         8338           310       24595      0           0  \n",
       "4         8338           310       24595      0           0  \n",
       "\n",
       "[5 rows x 135 columns]"
      ]
     },
     "execution_count": 4,
     "metadata": {},
     "output_type": "execute_result"
    }
   ],
   "source": [
    "df.head()"
   ]
  },
  {
   "cell_type": "code",
   "execution_count": 5,
   "id": "5568b845",
   "metadata": {},
   "outputs": [
    {
     "data": {
      "text/html": [
       "<div>\n",
       "<style scoped>\n",
       "    .dataframe tbody tr th:only-of-type {\n",
       "        vertical-align: middle;\n",
       "    }\n",
       "\n",
       "    .dataframe tbody tr th {\n",
       "        vertical-align: top;\n",
       "    }\n",
       "\n",
       "    .dataframe thead th {\n",
       "        text-align: right;\n",
       "    }\n",
       "</style>\n",
       "<table border=\"1\" class=\"dataframe\">\n",
       "  <thead>\n",
       "    <tr style=\"text-align: right;\">\n",
       "      <th></th>\n",
       "      <th>timestamp</th>\n",
       "      <th>admantx_art_and_entertainment</th>\n",
       "      <th>admantx_automotive</th>\n",
       "      <th>admantx_business</th>\n",
       "      <th>admantx_careers</th>\n",
       "      <th>admantx_education</th>\n",
       "      <th>admantx_family_and_parenting</th>\n",
       "      <th>admantx_health_and_fitness</th>\n",
       "      <th>admantx_food_and_drink</th>\n",
       "      <th>admantx_hobbies_and_interests</th>\n",
       "      <th>...</th>\n",
       "      <th>last30dAdClosingsOnAdvertiser</th>\n",
       "      <th>last30dAdClosingsOnContainer</th>\n",
       "      <th>last30dAdClosingsOnFormat</th>\n",
       "      <th>adSpaceId</th>\n",
       "      <th>formatId</th>\n",
       "      <th>containerId</th>\n",
       "      <th>advertiserId</th>\n",
       "      <th>creativeId</th>\n",
       "      <th>click</th>\n",
       "      <th>conversion</th>\n",
       "    </tr>\n",
       "  </thead>\n",
       "  <tbody>\n",
       "    <tr>\n",
       "      <th>count</th>\n",
       "      <td>9.629730e+05</td>\n",
       "      <td>962973.000000</td>\n",
       "      <td>962973.000000</td>\n",
       "      <td>962973.000000</td>\n",
       "      <td>962973.000000</td>\n",
       "      <td>962973.000000</td>\n",
       "      <td>962973.000000</td>\n",
       "      <td>962973.000000</td>\n",
       "      <td>962973.000000</td>\n",
       "      <td>962973.000000</td>\n",
       "      <td>...</td>\n",
       "      <td>962973.000000</td>\n",
       "      <td>962973.000000</td>\n",
       "      <td>962973.000000</td>\n",
       "      <td>962973.00000</td>\n",
       "      <td>962973.0</td>\n",
       "      <td>962973.0</td>\n",
       "      <td>962973.0</td>\n",
       "      <td>962973.0</td>\n",
       "      <td>962973.000000</td>\n",
       "      <td>962973.000000</td>\n",
       "    </tr>\n",
       "    <tr>\n",
       "      <th>mean</th>\n",
       "      <td>1.493390e+09</td>\n",
       "      <td>9.180603</td>\n",
       "      <td>0.320357</td>\n",
       "      <td>0.604956</td>\n",
       "      <td>0.253501</td>\n",
       "      <td>0.100404</td>\n",
       "      <td>0.628993</td>\n",
       "      <td>0.764869</td>\n",
       "      <td>0.666523</td>\n",
       "      <td>0.539791</td>\n",
       "      <td>...</td>\n",
       "      <td>0.067158</td>\n",
       "      <td>0.067158</td>\n",
       "      <td>0.093750</td>\n",
       "      <td>3149.22899</td>\n",
       "      <td>111.0</td>\n",
       "      <td>8338.0</td>\n",
       "      <td>310.0</td>\n",
       "      <td>24595.0</td>\n",
       "      <td>0.098368</td>\n",
       "      <td>0.000433</td>\n",
       "    </tr>\n",
       "    <tr>\n",
       "      <th>std</th>\n",
       "      <td>1.964874e+04</td>\n",
       "      <td>24.588960</td>\n",
       "      <td>3.780642</td>\n",
       "      <td>5.068239</td>\n",
       "      <td>2.519138</td>\n",
       "      <td>1.967956</td>\n",
       "      <td>5.449021</td>\n",
       "      <td>6.305687</td>\n",
       "      <td>5.726105</td>\n",
       "      <td>4.835396</td>\n",
       "      <td>...</td>\n",
       "      <td>0.516015</td>\n",
       "      <td>0.516015</td>\n",
       "      <td>0.871682</td>\n",
       "      <td>1836.45527</td>\n",
       "      <td>0.0</td>\n",
       "      <td>0.0</td>\n",
       "      <td>0.0</td>\n",
       "      <td>0.0</td>\n",
       "      <td>0.297812</td>\n",
       "      <td>0.020805</td>\n",
       "    </tr>\n",
       "    <tr>\n",
       "      <th>min</th>\n",
       "      <td>1.493338e+09</td>\n",
       "      <td>0.000000</td>\n",
       "      <td>0.000000</td>\n",
       "      <td>0.000000</td>\n",
       "      <td>0.000000</td>\n",
       "      <td>0.000000</td>\n",
       "      <td>0.000000</td>\n",
       "      <td>0.000000</td>\n",
       "      <td>0.000000</td>\n",
       "      <td>0.000000</td>\n",
       "      <td>...</td>\n",
       "      <td>0.000000</td>\n",
       "      <td>0.000000</td>\n",
       "      <td>0.000000</td>\n",
       "      <td>569.00000</td>\n",
       "      <td>111.0</td>\n",
       "      <td>8338.0</td>\n",
       "      <td>310.0</td>\n",
       "      <td>24595.0</td>\n",
       "      <td>0.000000</td>\n",
       "      <td>0.000000</td>\n",
       "    </tr>\n",
       "    <tr>\n",
       "      <th>25%</th>\n",
       "      <td>1.493371e+09</td>\n",
       "      <td>0.000000</td>\n",
       "      <td>0.000000</td>\n",
       "      <td>0.000000</td>\n",
       "      <td>0.000000</td>\n",
       "      <td>0.000000</td>\n",
       "      <td>0.000000</td>\n",
       "      <td>0.000000</td>\n",
       "      <td>0.000000</td>\n",
       "      <td>0.000000</td>\n",
       "      <td>...</td>\n",
       "      <td>0.000000</td>\n",
       "      <td>0.000000</td>\n",
       "      <td>0.000000</td>\n",
       "      <td>1750.00000</td>\n",
       "      <td>111.0</td>\n",
       "      <td>8338.0</td>\n",
       "      <td>310.0</td>\n",
       "      <td>24595.0</td>\n",
       "      <td>0.000000</td>\n",
       "      <td>0.000000</td>\n",
       "    </tr>\n",
       "    <tr>\n",
       "      <th>50%</th>\n",
       "      <td>1.493392e+09</td>\n",
       "      <td>0.000000</td>\n",
       "      <td>0.000000</td>\n",
       "      <td>0.000000</td>\n",
       "      <td>0.000000</td>\n",
       "      <td>0.000000</td>\n",
       "      <td>0.000000</td>\n",
       "      <td>0.000000</td>\n",
       "      <td>0.000000</td>\n",
       "      <td>0.000000</td>\n",
       "      <td>...</td>\n",
       "      <td>0.000000</td>\n",
       "      <td>0.000000</td>\n",
       "      <td>0.000000</td>\n",
       "      <td>2254.00000</td>\n",
       "      <td>111.0</td>\n",
       "      <td>8338.0</td>\n",
       "      <td>310.0</td>\n",
       "      <td>24595.0</td>\n",
       "      <td>0.000000</td>\n",
       "      <td>0.000000</td>\n",
       "    </tr>\n",
       "    <tr>\n",
       "      <th>75%</th>\n",
       "      <td>1.493408e+09</td>\n",
       "      <td>0.000000</td>\n",
       "      <td>0.000000</td>\n",
       "      <td>0.000000</td>\n",
       "      <td>0.000000</td>\n",
       "      <td>0.000000</td>\n",
       "      <td>0.000000</td>\n",
       "      <td>0.000000</td>\n",
       "      <td>0.000000</td>\n",
       "      <td>0.000000</td>\n",
       "      <td>...</td>\n",
       "      <td>0.000000</td>\n",
       "      <td>0.000000</td>\n",
       "      <td>0.000000</td>\n",
       "      <td>5172.00000</td>\n",
       "      <td>111.0</td>\n",
       "      <td>8338.0</td>\n",
       "      <td>310.0</td>\n",
       "      <td>24595.0</td>\n",
       "      <td>0.000000</td>\n",
       "      <td>0.000000</td>\n",
       "    </tr>\n",
       "    <tr>\n",
       "      <th>max</th>\n",
       "      <td>1.493424e+09</td>\n",
       "      <td>100.000000</td>\n",
       "      <td>100.000000</td>\n",
       "      <td>100.000000</td>\n",
       "      <td>100.000000</td>\n",
       "      <td>100.000000</td>\n",
       "      <td>100.000000</td>\n",
       "      <td>100.000000</td>\n",
       "      <td>100.000000</td>\n",
       "      <td>100.000000</td>\n",
       "      <td>...</td>\n",
       "      <td>71.000000</td>\n",
       "      <td>71.000000</td>\n",
       "      <td>126.000000</td>\n",
       "      <td>6166.00000</td>\n",
       "      <td>111.0</td>\n",
       "      <td>8338.0</td>\n",
       "      <td>310.0</td>\n",
       "      <td>24595.0</td>\n",
       "      <td>1.000000</td>\n",
       "      <td>1.000000</td>\n",
       "    </tr>\n",
       "  </tbody>\n",
       "</table>\n",
       "<p>8 rows × 129 columns</p>\n",
       "</div>"
      ],
      "text/plain": [
       "          timestamp  admantx_art_and_entertainment  admantx_automotive  \\\n",
       "count  9.629730e+05                  962973.000000       962973.000000   \n",
       "mean   1.493390e+09                       9.180603            0.320357   \n",
       "std    1.964874e+04                      24.588960            3.780642   \n",
       "min    1.493338e+09                       0.000000            0.000000   \n",
       "25%    1.493371e+09                       0.000000            0.000000   \n",
       "50%    1.493392e+09                       0.000000            0.000000   \n",
       "75%    1.493408e+09                       0.000000            0.000000   \n",
       "max    1.493424e+09                     100.000000          100.000000   \n",
       "\n",
       "       admantx_business  admantx_careers  admantx_education  \\\n",
       "count     962973.000000    962973.000000      962973.000000   \n",
       "mean           0.604956         0.253501           0.100404   \n",
       "std            5.068239         2.519138           1.967956   \n",
       "min            0.000000         0.000000           0.000000   \n",
       "25%            0.000000         0.000000           0.000000   \n",
       "50%            0.000000         0.000000           0.000000   \n",
       "75%            0.000000         0.000000           0.000000   \n",
       "max          100.000000       100.000000         100.000000   \n",
       "\n",
       "       admantx_family_and_parenting  admantx_health_and_fitness  \\\n",
       "count                 962973.000000               962973.000000   \n",
       "mean                       0.628993                    0.764869   \n",
       "std                        5.449021                    6.305687   \n",
       "min                        0.000000                    0.000000   \n",
       "25%                        0.000000                    0.000000   \n",
       "50%                        0.000000                    0.000000   \n",
       "75%                        0.000000                    0.000000   \n",
       "max                      100.000000                  100.000000   \n",
       "\n",
       "       admantx_food_and_drink  admantx_hobbies_and_interests  ...  \\\n",
       "count           962973.000000                  962973.000000  ...   \n",
       "mean                 0.666523                       0.539791  ...   \n",
       "std                  5.726105                       4.835396  ...   \n",
       "min                  0.000000                       0.000000  ...   \n",
       "25%                  0.000000                       0.000000  ...   \n",
       "50%                  0.000000                       0.000000  ...   \n",
       "75%                  0.000000                       0.000000  ...   \n",
       "max                100.000000                     100.000000  ...   \n",
       "\n",
       "       last30dAdClosingsOnAdvertiser  last30dAdClosingsOnContainer  \\\n",
       "count                  962973.000000                 962973.000000   \n",
       "mean                        0.067158                      0.067158   \n",
       "std                         0.516015                      0.516015   \n",
       "min                         0.000000                      0.000000   \n",
       "25%                         0.000000                      0.000000   \n",
       "50%                         0.000000                      0.000000   \n",
       "75%                         0.000000                      0.000000   \n",
       "max                        71.000000                     71.000000   \n",
       "\n",
       "       last30dAdClosingsOnFormat     adSpaceId  formatId  containerId  \\\n",
       "count              962973.000000  962973.00000  962973.0     962973.0   \n",
       "mean                    0.093750    3149.22899     111.0       8338.0   \n",
       "std                     0.871682    1836.45527       0.0          0.0   \n",
       "min                     0.000000     569.00000     111.0       8338.0   \n",
       "25%                     0.000000    1750.00000     111.0       8338.0   \n",
       "50%                     0.000000    2254.00000     111.0       8338.0   \n",
       "75%                     0.000000    5172.00000     111.0       8338.0   \n",
       "max                   126.000000    6166.00000     111.0       8338.0   \n",
       "\n",
       "       advertiserId  creativeId          click     conversion  \n",
       "count      962973.0    962973.0  962973.000000  962973.000000  \n",
       "mean          310.0     24595.0       0.098368       0.000433  \n",
       "std             0.0         0.0       0.297812       0.020805  \n",
       "min           310.0     24595.0       0.000000       0.000000  \n",
       "25%           310.0     24595.0       0.000000       0.000000  \n",
       "50%           310.0     24595.0       0.000000       0.000000  \n",
       "75%           310.0     24595.0       0.000000       0.000000  \n",
       "max           310.0     24595.0       1.000000       1.000000  \n",
       "\n",
       "[8 rows x 129 columns]"
      ]
     },
     "execution_count": 5,
     "metadata": {},
     "output_type": "execute_result"
    }
   ],
   "source": [
    "df.describe()"
   ]
  },
  {
   "cell_type": "code",
   "execution_count": 6,
   "id": "decbd108",
   "metadata": {},
   "outputs": [
    {
     "data": {
      "text/plain": [
       "Index(['timestamp', 'admantx_art_and_entertainment', 'admantx_automotive',\n",
       "       'admantx_business', 'admantx_careers', 'admantx_education',\n",
       "       'admantx_family_and_parenting', 'admantx_health_and_fitness',\n",
       "       'admantx_food_and_drink', 'admantx_hobbies_and_interests',\n",
       "       ...\n",
       "       'os', 'city', 'adSpacePrimaryThematic', 'deviceReferrer', 'formatId',\n",
       "       'containerId', 'advertiserId', 'creativeId', 'click', 'conversion'],\n",
       "      dtype='object', length=135)"
      ]
     },
     "execution_count": 6,
     "metadata": {},
     "output_type": "execute_result"
    }
   ],
   "source": [
    "df.columns"
   ]
  },
  {
   "cell_type": "code",
   "execution_count": 7,
   "id": "7f6e9fce",
   "metadata": {},
   "outputs": [
    {
     "data": {
      "text/plain": [
       "array([0, 1])"
      ]
     },
     "execution_count": 7,
     "metadata": {},
     "output_type": "execute_result"
    }
   ],
   "source": [
    "df.click.unique()"
   ]
  },
  {
   "cell_type": "code",
   "execution_count": 8,
   "id": "e0c88497",
   "metadata": {},
   "outputs": [
    {
     "data": {
      "text/plain": [
       "array([0, 1])"
      ]
     },
     "execution_count": 8,
     "metadata": {},
     "output_type": "execute_result"
    }
   ],
   "source": [
    "df.conversion.unique()"
   ]
  },
  {
   "cell_type": "code",
   "execution_count": 9,
   "id": "1688881c",
   "metadata": {},
   "outputs": [
    {
     "name": "stdout",
     "output_type": "stream",
     "text": [
      "<class 'pandas.core.frame.DataFrame'>\n",
      "RangeIndex: 962973 entries, 0 to 962972\n",
      "Columns: 135 entries, timestamp to conversion\n",
      "dtypes: float64(23), int64(106), object(6)\n",
      "memory usage: 991.8+ MB\n"
     ]
    }
   ],
   "source": [
    "df.info()"
   ]
  },
  {
   "cell_type": "markdown",
   "id": "613947dc",
   "metadata": {},
   "source": [
    "# Prediction of click"
   ]
  },
  {
   "cell_type": "markdown",
   "id": "37aaf145",
   "metadata": {},
   "source": [
    "First determine, categorical and numerical variables:"
   ]
  },
  {
   "cell_type": "code",
   "execution_count": 10,
   "id": "16cf7757",
   "metadata": {},
   "outputs": [],
   "source": [
    "num_cols = df._get_numeric_data().columns[:-2] # remove click and conversion which are target variables"
   ]
  },
  {
   "cell_type": "code",
   "execution_count": 11,
   "id": "f145e999",
   "metadata": {},
   "outputs": [
    {
     "data": {
      "text/plain": [
       "Index(['timestamp', 'admantx_art_and_entertainment', 'admantx_automotive',\n",
       "       'admantx_business', 'admantx_careers', 'admantx_education',\n",
       "       'admantx_family_and_parenting', 'admantx_health_and_fitness',\n",
       "       'admantx_food_and_drink', 'admantx_hobbies_and_interests',\n",
       "       ...\n",
       "       'os', 'city', 'adSpacePrimaryThematic', 'deviceReferrer', 'formatId',\n",
       "       'containerId', 'advertiserId', 'creativeId', 'click', 'conversion'],\n",
       "      dtype='object', length=135)"
      ]
     },
     "execution_count": 11,
     "metadata": {},
     "output_type": "execute_result"
    }
   ],
   "source": [
    "df.columns"
   ]
  },
  {
   "cell_type": "code",
   "execution_count": 12,
   "id": "90c19c62",
   "metadata": {},
   "outputs": [],
   "source": [
    "cat_cols = list(set(df.columns[:-2]) - set(num_cols)) # categorical columns"
   ]
  },
  {
   "cell_type": "markdown",
   "id": "acec8591",
   "metadata": {},
   "source": [
    "Before modeling, we will do a statistical test for numerical and categorical variables for click to determine dependency. For numerical variables, we will use ANOVA test and for categorical chi2 test.\\\n",
    "\n",
    "Let's start with numerical variables."
   ]
  },
  {
   "cell_type": "code",
   "execution_count": 13,
   "id": "cc873626",
   "metadata": {},
   "outputs": [],
   "source": [
    "import scipy.stats as stats\n",
    "\n",
    "def anova(data, categorical, numerical):\n",
    "    anv = pd.DataFrame()\n",
    "    pvals =[]\n",
    "    samples = []\n",
    "    for cls in data[categorical].unique():\n",
    "        s = data[data[categorical] == cls][numerical].values\n",
    "        samples.append(s)\n",
    "    return stats.f_oneway(*samples)[1]"
   ]
  },
  {
   "cell_type": "code",
   "execution_count": 14,
   "id": "23abe11b",
   "metadata": {},
   "outputs": [
    {
     "name": "stderr",
     "output_type": "stream",
     "text": [
      "/home/sylvain/modelr-notebook/lib/python3.8/site-packages/scipy/stats/stats.py:3641: F_onewayConstantInputWarning: Each of the input arrays is constant;the F statistic is not defined or infinite\n",
      "  warnings.warn(F_onewayConstantInputWarning())\n"
     ]
    }
   ],
   "source": [
    "pvalues_num = []\n",
    "disparity = []\n",
    "for col in num_cols:\n",
    "    pvalue = anova(df, \"click\", col)\n",
    "    pvalues_num.append(pvalue)\n",
    "    disparity.append(np.log(1/(pvalue+1.0e-6)))\n",
    "\n",
    "anv_num = pd.DataFrame()\n",
    "anv_num['feature'] = num_cols\n",
    "anv_num['p-value'] = pvalues_num\n",
    "anv_num[\"disparity\"] = disparity"
   ]
  },
  {
   "cell_type": "markdown",
   "id": "ef196a8f",
   "metadata": {},
   "source": [
    "Numerical variable with a p-value <0.05 seem to influence click variable as seen below:"
   ]
  },
  {
   "cell_type": "code",
   "execution_count": 15,
   "id": "17c0363f",
   "metadata": {},
   "outputs": [],
   "source": [
    "anv_num = anv_num.sort_values('p-value')\n",
    "anv_num = anv_num[anv_num[\"p-value\"]<0.05]"
   ]
  },
  {
   "cell_type": "code",
   "execution_count": 16,
   "id": "7391d273",
   "metadata": {},
   "outputs": [
    {
     "data": {
      "image/png": "[encoded data removed]",
      "text/plain": [
       "<Figure size 1008x576 with 1 Axes>"
      ]
     },
     "metadata": {
      "needs_background": "light"
     },
     "output_type": "display_data"
    }
   ],
   "source": [
    "sns.barplot(data=anv_num, x='feature', y='disparity')\n",
    "x=plt.xticks(rotation=90)\n",
    "plt.savefig(\"anova.png\", dpi=300, bbox_inches='tight')"
   ]
  },
  {
   "cell_type": "markdown",
   "id": "c9ca2819",
   "metadata": {},
   "source": [
    "On the figure below, saturation of the feature is due to 1.0e-6 term. Most statisticaly significant features are listed by order of importance as they all get a p-value <5%."
   ]
  },
  {
   "cell_type": "markdown",
   "id": "f95a4bf8",
   "metadata": {},
   "source": [
    "Now, let's have a look to categorical variable. For that, we will use the chi2 test:"
   ]
  },
  {
   "cell_type": "code",
   "execution_count": 17,
   "id": "f028ff87",
   "metadata": {},
   "outputs": [],
   "source": [
    "from scipy.stats import chi2_contingency\n",
    "\n",
    "def chi2(data, target, category):\n",
    "    chi2, p, dof, ex = chi2_contingency(pd.crosstab(df[category], df[target]))\n",
    "    return p\n",
    "    "
   ]
  },
  {
   "cell_type": "code",
   "execution_count": 18,
   "id": "a90b3278",
   "metadata": {},
   "outputs": [],
   "source": [
    "pvalues_num = []\n",
    "disparity = []\n",
    "for col in cat_cols:\n",
    "    pvalue = chi2(df, \"click\", col)\n",
    "    pvalues_num.append(pvalue)\n",
    "    disparity.append(np.log(1/(pvalue+1.0e-6)))\n",
    "\n",
    "chi2_cat = pd.DataFrame()\n",
    "chi2_cat['feature'] = cat_cols\n",
    "chi2_cat['p-value'] = pvalues_num\n",
    "chi2_cat[\"disparity\"] = disparity\n",
    "chi2_cat = chi2_cat.sort_values('p-value')\n",
    "chi2_cat = chi2_cat[chi2_cat[\"p-value\"]<0.05]"
   ]
  },
  {
   "cell_type": "code",
   "execution_count": 19,
   "id": "38cef2a8",
   "metadata": {},
   "outputs": [
    {
     "data": {
      "image/png": "[encoded data removed]",
      "text/plain": [
       "<Figure size 1008x576 with 1 Axes>"
      ]
     },
     "metadata": {
      "needs_background": "light"
     },
     "output_type": "display_data"
    }
   ],
   "source": [
    "sns.barplot(data=chi2_cat, x='feature', y='disparity')\n",
    "x=plt.xticks(rotation=90)\n",
    "plt.savefig(\"chi2.png\", dpi=300, bbox_inches='tight')"
   ]
  },
  {
   "cell_type": "markdown",
   "id": "0caf4199",
   "metadata": {},
   "source": [
    "Here are the feature that can be selected with chi2 test for categorical variable which are more likely to have influence."
   ]
  },
  {
   "cell_type": "markdown",
   "id": "c03da0ae",
   "metadata": {},
   "source": [
    "Now, lets encode categorical variables and see feature importance with xgboost"
   ]
  },
  {
   "cell_type": "code",
   "execution_count": 20,
   "id": "1cd5dc06",
   "metadata": {},
   "outputs": [],
   "source": [
    "df_encoded = pd.get_dummies(df, columns=cat_cols, sparse=True).copy()"
   ]
  },
  {
   "cell_type": "code",
   "execution_count": 21,
   "id": "400e20ab",
   "metadata": {},
   "outputs": [
    {
     "name": "stdout",
     "output_type": "stream",
     "text": [
      "<class 'pandas.core.frame.DataFrame'>\n",
      "RangeIndex: 962973 entries, 0 to 962972\n",
      "Columns: 5423 entries, timestamp to browserName_other\n",
      "dtypes: Sparse[uint8, 0](5294), float64(23), int64(106)\n",
      "memory usage: 975.3 MB\n"
     ]
    }
   ],
   "source": [
    "df_encoded.info()"
   ]
  },
  {
   "cell_type": "markdown",
   "id": "ddaeb321",
   "metadata": {},
   "source": [
    "Final dataset seem now really big. We will deal with from now with sparse tools."
   ]
  },
  {
   "cell_type": "code",
   "execution_count": 22,
   "id": "e5581206",
   "metadata": {},
   "outputs": [],
   "source": [
    "from scipy.sparse import csr_matrix\n",
    "\n",
    "df_sparsed = df_encoded.drop(['click', 'conversion'], axis=1).astype(pd.SparseDtype(\"float\", np.nan))\n",
    "X = csr_matrix(df_sparsed.sparse.to_coo())\n",
    "\n",
    "y = np.expand_dims(df_encoded['click'], axis=1)"
   ]
  },
  {
   "cell_type": "code",
   "execution_count": 23,
   "id": "dc82b4b0",
   "metadata": {},
   "outputs": [],
   "source": [
    "import xgboost as xgb\n",
    "\n",
    "# Instantiation\n",
    "xgb_c = xgb.XGBClassifier(n_estimators = 20, seed = 42)"
   ]
  },
  {
   "cell_type": "code",
   "execution_count": 24,
   "id": "0ef49832",
   "metadata": {},
   "outputs": [
    {
     "name": "stderr",
     "output_type": "stream",
     "text": [
      "/home/sylvain/modelr-notebook/lib/python3.8/site-packages/xgboost/sklearn.py:1224: UserWarning: The use of label encoder in XGBClassifier is deprecated and will be removed in a future release. To remove this warning, do the following: 1) Pass option use_label_encoder=False when constructing XGBClassifier object; and 2) Encode your labels (y) as integers starting with 0, i.e. 0, 1, 2, ..., [num_class - 1].\n",
      "  warnings.warn(label_encoder_deprecation_msg, UserWarning)\n",
      "/home/sylvain/modelr-notebook/lib/python3.8/site-packages/sklearn/utils/validation.py:72: DataConversionWarning: A column-vector y was passed when a 1d array was expected. Please change the shape of y to (n_samples, ), for example using ravel().\n",
      "  return f(**kwargs)\n"
     ]
    },
    {
     "name": "stdout",
     "output_type": "stream",
     "text": [
      "[16:49:15] WARNING: ../src/learner.cc:1115: Starting in XGBoost 1.3.0, the default evaluation metric used with the objective 'binary:logistic' was changed from 'error' to 'logloss'. Explicitly set eval_metric if you'd like to restore the old behavior.\n"
     ]
    },
    {
     "data": {
      "text/plain": [
       "XGBClassifier(base_score=0.5, booster='gbtree', colsample_bylevel=1,\n",
       "              colsample_bynode=1, colsample_bytree=1, enable_categorical=False,\n",
       "              gamma=0, gpu_id=-1, importance_type=None,\n",
       "              interaction_constraints='', learning_rate=0.300000012,\n",
       "              max_delta_step=0, max_depth=6, min_child_weight=1, missing=nan,\n",
       "              monotone_constraints='()', n_estimators=20, n_jobs=12,\n",
       "              num_parallel_tree=1, predictor='auto', random_state=42,\n",
       "              reg_alpha=0, reg_lambda=1, scale_pos_weight=1, seed=42,\n",
       "              subsample=1, tree_method='exact', validate_parameters=1,\n",
       "              verbosity=None)"
      ]
     },
     "execution_count": 24,
     "metadata": {},
     "output_type": "execute_result"
    }
   ],
   "source": [
    "xgb_c.fit(X, y)"
   ]
  },
  {
   "cell_type": "code",
   "execution_count": 25,
   "id": "0450c86f",
   "metadata": {},
   "outputs": [
    {
     "data": {
      "text/plain": [
       "Text(0.5, 0, 'Xgboost Feature Importance')"
      ]
     },
     "execution_count": 25,
     "metadata": {},
     "output_type": "execute_result"
    },
    {
     "data": {
      "image/png": "[encoded data removed]",
      "text/plain": [
       "<Figure size 1008x576 with 1 Axes>"
      ]
     },
     "metadata": {
      "needs_background": "light"
     },
     "output_type": "display_data"
    }
   ],
   "source": [
    "sorted_idx = (-xgb_c.feature_importances_).argsort()\n",
    "feature_names = np.array(df_sparsed.columns.tolist())\n",
    "plt.barh(feature_names[sorted_idx][:10], xgb_c.feature_importances_[sorted_idx][:10])\n",
    "plt.xlabel(\"Xgboost Feature Importance\")"
   ]
  },
  {
   "cell_type": "markdown",
   "id": "a07a4f54",
   "metadata": {},
   "source": [
    "Here are the features selected as important by xgboost classifier, it seems consistent with the statistical test made earlier."
   ]
  },
  {
   "cell_type": "markdown",
   "id": "6a680f7d",
   "metadata": {},
   "source": [
    "Let's start modeling of click. It is a binary classification problem. First, we should have a look to its distribution"
   ]
  },
  {
   "cell_type": "code",
   "execution_count": 26,
   "id": "6343851a",
   "metadata": {},
   "outputs": [
    {
     "name": "stderr",
     "output_type": "stream",
     "text": [
      "/home/sylvain/modelr-notebook/lib/python3.8/site-packages/seaborn/_decorators.py:36: FutureWarning: Pass the following variable as a keyword arg: x. From version 0.12, the only valid positional argument will be `data`, and passing other arguments without an explicit keyword will result in an error or misinterpretation.\n",
      "  warnings.warn(\n"
     ]
    },
    {
     "data": {
      "text/plain": [
       "<AxesSubplot:xlabel='click', ylabel='count'>"
      ]
     },
     "execution_count": 26,
     "metadata": {},
     "output_type": "execute_result"
    },
    {
     "data": {
      "image/png": "[encoded data removed]",
      "text/plain": [
       "<Figure size 1008x576 with 1 Axes>"
      ]
     },
     "metadata": {
      "needs_background": "light"
     },
     "output_type": "display_data"
    }
   ],
   "source": [
    "sns.countplot(df.click)"
   ]
  },
  {
   "cell_type": "code",
   "execution_count": 27,
   "id": "c60cda64",
   "metadata": {},
   "outputs": [],
   "source": [
    "# what is the unbalance?\n",
    "\n",
    "scale_pos_weight= len(df.loc[df.click ==0])/len(df.loc[df.click ==1])"
   ]
  },
  {
   "cell_type": "markdown",
   "id": "b64bec79",
   "metadata": {},
   "source": [
    "The Click distribution is unbalanced. Consequently, we should use a metric adapted such as AUC or F1-score.\n",
    "Click is categorical variable, so we should go for a binary classification model. We will continue with xgb as we got a lot of feature that require sparsity support."
   ]
  },
  {
   "cell_type": "code",
   "execution_count": 28,
   "id": "98b3f3cf",
   "metadata": {},
   "outputs": [],
   "source": [
    "# # lets keep columns obtained statistical test\n",
    "# keeping_columns = anv_num[\"feature\"].tolist()\n",
    "# keeping_columns.extend(chi2_cat[\"feature\"].tolist())\n",
    "# keeping_columns.extend([\"click\"])\n",
    "# df_new = df[keeping_columns].copy()\n",
    "# df_encoded = pd.get_dummies(df, columns=chi2_cat[\"feature\"].tolist(), sparse=True).copy()\n",
    "\n",
    "# df_sparsed = df_encoded.drop(['click'], axis=1).astype(pd.SparseDtype(\"float\", np.nan))\n",
    "# X = csr_matrix(df_sparsed.sparse.to_coo())\n",
    "\n",
    "# y = np.expand_dims(df_encoded['click'], axis=1)"
   ]
  },
  {
   "cell_type": "markdown",
   "id": "d35b4bfd",
   "metadata": {},
   "source": [
    "I did want to test with removing features but kernel keep crashing. I will continue the test like this. I have no time to investigate further.."
   ]
  },
  {
   "cell_type": "code",
   "execution_count": 29,
   "id": "226a55d2",
   "metadata": {},
   "outputs": [],
   "source": [
    "from sklearn.metrics import f1_score, auc"
   ]
  },
  {
   "cell_type": "markdown",
   "id": "ed6877f7",
   "metadata": {},
   "source": [
    "Let's build first our train/test split for evaluation of our model."
   ]
  },
  {
   "cell_type": "code",
   "execution_count": 30,
   "id": "6f43f9bf",
   "metadata": {},
   "outputs": [],
   "source": [
    "from sklearn.model_selection import train_test_split\n",
    "\n",
    "X_train, X_test, y_train, y_test = train_test_split(X, y, test_size=0.2, random_state=1)"
   ]
  },
  {
   "cell_type": "code",
   "execution_count": 31,
   "id": "c2c32f8c",
   "metadata": {},
   "outputs": [],
   "source": [
    "# Instantiation\n",
    "xgb_c = xgb.XGBClassifier(n_estimators = 100, seed = 42, scale_pos_weight=scale_pos_weight)"
   ]
  },
  {
   "cell_type": "markdown",
   "id": "792c1f15",
   "metadata": {},
   "source": [
    "Below we train our model:"
   ]
  },
  {
   "cell_type": "code",
   "execution_count": 32,
   "id": "41f08185",
   "metadata": {},
   "outputs": [
    {
     "name": "stderr",
     "output_type": "stream",
     "text": [
      "/home/sylvain/modelr-notebook/lib/python3.8/site-packages/xgboost/sklearn.py:1224: UserWarning: The use of label encoder in XGBClassifier is deprecated and will be removed in a future release. To remove this warning, do the following: 1) Pass option use_label_encoder=False when constructing XGBClassifier object; and 2) Encode your labels (y) as integers starting with 0, i.e. 0, 1, 2, ..., [num_class - 1].\n",
      "  warnings.warn(label_encoder_deprecation_msg, UserWarning)\n",
      "/home/sylvain/modelr-notebook/lib/python3.8/site-packages/sklearn/utils/validation.py:72: DataConversionWarning: A column-vector y was passed when a 1d array was expected. Please change the shape of y to (n_samples, ), for example using ravel().\n",
      "  return f(**kwargs)\n"
     ]
    },
    {
     "name": "stdout",
     "output_type": "stream",
     "text": [
      "[16:49:36] WARNING: ../src/learner.cc:1115: Starting in XGBoost 1.3.0, the default evaluation metric used with the objective 'binary:logistic' was changed from 'error' to 'logloss'. Explicitly set eval_metric if you'd like to restore the old behavior.\n"
     ]
    },
    {
     "data": {
      "text/plain": [
       "XGBClassifier(base_score=0.5, booster='gbtree', colsample_bylevel=1,\n",
       "              colsample_bynode=1, colsample_bytree=1, enable_categorical=False,\n",
       "              gamma=0, gpu_id=-1, importance_type=None,\n",
       "              interaction_constraints='', learning_rate=0.300000012,\n",
       "              max_delta_step=0, max_depth=6, min_child_weight=1, missing=nan,\n",
       "              monotone_constraints='()', n_estimators=100, n_jobs=12,\n",
       "              num_parallel_tree=1, predictor='auto', random_state=42,\n",
       "              reg_alpha=0, reg_lambda=1, scale_pos_weight=9.165878428309018,\n",
       "              seed=42, subsample=1, tree_method='exact', validate_parameters=1,\n",
       "              verbosity=None)"
      ]
     },
     "execution_count": 32,
     "metadata": {},
     "output_type": "execute_result"
    }
   ],
   "source": [
    "xgb_c.fit(X_train, y_train)"
   ]
  },
  {
   "cell_type": "markdown",
   "id": "8d9d0e24",
   "metadata": {},
   "source": [
    "Now, let's evaluate this model:"
   ]
  },
  {
   "cell_type": "code",
   "execution_count": 33,
   "id": "f2d097cc",
   "metadata": {},
   "outputs": [],
   "source": [
    "p_test = xgb_c.predict_proba(X_test)[:, 1]"
   ]
  },
  {
   "cell_type": "code",
   "execution_count": 34,
   "id": "4db4121b",
   "metadata": {},
   "outputs": [
    {
     "data": {
      "text/plain": [
       "0.6711579301939136"
      ]
     },
     "execution_count": 34,
     "metadata": {},
     "output_type": "execute_result"
    }
   ],
   "source": [
    "from sklearn.metrics import roc_auc_score\n",
    "roc_auc_score(y_test, p_test)"
   ]
  },
  {
   "cell_type": "code",
   "execution_count": 35,
   "id": "928e51fc",
   "metadata": {},
   "outputs": [
    {
     "data": {
      "image/png": "[encoded data removed]",
      "text/plain": [
       "<Figure size 1008x576 with 2 Axes>"
      ]
     },
     "metadata": {
      "needs_background": "light"
     },
     "output_type": "display_data"
    }
   ],
   "source": [
    "from sklearn.metrics import plot_confusion_matrix\n",
    "plot_confusion_matrix(xgb_c, X_test, y_test) \n",
    "plt.show()"
   ]
  },
  {
   "cell_type": "code",
   "execution_count": 36,
   "id": "cb0d0e7f",
   "metadata": {},
   "outputs": [
    {
     "data": {
      "text/plain": [
       "0.5004149682639933"
      ]
     },
     "execution_count": 36,
     "metadata": {},
     "output_type": "execute_result"
    }
   ],
   "source": [
    "y_pred = xgb_c.predict(X_test)\n",
    "f1_score(y_test, y_pred, average='macro')"
   ]
  },
  {
   "cell_type": "markdown",
   "id": "d9c7b681",
   "metadata": {},
   "source": [
    "AUC of 67% or F1 score of 50% are not good score. Anyway, it is better than random. The quality of the model is poor. When we look at confusion matrix, the model over-predict. It may be balance with a better choice ofor scale_pos_weight.\\\n",
    "\n",
    "For improvement, we should consider better feature engineering, and that require more exploration which i couldn't do in the amount of time considered. I may have consider as numerical some variable, but it could be categorical. It needs further investigation there.\n",
    "\n",
    "We may also consider reduce dimension with PCA, test other modeling approach than xgboost. I did use this model because it is known to work most of the time. "
   ]
  },
  {
   "cell_type": "markdown",
   "id": "11ab56ad",
   "metadata": {},
   "source": [
    "# Prediction of conversion"
   ]
  },
  {
   "cell_type": "markdown",
   "id": "60b52cdb",
   "metadata": {},
   "source": [
    "First, we should create the dataset by removing rows with no click, because we are interested to the modeling of conversion once the user has clicked."
   ]
  },
  {
   "cell_type": "code",
   "execution_count": 37,
   "id": "f47819db",
   "metadata": {},
   "outputs": [],
   "source": [
    "df_conversion = df.loc[df.click == 1].copy().drop(columns=\"click\")"
   ]
  },
  {
   "cell_type": "code",
   "execution_count": 38,
   "id": "41c636b5",
   "metadata": {},
   "outputs": [
    {
     "name": "stderr",
     "output_type": "stream",
     "text": [
      "/home/sylvain/modelr-notebook/lib/python3.8/site-packages/scipy/stats/stats.py:3641: F_onewayConstantInputWarning: Each of the input arrays is constant;the F statistic is not defined or infinite\n",
      "  warnings.warn(F_onewayConstantInputWarning())\n"
     ]
    }
   ],
   "source": [
    "pvalues_num = []\n",
    "disparity = []\n",
    "for col in num_cols:\n",
    "    pvalue = anova(df_conversion, \"conversion\", col)\n",
    "    pvalues_num.append(pvalue)\n",
    "    disparity.append(np.log(1/(pvalue+1.0e-6)))\n",
    "\n",
    "anv_num = pd.DataFrame()\n",
    "anv_num['feature'] = num_cols\n",
    "anv_num['p-value'] = pvalues_num\n",
    "anv_num[\"disparity\"] = disparity"
   ]
  },
  {
   "cell_type": "code",
   "execution_count": 39,
   "id": "79f9d1c4",
   "metadata": {},
   "outputs": [],
   "source": [
    "anv_num = anv_num.sort_values('p-value')\n",
    "anv_num = anv_num[anv_num[\"p-value\"]<0.05]"
   ]
  },
  {
   "cell_type": "code",
   "execution_count": 40,
   "id": "bfbb597b",
   "metadata": {},
   "outputs": [
    {
     "data": {
      "image/png": "[encoded data removed]",
      "text/plain": [
       "<Figure size 1008x576 with 1 Axes>"
      ]
     },
     "metadata": {
      "needs_background": "light"
     },
     "output_type": "display_data"
    }
   ],
   "source": [
    "sns.barplot(data=anv_num, x='feature', y='disparity')\n",
    "x=plt.xticks(rotation=90)\n",
    "plt.savefig(\"anova.png\", dpi=300, bbox_inches='tight')"
   ]
  },
  {
   "cell_type": "code",
   "execution_count": 41,
   "id": "ff7907e5",
   "metadata": {},
   "outputs": [],
   "source": [
    "pvalues_num = []\n",
    "disparity = []\n",
    "for col in cat_cols:\n",
    "    pvalue = chi2(df_conversion, \"conversion\", col)\n",
    "    pvalues_num.append(pvalue)\n",
    "    disparity.append(np.log(1/(pvalue+1.0e-6)))\n",
    "\n",
    "chi2_cat = pd.DataFrame()\n",
    "chi2_cat['feature'] = cat_cols\n",
    "chi2_cat['p-value'] = pvalues_num\n",
    "chi2_cat[\"disparity\"] = disparity\n",
    "chi2_cat = chi2_cat.sort_values('p-value')\n",
    "chi2_cat = chi2_cat[chi2_cat[\"p-value\"]<0.05]"
   ]
  },
  {
   "cell_type": "code",
   "execution_count": 42,
   "id": "2f36e2db",
   "metadata": {},
   "outputs": [
    {
     "data": {
      "text/plain": [
       "True"
      ]
     },
     "execution_count": 42,
     "metadata": {},
     "output_type": "execute_result"
    }
   ],
   "source": [
    "chi2_cat.empty"
   ]
  },
  {
   "cell_type": "code",
   "execution_count": 43,
   "id": "9fe1c93d",
   "metadata": {},
   "outputs": [],
   "source": [
    "df_encoded = pd.get_dummies(df_conversion, columns=cat_cols, sparse=True).copy()"
   ]
  },
  {
   "cell_type": "code",
   "execution_count": 44,
   "id": "b94f8012",
   "metadata": {},
   "outputs": [
    {
     "name": "stdout",
     "output_type": "stream",
     "text": [
      "<class 'pandas.core.frame.DataFrame'>\n",
      "Int64Index: 94726 entries, 5 to 962966\n",
      "Columns: 4244 entries, timestamp to browserName_other\n",
      "dtypes: Sparse[uint8, 0](4116), float64(23), int64(105)\n",
      "memory usage: 95.9 MB\n"
     ]
    }
   ],
   "source": [
    "df_encoded.info()"
   ]
  },
  {
   "cell_type": "code",
   "execution_count": 45,
   "id": "1a64cf15",
   "metadata": {},
   "outputs": [],
   "source": [
    "df_sparsed = df_encoded.drop(['conversion'], axis=1).astype(pd.SparseDtype(\"float\", np.nan))\n",
    "X = csr_matrix(df_sparsed.sparse.to_coo())\n",
    "\n",
    "y = np.expand_dims(df_encoded['conversion'], axis=1)"
   ]
  },
  {
   "cell_type": "code",
   "execution_count": 46,
   "id": "9dd68fe1",
   "metadata": {},
   "outputs": [],
   "source": [
    "# Instantiation\n",
    "xgb_c = xgb.XGBClassifier(n_estimators = 20, seed = 42)"
   ]
  },
  {
   "cell_type": "code",
   "execution_count": 47,
   "id": "c0f97168",
   "metadata": {},
   "outputs": [
    {
     "name": "stderr",
     "output_type": "stream",
     "text": [
      "/home/sylvain/modelr-notebook/lib/python3.8/site-packages/xgboost/sklearn.py:1224: UserWarning: The use of label encoder in XGBClassifier is deprecated and will be removed in a future release. To remove this warning, do the following: 1) Pass option use_label_encoder=False when constructing XGBClassifier object; and 2) Encode your labels (y) as integers starting with 0, i.e. 0, 1, 2, ..., [num_class - 1].\n",
      "  warnings.warn(label_encoder_deprecation_msg, UserWarning)\n",
      "/home/sylvain/modelr-notebook/lib/python3.8/site-packages/sklearn/utils/validation.py:72: DataConversionWarning: A column-vector y was passed when a 1d array was expected. Please change the shape of y to (n_samples, ), for example using ravel().\n",
      "  return f(**kwargs)\n"
     ]
    },
    {
     "name": "stdout",
     "output_type": "stream",
     "text": [
      "[16:51:15] WARNING: ../src/learner.cc:1115: Starting in XGBoost 1.3.0, the default evaluation metric used with the objective 'binary:logistic' was changed from 'error' to 'logloss'. Explicitly set eval_metric if you'd like to restore the old behavior.\n"
     ]
    },
    {
     "data": {
      "text/plain": [
       "Text(0.5, 0, 'Xgboost Feature Importance')"
      ]
     },
     "execution_count": 47,
     "metadata": {},
     "output_type": "execute_result"
    },
    {
     "data": {
      "image/png": "[encoded data removed]",
      "text/plain": [
       "<Figure size 1008x576 with 1 Axes>"
      ]
     },
     "metadata": {
      "needs_background": "light"
     },
     "output_type": "display_data"
    }
   ],
   "source": [
    "xgb_c.fit(X, y)\n",
    "sorted_idx = (-xgb_c.feature_importances_).argsort()\n",
    "feature_names = np.array(df_sparsed.columns.tolist())\n",
    "plt.barh(feature_names[sorted_idx][:10], xgb_c.feature_importances_[sorted_idx][:10])\n",
    "plt.xlabel(\"Xgboost Feature Importance\")"
   ]
  },
  {
   "cell_type": "markdown",
   "id": "2ed5f5c9",
   "metadata": {},
   "source": [
    "Here, statistical tests and feature importances does not match as city appears here and does not with chi2 test"
   ]
  },
  {
   "cell_type": "code",
   "execution_count": 48,
   "id": "24a8776d",
   "metadata": {},
   "outputs": [
    {
     "name": "stderr",
     "output_type": "stream",
     "text": [
      "/home/sylvain/modelr-notebook/lib/python3.8/site-packages/seaborn/_decorators.py:36: FutureWarning: Pass the following variable as a keyword arg: x. From version 0.12, the only valid positional argument will be `data`, and passing other arguments without an explicit keyword will result in an error or misinterpretation.\n",
      "  warnings.warn(\n"
     ]
    },
    {
     "data": {
      "text/plain": [
       "<AxesSubplot:xlabel='conversion', ylabel='count'>"
      ]
     },
     "execution_count": 48,
     "metadata": {},
     "output_type": "execute_result"
    },
    {
     "data": {
      "image/png": "[encoded data removed]",
      "text/plain": [
       "<Figure size 1008x576 with 1 Axes>"
      ]
     },
     "metadata": {
      "needs_background": "light"
     },
     "output_type": "display_data"
    }
   ],
   "source": [
    "sns.countplot(df_conversion.conversion)"
   ]
  },
  {
   "cell_type": "code",
   "execution_count": 55,
   "id": "16fa984d",
   "metadata": {},
   "outputs": [],
   "source": [
    "# what is the unbalance?\n",
    "\n",
    "scale_pos_weight = np.sqrt(len(df_conversion.loc[df_conversion.conversion ==0])/ len(df_conversion.loc[df_conversion.conversion ==1]))"
   ]
  },
  {
   "cell_type": "code",
   "execution_count": 56,
   "id": "aad0303a",
   "metadata": {},
   "outputs": [],
   "source": [
    "X_train, X_test, y_train, y_test = train_test_split(X, y, test_size=0.2, random_state=1)"
   ]
  },
  {
   "cell_type": "code",
   "execution_count": 57,
   "id": "e0124149",
   "metadata": {},
   "outputs": [
    {
     "name": "stderr",
     "output_type": "stream",
     "text": [
      "/home/sylvain/modelr-notebook/lib/python3.8/site-packages/xgboost/sklearn.py:1224: UserWarning: The use of label encoder in XGBClassifier is deprecated and will be removed in a future release. To remove this warning, do the following: 1) Pass option use_label_encoder=False when constructing XGBClassifier object; and 2) Encode your labels (y) as integers starting with 0, i.e. 0, 1, 2, ..., [num_class - 1].\n",
      "  warnings.warn(label_encoder_deprecation_msg, UserWarning)\n",
      "/home/sylvain/modelr-notebook/lib/python3.8/site-packages/sklearn/utils/validation.py:72: DataConversionWarning: A column-vector y was passed when a 1d array was expected. Please change the shape of y to (n_samples, ), for example using ravel().\n",
      "  return f(**kwargs)\n"
     ]
    },
    {
     "name": "stdout",
     "output_type": "stream",
     "text": [
      "[16:53:14] WARNING: ../src/learner.cc:1115: Starting in XGBoost 1.3.0, the default evaluation metric used with the objective 'binary:logistic' was changed from 'error' to 'logloss'. Explicitly set eval_metric if you'd like to restore the old behavior.\n"
     ]
    }
   ],
   "source": [
    "# Instantiation\n",
    "xgb_c = xgb.XGBClassifier(n_estimators = 100, seed = 42, scale_pos_weight=scale_pos_weight)\n",
    "xgb_c.fit(X_train, y_train)\n",
    "p_test = xgb_c.predict_proba(X_test)[:, 1]\n",
    "y_pred = xgb_c.predict(X_test)"
   ]
  },
  {
   "cell_type": "code",
   "execution_count": 58,
   "id": "919541bc",
   "metadata": {},
   "outputs": [
    {
     "data": {
      "image/png": "[encoded data removed]",
      "text/plain": [
       "<Figure size 1008x576 with 2 Axes>"
      ]
     },
     "metadata": {
      "needs_background": "light"
     },
     "output_type": "display_data"
    }
   ],
   "source": [
    "plot_confusion_matrix(xgb_c, X_test, y_test) \n",
    "plt.show()"
   ]
  },
  {
   "cell_type": "code",
   "execution_count": 59,
   "id": "bcc09d93",
   "metadata": {},
   "outputs": [
    {
     "data": {
      "text/plain": [
       "0.7342449040903606"
      ]
     },
     "execution_count": 59,
     "metadata": {},
     "output_type": "execute_result"
    }
   ],
   "source": [
    "roc_auc_score(y_test, p_test)"
   ]
  },
  {
   "cell_type": "code",
   "execution_count": 60,
   "id": "9c533ec2",
   "metadata": {},
   "outputs": [
    {
     "data": {
      "text/plain": [
       "0.6381793165709623"
      ]
     },
     "execution_count": 60,
     "metadata": {},
     "output_type": "execute_result"
    }
   ],
   "source": [
    "f1_score(y_test, y_pred, average='macro')"
   ]
  },
  {
   "cell_type": "markdown",
   "id": "7bcf4707",
   "metadata": {},
   "source": [
    "73% for AUC and 63% for F1-score score seem ok. Same remarks here concerning feature engineering, denoising of features.\n",
    "\n",
    "Otherwise, I should also consider others algorithms, do a hyperoptimisation study notably benchmarking model algorithm, their hyperparameter, and also the loss considering there is a balancing issue here.\\\n",
    "Concerning, we should test different approaches for scale_pos_weight..\\\n",
    "\n"
   ]
  },
  {
   "cell_type": "markdown",
   "id": "57180802",
   "metadata": {},
   "source": [
    "# Conclusion\n",
    "\n",
    "Few minutes left on the clock, and there is still so much to do. I try to keep going and give some first statistical results and models. Obviously, with more time, I would have spent more time to understand better the data given to me. Maybe I could feature engineer such as timestamp in slot.\\\n",
    "\n",
    "Concerning the code, due to time, I copy/paste some code which obviously I will factorize anyway. Here I chose a notebook because it is easier for testing and for a reviewer to follow my thought."
   ]
  },
  {
   "cell_type": "code",
   "execution_count": null,
   "id": "3fda2d8d",
   "metadata": {},
   "outputs": [],
   "source": []
  }
 ],
 "metadata": {
  "kernelspec": {
   "display_name": "Python 3",
   "language": "python",
   "name": "python3"
  },
  "language_info": {
   "codemirror_mode": {
    "name": "ipython",
    "version": 3
   },
   "file_extension": ".py",
   "mimetype": "text/x-python",
   "name": "python",
   "nbconvert_exporter": "python",
   "pygments_lexer": "ipython3",
   "version": "3.8.10"
  }
 },
 "nbformat": 4,
 "nbformat_minor": 5
}
