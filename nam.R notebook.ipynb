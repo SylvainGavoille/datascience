{
 "cells": [
  {
   "cell_type": "markdown",
   "metadata": {},
   "source": [
    "## NAM.R : Prédiction par régression de la taille des arbres"
   ]
  },
  {
   "cell_type": "code",
   "execution_count": 1,
   "metadata": {
    "collapsed": true
   },
   "outputs": [],
   "source": [
    "import pandas as pd\n",
    "import numpy as np\n",
    "import seaborn as sns\n",
    "import matplotlib\n",
    "import matplotlib.pyplot as plt\n",
    "\n",
    "%matplotlib inline"
   ]
  },
  {
   "cell_type": "code",
   "execution_count": 2,
   "metadata": {
    "collapsed": false
   },
   "outputs": [],
   "source": [
    "#dateparse = lambda x: pd.datetime.strptime(x, '%Y-%m-%d %H:%M:%S')\n",
    "\n",
    "#df = pd.read_csv(infile, parse_dates={'DATEPLANTATION'}, date_parser=dateparse)\n",
    "\n",
    "df = pd.read_csv(\"./les-arbres.csv\",sep=\";\")"
   ]
  },
  {
   "cell_type": "code",
   "execution_count": 3,
   "metadata": {
    "collapsed": false
   },
   "outputs": [
    {
     "data": {
      "text/plain": [
       "(222285, 20)"
      ]
     },
     "execution_count": 3,
     "metadata": {},
     "output_type": "execute_result"
    }
   ],
   "source": [
    "df.shape"
   ]
  },
  {
   "cell_type": "code",
   "execution_count": 4,
   "metadata": {
    "collapsed": false
   },
   "outputs": [
    {
     "data": {
      "text/html": [
       "<div>\n",
       "<style>\n",
       "    .dataframe thead tr:only-child th {\n",
       "        text-align: right;\n",
       "    }\n",
       "\n",
       "    .dataframe thead th {\n",
       "        text-align: left;\n",
       "    }\n",
       "\n",
       "    .dataframe tbody tr th {\n",
       "        vertical-align: top;\n",
       "    }\n",
       "</style>\n",
       "<table border=\"1\" class=\"dataframe\">\n",
       "  <thead>\n",
       "    <tr style=\"text-align: right;\">\n",
       "      <th></th>\n",
       "      <th>IDBASE</th>\n",
       "      <th>TYPEEMPLACEMENT</th>\n",
       "      <th>DOMANIALITE</th>\n",
       "      <th>ARRONDISSEMENT</th>\n",
       "      <th>COMPLEMENTADRESSE</th>\n",
       "      <th>NUMERO</th>\n",
       "      <th>LIEU / ADRESSE</th>\n",
       "      <th>IDEMPLACEMENT</th>\n",
       "      <th>CIRCONFERENCEENCM</th>\n",
       "      <th>HAUTEUR (m)</th>\n",
       "      <th>STADEDEVELOPPEMENT</th>\n",
       "      <th>PEPINIERE</th>\n",
       "      <th>ESPECE</th>\n",
       "      <th>VARIETEOUCULTIVAR</th>\n",
       "      <th>GENRE</th>\n",
       "      <th>DATEPLANTATION</th>\n",
       "      <th>REMARQUABLE</th>\n",
       "      <th>LIBELLEFRANCAIS</th>\n",
       "      <th>OBJECTID</th>\n",
       "      <th>geo_point_2d</th>\n",
       "    </tr>\n",
       "  </thead>\n",
       "  <tbody>\n",
       "    <tr>\n",
       "      <th>0</th>\n",
       "      <td>259118.0</td>\n",
       "      <td>Arbre</td>\n",
       "      <td>Alignement</td>\n",
       "      <td>PARIS 15E ARRDT</td>\n",
       "      <td>NaN</td>\n",
       "      <td>NaN</td>\n",
       "      <td>ALLEE DES CYGNES</td>\n",
       "      <td>000501055</td>\n",
       "      <td>35.0</td>\n",
       "      <td>6.0</td>\n",
       "      <td>J</td>\n",
       "      <td>Inconnue</td>\n",
       "      <td>ornus</td>\n",
       "      <td>NaN</td>\n",
       "      <td>Fraxinus</td>\n",
       "      <td>1700-01-01T01:02:49+00:53</td>\n",
       "      <td>0.0</td>\n",
       "      <td>Frêne à fleurs</td>\n",
       "      <td>5330</td>\n",
       "      <td>48.854518311, 2.2861409543</td>\n",
       "    </tr>\n",
       "    <tr>\n",
       "      <th>1</th>\n",
       "      <td>263698.0</td>\n",
       "      <td>Arbre</td>\n",
       "      <td>Alignement</td>\n",
       "      <td>PARIS 17E ARRDT</td>\n",
       "      <td>NaN</td>\n",
       "      <td>NaN</td>\n",
       "      <td>BOULEVARD GOUVION SAINT CYR</td>\n",
       "      <td>000701005</td>\n",
       "      <td>40.0</td>\n",
       "      <td>5.0</td>\n",
       "      <td>A</td>\n",
       "      <td>Inconnue</td>\n",
       "      <td>laevigata</td>\n",
       "      <td>NaN</td>\n",
       "      <td>Crataegus</td>\n",
       "      <td>1987-02-27T02:00:00+01:00</td>\n",
       "      <td>0.0</td>\n",
       "      <td>Aubépine</td>\n",
       "      <td>5332</td>\n",
       "      <td>48.883505256, 2.28841488344</td>\n",
       "    </tr>\n",
       "    <tr>\n",
       "      <th>2</th>\n",
       "      <td>273084.0</td>\n",
       "      <td>Vide</td>\n",
       "      <td>Alignement</td>\n",
       "      <td>PARIS 18E ARRDT</td>\n",
       "      <td>NaN</td>\n",
       "      <td>NaN</td>\n",
       "      <td>RUE DE LA CHAPELLE</td>\n",
       "      <td>001804002</td>\n",
       "      <td>0.0</td>\n",
       "      <td>0.0</td>\n",
       "      <td>NaN</td>\n",
       "      <td>NaN</td>\n",
       "      <td>NaN</td>\n",
       "      <td>NaN</td>\n",
       "      <td>NaN</td>\n",
       "      <td>NaN</td>\n",
       "      <td>NaN</td>\n",
       "      <td>NaN</td>\n",
       "      <td>5340</td>\n",
       "      <td>48.8972678801, 2.35955887025</td>\n",
       "    </tr>\n",
       "    <tr>\n",
       "      <th>3</th>\n",
       "      <td>274056.0</td>\n",
       "      <td>Arbre</td>\n",
       "      <td>Alignement</td>\n",
       "      <td>PARIS 11E ARRDT</td>\n",
       "      <td>NaN</td>\n",
       "      <td>NaN</td>\n",
       "      <td>AVENUE PARMENTIER</td>\n",
       "      <td>002501002</td>\n",
       "      <td>35.0</td>\n",
       "      <td>5.0</td>\n",
       "      <td>J</td>\n",
       "      <td>Inconnue</td>\n",
       "      <td>excelsior</td>\n",
       "      <td>NaN</td>\n",
       "      <td>Fraxinus</td>\n",
       "      <td>1700-01-01T01:02:49+00:53</td>\n",
       "      <td>NaN</td>\n",
       "      <td>Frêne</td>\n",
       "      <td>5342</td>\n",
       "      <td>48.8691293895, 2.37156070815</td>\n",
       "    </tr>\n",
       "    <tr>\n",
       "      <th>4</th>\n",
       "      <td>275707.0</td>\n",
       "      <td>Arbre</td>\n",
       "      <td>Alignement</td>\n",
       "      <td>PARIS 7E ARRDT</td>\n",
       "      <td>NaN</td>\n",
       "      <td>NaN</td>\n",
       "      <td>ESPLANADE DES INVALIDES</td>\n",
       "      <td>000510003</td>\n",
       "      <td>70.0</td>\n",
       "      <td>15.0</td>\n",
       "      <td>J</td>\n",
       "      <td>Inconnue</td>\n",
       "      <td>tomentosa</td>\n",
       "      <td>NaN</td>\n",
       "      <td>Tilia</td>\n",
       "      <td>1700-01-01T01:02:49+00:53</td>\n",
       "      <td>0.0</td>\n",
       "      <td>Tilleul</td>\n",
       "      <td>5347</td>\n",
       "      <td>48.8597590839, 2.31151212856</td>\n",
       "    </tr>\n",
       "    <tr>\n",
       "      <th>5</th>\n",
       "      <td>275803.0</td>\n",
       "      <td>Arbre</td>\n",
       "      <td>Alignement</td>\n",
       "      <td>PARIS 7E ARRDT</td>\n",
       "      <td>NaN</td>\n",
       "      <td>NaN</td>\n",
       "      <td>ESPLANADE DES INVALIDES</td>\n",
       "      <td>000301002</td>\n",
       "      <td>135.0</td>\n",
       "      <td>12.0</td>\n",
       "      <td>A</td>\n",
       "      <td>Inconnue</td>\n",
       "      <td>tomentosa</td>\n",
       "      <td>NaN</td>\n",
       "      <td>Tilia</td>\n",
       "      <td>1700-01-01T01:02:49+00:53</td>\n",
       "      <td>0.0</td>\n",
       "      <td>Tilleul</td>\n",
       "      <td>5348</td>\n",
       "      <td>48.8609422879, 2.31228924275</td>\n",
       "    </tr>\n",
       "    <tr>\n",
       "      <th>6</th>\n",
       "      <td>276797.0</td>\n",
       "      <td>Arbre</td>\n",
       "      <td>Alignement</td>\n",
       "      <td>PARIS 7E ARRDT</td>\n",
       "      <td>F112 bis</td>\n",
       "      <td>NaN</td>\n",
       "      <td>AVENUE DE SUFFREN</td>\n",
       "      <td>001903009</td>\n",
       "      <td>85.0</td>\n",
       "      <td>13.0</td>\n",
       "      <td>A</td>\n",
       "      <td>Inconnue</td>\n",
       "      <td>x hispanica</td>\n",
       "      <td>NaN</td>\n",
       "      <td>Platanus</td>\n",
       "      <td>1700-01-01T01:02:49+00:53</td>\n",
       "      <td>0.0</td>\n",
       "      <td>Platane</td>\n",
       "      <td>5350</td>\n",
       "      <td>48.8490843603, 2.30459425912</td>\n",
       "    </tr>\n",
       "    <tr>\n",
       "      <th>7</th>\n",
       "      <td>277577.0</td>\n",
       "      <td>Arbre</td>\n",
       "      <td>Alignement</td>\n",
       "      <td>PARIS 7E ARRDT</td>\n",
       "      <td>8</td>\n",
       "      <td>NaN</td>\n",
       "      <td>AVENUE DE SAXE</td>\n",
       "      <td>000202009</td>\n",
       "      <td>180.0</td>\n",
       "      <td>18.0</td>\n",
       "      <td>A</td>\n",
       "      <td>Inconnue</td>\n",
       "      <td>occidentalis</td>\n",
       "      <td>NaN</td>\n",
       "      <td>Platanus</td>\n",
       "      <td>1700-01-01T01:02:49+00:53</td>\n",
       "      <td>0.0</td>\n",
       "      <td>Platane</td>\n",
       "      <td>5352</td>\n",
       "      <td>48.8498106561, 2.30749979754</td>\n",
       "    </tr>\n",
       "    <tr>\n",
       "      <th>8</th>\n",
       "      <td>307472.0</td>\n",
       "      <td>Arbre</td>\n",
       "      <td>Jardin</td>\n",
       "      <td>PARIS 8E ARRDT</td>\n",
       "      <td>NaN</td>\n",
       "      <td>NaN</td>\n",
       "      <td>JARDINS DES CHAMPS ELYSEES</td>\n",
       "      <td>00020014</td>\n",
       "      <td>195.0</td>\n",
       "      <td>13.0</td>\n",
       "      <td>NaN</td>\n",
       "      <td>Inconnue</td>\n",
       "      <td>hippocastanum</td>\n",
       "      <td>NaN</td>\n",
       "      <td>Aesculus</td>\n",
       "      <td>1700-01-01T01:02:49+00:53</td>\n",
       "      <td>NaN</td>\n",
       "      <td>Marronnier</td>\n",
       "      <td>5366</td>\n",
       "      <td>48.8687748682, 2.31242751361</td>\n",
       "    </tr>\n",
       "    <tr>\n",
       "      <th>9</th>\n",
       "      <td>322829.0</td>\n",
       "      <td>Souche</td>\n",
       "      <td>Jardin</td>\n",
       "      <td>PARIS 10E ARRDT</td>\n",
       "      <td>NaN</td>\n",
       "      <td>NaN</td>\n",
       "      <td>SQUARE DES RECOLLETS</td>\n",
       "      <td>00000012</td>\n",
       "      <td>0.0</td>\n",
       "      <td>0.0</td>\n",
       "      <td>NaN</td>\n",
       "      <td>NaN</td>\n",
       "      <td>NaN</td>\n",
       "      <td>NaN</td>\n",
       "      <td>NaN</td>\n",
       "      <td>NaN</td>\n",
       "      <td>NaN</td>\n",
       "      <td>NaN</td>\n",
       "      <td>5367</td>\n",
       "      <td>48.8738503546, 2.36321915207</td>\n",
       "    </tr>\n",
       "    <tr>\n",
       "      <th>10</th>\n",
       "      <td>2010754.0</td>\n",
       "      <td>Arbre</td>\n",
       "      <td>Jardin</td>\n",
       "      <td>BOIS DE VINCENNES</td>\n",
       "      <td>NaN</td>\n",
       "      <td>NaN</td>\n",
       "      <td>PARC FLORAL DE PARIS / ROUTE DE LA PYRAMIDE</td>\n",
       "      <td>00030026</td>\n",
       "      <td>160.0</td>\n",
       "      <td>22.0</td>\n",
       "      <td>A</td>\n",
       "      <td>NaN</td>\n",
       "      <td>robur</td>\n",
       "      <td>NaN</td>\n",
       "      <td>Quercus</td>\n",
       "      <td>1700-01-01T01:02:49+00:53</td>\n",
       "      <td>0.0</td>\n",
       "      <td>Chêne</td>\n",
       "      <td>5377</td>\n",
       "      <td>48.8387639125, 2.44060572761</td>\n",
       "    </tr>\n",
       "    <tr>\n",
       "      <th>11</th>\n",
       "      <td>139057.0</td>\n",
       "      <td>Souche</td>\n",
       "      <td>Jardin</td>\n",
       "      <td>PARIS 16E ARRDT</td>\n",
       "      <td>NaN</td>\n",
       "      <td>NaN</td>\n",
       "      <td>JARDIN PLACE DE LA PORTE MAILLOT</td>\n",
       "      <td>00000111</td>\n",
       "      <td>0.0</td>\n",
       "      <td>0.0</td>\n",
       "      <td>NaN</td>\n",
       "      <td>NaN</td>\n",
       "      <td>NaN</td>\n",
       "      <td>NaN</td>\n",
       "      <td>NaN</td>\n",
       "      <td>NaN</td>\n",
       "      <td>NaN</td>\n",
       "      <td>NaN</td>\n",
       "      <td>5381</td>\n",
       "      <td>48.8776140189, 2.28335862779</td>\n",
       "    </tr>\n",
       "    <tr>\n",
       "      <th>12</th>\n",
       "      <td>2018177.0</td>\n",
       "      <td>Arbre</td>\n",
       "      <td>DASCO</td>\n",
       "      <td>PARIS 20E ARRDT</td>\n",
       "      <td>NaN</td>\n",
       "      <td>NaN</td>\n",
       "      <td>ECOLE MATERNELLE / 18 RUE MARYSE HILSZ</td>\n",
       "      <td>061801015</td>\n",
       "      <td>20.0</td>\n",
       "      <td>2.0</td>\n",
       "      <td>NaN</td>\n",
       "      <td>Rungis</td>\n",
       "      <td>communis</td>\n",
       "      <td>'Général Leclerc'</td>\n",
       "      <td>Pyrus</td>\n",
       "      <td>2016-03-15T02:00:00+01:00</td>\n",
       "      <td>0.0</td>\n",
       "      <td>Poirier à fruits</td>\n",
       "      <td>5382</td>\n",
       "      <td>48.8503245697, 2.413439156</td>\n",
       "    </tr>\n",
       "    <tr>\n",
       "      <th>13</th>\n",
       "      <td>2019582.0</td>\n",
       "      <td>Arbre</td>\n",
       "      <td>Jardin</td>\n",
       "      <td>PARIS 12E ARRDT</td>\n",
       "      <td>NaN</td>\n",
       "      <td>NaN</td>\n",
       "      <td>PARC DE BERCY</td>\n",
       "      <td>1283</td>\n",
       "      <td>18.0</td>\n",
       "      <td>4.0</td>\n",
       "      <td>NaN</td>\n",
       "      <td>NaN</td>\n",
       "      <td>x lavalleei</td>\n",
       "      <td>'Carrierei'</td>\n",
       "      <td>Crataegus</td>\n",
       "      <td>2016-02-01T02:00:00+01:00</td>\n",
       "      <td>0.0</td>\n",
       "      <td>Aubépine</td>\n",
       "      <td>5384</td>\n",
       "      <td>48.8358792202, 2.38309725541</td>\n",
       "    </tr>\n",
       "    <tr>\n",
       "      <th>14</th>\n",
       "      <td>202928.0</td>\n",
       "      <td>Vide</td>\n",
       "      <td>Alignement</td>\n",
       "      <td>PARIS 5E ARRDT</td>\n",
       "      <td>NaN</td>\n",
       "      <td>NaN</td>\n",
       "      <td>QUAI SAINT BERNARD</td>\n",
       "      <td>000301039</td>\n",
       "      <td>0.0</td>\n",
       "      <td>0.0</td>\n",
       "      <td>NaN</td>\n",
       "      <td>NaN</td>\n",
       "      <td>NaN</td>\n",
       "      <td>NaN</td>\n",
       "      <td>NaN</td>\n",
       "      <td>NaN</td>\n",
       "      <td>NaN</td>\n",
       "      <td>NaN</td>\n",
       "      <td>5388</td>\n",
       "      <td>48.848232755, 2.35876508345</td>\n",
       "    </tr>\n",
       "    <tr>\n",
       "      <th>15</th>\n",
       "      <td>207079.0</td>\n",
       "      <td>Arbre</td>\n",
       "      <td>Alignement</td>\n",
       "      <td>PARIS 12E ARRDT</td>\n",
       "      <td>12</td>\n",
       "      <td>NaN</td>\n",
       "      <td>AVENUE DE LA PORTE DE VINCENNES</td>\n",
       "      <td>000204011</td>\n",
       "      <td>170.0</td>\n",
       "      <td>15.0</td>\n",
       "      <td>A</td>\n",
       "      <td>Inconnue</td>\n",
       "      <td>hippocastanum</td>\n",
       "      <td>NaN</td>\n",
       "      <td>Aesculus</td>\n",
       "      <td>1700-01-01T01:02:49+00:53</td>\n",
       "      <td>0.0</td>\n",
       "      <td>Marronnier</td>\n",
       "      <td>5391</td>\n",
       "      <td>48.8466399668, 2.41277332386</td>\n",
       "    </tr>\n",
       "    <tr>\n",
       "      <th>16</th>\n",
       "      <td>217258.0</td>\n",
       "      <td>Arbre</td>\n",
       "      <td>Alignement</td>\n",
       "      <td>PARIS 11E ARRDT</td>\n",
       "      <td>NaN</td>\n",
       "      <td>NaN</td>\n",
       "      <td>BOULEVARD DE CHARONNE</td>\n",
       "      <td>000702022</td>\n",
       "      <td>120.0</td>\n",
       "      <td>15.0</td>\n",
       "      <td>A</td>\n",
       "      <td>Inconnue</td>\n",
       "      <td>x hispanica</td>\n",
       "      <td>NaN</td>\n",
       "      <td>Platanus</td>\n",
       "      <td>1700-01-01T01:02:49+00:53</td>\n",
       "      <td>0.0</td>\n",
       "      <td>Platane</td>\n",
       "      <td>5403</td>\n",
       "      <td>48.858297476, 2.39017337925</td>\n",
       "    </tr>\n",
       "    <tr>\n",
       "      <th>17</th>\n",
       "      <td>222487.0</td>\n",
       "      <td>Arbre</td>\n",
       "      <td>Alignement</td>\n",
       "      <td>PARIS 18E ARRDT</td>\n",
       "      <td>135</td>\n",
       "      <td>NaN</td>\n",
       "      <td>RUE BELLIARD</td>\n",
       "      <td>000602029</td>\n",
       "      <td>205.0</td>\n",
       "      <td>16.0</td>\n",
       "      <td>M</td>\n",
       "      <td>Inconnue</td>\n",
       "      <td>x hispanica</td>\n",
       "      <td>NaN</td>\n",
       "      <td>Platanus</td>\n",
       "      <td>1700-01-01T01:02:49+00:53</td>\n",
       "      <td>0.0</td>\n",
       "      <td>Platane</td>\n",
       "      <td>5407</td>\n",
       "      <td>48.8962811339, 2.33423658852</td>\n",
       "    </tr>\n",
       "    <tr>\n",
       "      <th>18</th>\n",
       "      <td>234618.0</td>\n",
       "      <td>Arbre</td>\n",
       "      <td>Alignement</td>\n",
       "      <td>PARIS 15E ARRDT</td>\n",
       "      <td>4</td>\n",
       "      <td>NaN</td>\n",
       "      <td>RUE LEROY GOURHAN</td>\n",
       "      <td>000202003</td>\n",
       "      <td>65.0</td>\n",
       "      <td>10.0</td>\n",
       "      <td>JA</td>\n",
       "      <td>Inconnue</td>\n",
       "      <td>x europaea</td>\n",
       "      <td>'Pallida'</td>\n",
       "      <td>Tilia</td>\n",
       "      <td>1994-12-14T02:00:00+01:00</td>\n",
       "      <td>NaN</td>\n",
       "      <td>Tilleul</td>\n",
       "      <td>5416</td>\n",
       "      <td>48.8520015526, 2.29381624786</td>\n",
       "    </tr>\n",
       "    <tr>\n",
       "      <th>19</th>\n",
       "      <td>242137.0</td>\n",
       "      <td>Arbre</td>\n",
       "      <td>Alignement</td>\n",
       "      <td>PARIS 19E ARRDT</td>\n",
       "      <td>8</td>\n",
       "      <td>NaN</td>\n",
       "      <td>AVENUE SIMON BOLIVAR</td>\n",
       "      <td>000202005</td>\n",
       "      <td>45.0</td>\n",
       "      <td>5.0</td>\n",
       "      <td>J</td>\n",
       "      <td>Inconnue</td>\n",
       "      <td>orientalis</td>\n",
       "      <td>NaN</td>\n",
       "      <td>Platanus</td>\n",
       "      <td>1700-01-01T01:02:49+00:53</td>\n",
       "      <td>0.0</td>\n",
       "      <td>Platane</td>\n",
       "      <td>5426</td>\n",
       "      <td>48.8740421195, 2.38460408565</td>\n",
       "    </tr>\n",
       "    <tr>\n",
       "      <th>20</th>\n",
       "      <td>243666.0</td>\n",
       "      <td>Arbre</td>\n",
       "      <td>Alignement</td>\n",
       "      <td>PARIS 16E ARRDT</td>\n",
       "      <td>NaN</td>\n",
       "      <td>NaN</td>\n",
       "      <td>AVENUE DE VERSAILLES</td>\n",
       "      <td>000901086</td>\n",
       "      <td>45.0</td>\n",
       "      <td>8.0</td>\n",
       "      <td>JA</td>\n",
       "      <td>Inconnue</td>\n",
       "      <td>pseudoplatanus</td>\n",
       "      <td>NaN</td>\n",
       "      <td>Acer</td>\n",
       "      <td>1700-01-01T01:02:49+00:53</td>\n",
       "      <td>0.0</td>\n",
       "      <td>Erable</td>\n",
       "      <td>5428</td>\n",
       "      <td>48.8415854046, 2.26686750296</td>\n",
       "    </tr>\n",
       "    <tr>\n",
       "      <th>21</th>\n",
       "      <td>101095.0</td>\n",
       "      <td>Arbre</td>\n",
       "      <td>Jardin</td>\n",
       "      <td>PARIS 12E ARRDT</td>\n",
       "      <td>NaN</td>\n",
       "      <td>NaN</td>\n",
       "      <td>PARC DE BERCY</td>\n",
       "      <td>00000668</td>\n",
       "      <td>90.0</td>\n",
       "      <td>10.0</td>\n",
       "      <td>NaN</td>\n",
       "      <td>Inconnue</td>\n",
       "      <td>tulipifera</td>\n",
       "      <td>NaN</td>\n",
       "      <td>Liriodendron</td>\n",
       "      <td>1700-01-01T01:02:49+00:53</td>\n",
       "      <td>NaN</td>\n",
       "      <td>Tulipier</td>\n",
       "      <td>5435</td>\n",
       "      <td>48.8372522696, 2.37957054932</td>\n",
       "    </tr>\n",
       "    <tr>\n",
       "      <th>22</th>\n",
       "      <td>103674.0</td>\n",
       "      <td>Arbre</td>\n",
       "      <td>Jardin</td>\n",
       "      <td>PARIS 19E ARRDT</td>\n",
       "      <td>NaN</td>\n",
       "      <td>NaN</td>\n",
       "      <td>PARC DES BUTTES CHAUMONT</td>\n",
       "      <td>A0140007</td>\n",
       "      <td>40.0</td>\n",
       "      <td>0.0</td>\n",
       "      <td>NaN</td>\n",
       "      <td>Inconnue</td>\n",
       "      <td>deltoides</td>\n",
       "      <td>'Virginiana'</td>\n",
       "      <td>Populus</td>\n",
       "      <td>1700-01-01T01:02:49+00:53</td>\n",
       "      <td>NaN</td>\n",
       "      <td>Peuplier</td>\n",
       "      <td>5438</td>\n",
       "      <td>48.8828874008, 2.38545104849</td>\n",
       "    </tr>\n",
       "    <tr>\n",
       "      <th>23</th>\n",
       "      <td>108280.0</td>\n",
       "      <td>Arbre</td>\n",
       "      <td>Jardin</td>\n",
       "      <td>PARIS 16E ARRDT</td>\n",
       "      <td>NaN</td>\n",
       "      <td>NaN</td>\n",
       "      <td>JARDIN DU TROCADERO</td>\n",
       "      <td>00000421</td>\n",
       "      <td>360.0</td>\n",
       "      <td>20.0</td>\n",
       "      <td>NaN</td>\n",
       "      <td>Inconnue</td>\n",
       "      <td>hippocastanum</td>\n",
       "      <td>NaN</td>\n",
       "      <td>Aesculus</td>\n",
       "      <td>1700-01-01T01:02:49+00:53</td>\n",
       "      <td>NaN</td>\n",
       "      <td>Marronnier</td>\n",
       "      <td>5443</td>\n",
       "      <td>48.8625563944, 2.289756333</td>\n",
       "    </tr>\n",
       "    <tr>\n",
       "      <th>24</th>\n",
       "      <td>115231.0</td>\n",
       "      <td>Souche</td>\n",
       "      <td>Jardin</td>\n",
       "      <td>PARIS 16E ARRDT</td>\n",
       "      <td>41 à 49</td>\n",
       "      <td>NaN</td>\n",
       "      <td>JARDIN DE L AVENUE FOCH / 10 AVENUE FOCH</td>\n",
       "      <td>0301003</td>\n",
       "      <td>0.0</td>\n",
       "      <td>0.0</td>\n",
       "      <td>NaN</td>\n",
       "      <td>NaN</td>\n",
       "      <td>NaN</td>\n",
       "      <td>NaN</td>\n",
       "      <td>NaN</td>\n",
       "      <td>NaN</td>\n",
       "      <td>NaN</td>\n",
       "      <td>NaN</td>\n",
       "      <td>5446</td>\n",
       "      <td>48.8724155219, 2.284021753</td>\n",
       "    </tr>\n",
       "    <tr>\n",
       "      <th>25</th>\n",
       "      <td>115280.0</td>\n",
       "      <td>Arbre</td>\n",
       "      <td>Jardin</td>\n",
       "      <td>PARIS 16E ARRDT</td>\n",
       "      <td>11 à 27</td>\n",
       "      <td>NaN</td>\n",
       "      <td>JARDIN DE L AVENUE FOCH / 10 AVENUE FOCH</td>\n",
       "      <td>00010327</td>\n",
       "      <td>55.0</td>\n",
       "      <td>9.0</td>\n",
       "      <td>A</td>\n",
       "      <td>Inconnue</td>\n",
       "      <td>n. sp.</td>\n",
       "      <td>NaN</td>\n",
       "      <td>Acer</td>\n",
       "      <td>1700-01-01T01:02:49+00:53</td>\n",
       "      <td>0.0</td>\n",
       "      <td>Erable</td>\n",
       "      <td>5447</td>\n",
       "      <td>48.8727977706, 2.2893249231</td>\n",
       "    </tr>\n",
       "    <tr>\n",
       "      <th>26</th>\n",
       "      <td>122912.0</td>\n",
       "      <td>Arbre</td>\n",
       "      <td>Jardin</td>\n",
       "      <td>PARIS 12E ARRDT</td>\n",
       "      <td>NaN</td>\n",
       "      <td>NaN</td>\n",
       "      <td>SQUARE CHARLES PEGUY</td>\n",
       "      <td>00000019</td>\n",
       "      <td>95.0</td>\n",
       "      <td>9.0</td>\n",
       "      <td>NaN</td>\n",
       "      <td>Inconnue</td>\n",
       "      <td>cordata</td>\n",
       "      <td>NaN</td>\n",
       "      <td>Tilia</td>\n",
       "      <td>1989-01-01T02:00:00+01:00</td>\n",
       "      <td>NaN</td>\n",
       "      <td>Tilleul</td>\n",
       "      <td>5456</td>\n",
       "      <td>48.8389603467, 2.40627036517</td>\n",
       "    </tr>\n",
       "    <tr>\n",
       "      <th>27</th>\n",
       "      <td>133912.0</td>\n",
       "      <td>Arbre</td>\n",
       "      <td>Jardin</td>\n",
       "      <td>PARIS 15E ARRDT</td>\n",
       "      <td>NaN</td>\n",
       "      <td>NaN</td>\n",
       "      <td>SQUARE OISEAU LUNAIRE</td>\n",
       "      <td>00000008</td>\n",
       "      <td>90.0</td>\n",
       "      <td>0.0</td>\n",
       "      <td>NaN</td>\n",
       "      <td>Inconnue</td>\n",
       "      <td>nigra</td>\n",
       "      <td>'Italica'</td>\n",
       "      <td>Populus</td>\n",
       "      <td>1700-01-01T01:02:49+00:53</td>\n",
       "      <td>NaN</td>\n",
       "      <td>Peuplier</td>\n",
       "      <td>5464</td>\n",
       "      <td>48.8421120568, 2.30536724744</td>\n",
       "    </tr>\n",
       "    <tr>\n",
       "      <th>28</th>\n",
       "      <td>139538.0</td>\n",
       "      <td>Arbre</td>\n",
       "      <td>Jardin</td>\n",
       "      <td>PARIS 17E ARRDT</td>\n",
       "      <td>NaN</td>\n",
       "      <td>NaN</td>\n",
       "      <td>PROMENADE BERNARD LAFAY C2</td>\n",
       "      <td>20020134</td>\n",
       "      <td>75.0</td>\n",
       "      <td>0.0</td>\n",
       "      <td>NaN</td>\n",
       "      <td>Inconnue</td>\n",
       "      <td>nigra subsp. nigra</td>\n",
       "      <td>NaN</td>\n",
       "      <td>Pinus</td>\n",
       "      <td>1700-01-01T01:02:49+00:53</td>\n",
       "      <td>NaN</td>\n",
       "      <td>Pin</td>\n",
       "      <td>5470</td>\n",
       "      <td>48.8906485787, 2.29833530817</td>\n",
       "    </tr>\n",
       "    <tr>\n",
       "      <th>29</th>\n",
       "      <td>154834.0</td>\n",
       "      <td>Arbre</td>\n",
       "      <td>CIMETIERE</td>\n",
       "      <td>HAUTS-DE-SEINE</td>\n",
       "      <td>NaN</td>\n",
       "      <td>NaN</td>\n",
       "      <td>CIMETIERE DE BAGNEUX / AVENUE DES NOISETIERS D...</td>\n",
       "      <td>A07100043005</td>\n",
       "      <td>0.0</td>\n",
       "      <td>0.0</td>\n",
       "      <td>NaN</td>\n",
       "      <td>Inconnue</td>\n",
       "      <td>colurna</td>\n",
       "      <td>NaN</td>\n",
       "      <td>Corylus</td>\n",
       "      <td>1700-01-01T01:02:49+00:53</td>\n",
       "      <td>NaN</td>\n",
       "      <td>Noisetier de Byzance</td>\n",
       "      <td>5478</td>\n",
       "      <td>48.8067629767, 2.31047954021</td>\n",
       "    </tr>\n",
       "    <tr>\n",
       "      <th>...</th>\n",
       "      <td>...</td>\n",
       "      <td>...</td>\n",
       "      <td>...</td>\n",
       "      <td>...</td>\n",
       "      <td>...</td>\n",
       "      <td>...</td>\n",
       "      <td>...</td>\n",
       "      <td>...</td>\n",
       "      <td>...</td>\n",
       "      <td>...</td>\n",
       "      <td>...</td>\n",
       "      <td>...</td>\n",
       "      <td>...</td>\n",
       "      <td>...</td>\n",
       "      <td>...</td>\n",
       "      <td>...</td>\n",
       "      <td>...</td>\n",
       "      <td>...</td>\n",
       "      <td>...</td>\n",
       "      <td>...</td>\n",
       "    </tr>\n",
       "    <tr>\n",
       "      <th>222255</th>\n",
       "      <td>236420.0</td>\n",
       "      <td>Arbre</td>\n",
       "      <td>Alignement</td>\n",
       "      <td>PARIS 17E ARRDT</td>\n",
       "      <td>f28</td>\n",
       "      <td>NaN</td>\n",
       "      <td>BOULEVARD DES BATIGNOLLES</td>\n",
       "      <td>000204012</td>\n",
       "      <td>38.0</td>\n",
       "      <td>4.0</td>\n",
       "      <td>A</td>\n",
       "      <td>Inconnue</td>\n",
       "      <td>australis</td>\n",
       "      <td>NaN</td>\n",
       "      <td>Celtis</td>\n",
       "      <td>1700-01-01T01:02:49+00:53</td>\n",
       "      <td>0.0</td>\n",
       "      <td>Micocoulier</td>\n",
       "      <td>178371</td>\n",
       "      <td>48.8829966941, 2.32450829116</td>\n",
       "    </tr>\n",
       "    <tr>\n",
       "      <th>222256</th>\n",
       "      <td>241162.0</td>\n",
       "      <td>Arbre</td>\n",
       "      <td>Alignement</td>\n",
       "      <td>PARIS 14E ARRDT</td>\n",
       "      <td>NaN</td>\n",
       "      <td>NaN</td>\n",
       "      <td>RUE DU COMMANDANT RENE MOUCHOTTE</td>\n",
       "      <td>000101013</td>\n",
       "      <td>85.0</td>\n",
       "      <td>6.0</td>\n",
       "      <td>J</td>\n",
       "      <td>Arbor</td>\n",
       "      <td>rubra</td>\n",
       "      <td>NaN</td>\n",
       "      <td>Quercus</td>\n",
       "      <td>1995-01-27T02:00:00+01:00</td>\n",
       "      <td>0.0</td>\n",
       "      <td>Chêne</td>\n",
       "      <td>178379</td>\n",
       "      <td>48.8384451364, 2.31992857424</td>\n",
       "    </tr>\n",
       "    <tr>\n",
       "      <th>222257</th>\n",
       "      <td>168665.0</td>\n",
       "      <td>Arbre</td>\n",
       "      <td>CIMETIERE</td>\n",
       "      <td>VAL-DE-MARNE</td>\n",
       "      <td>NaN</td>\n",
       "      <td>NaN</td>\n",
       "      <td>CIMETIERE DE THIAIS / AVENUE PRINCIPALE SUD / ...</td>\n",
       "      <td>A14200020028</td>\n",
       "      <td>0.0</td>\n",
       "      <td>0.0</td>\n",
       "      <td>NaN</td>\n",
       "      <td>Inconnue</td>\n",
       "      <td>cordata</td>\n",
       "      <td>NaN</td>\n",
       "      <td>Tilia</td>\n",
       "      <td>1700-01-01T01:02:49+00:53</td>\n",
       "      <td>NaN</td>\n",
       "      <td>Tilleul</td>\n",
       "      <td>178441</td>\n",
       "      <td>48.7639062093, 2.37133720274</td>\n",
       "    </tr>\n",
       "    <tr>\n",
       "      <th>222258</th>\n",
       "      <td>173208.0</td>\n",
       "      <td>Arbre</td>\n",
       "      <td>PRIVE</td>\n",
       "      <td>PARIS 16E ARRDT</td>\n",
       "      <td>PRIVE</td>\n",
       "      <td>NaN</td>\n",
       "      <td>7 RUE DE L'ASSOMPTION</td>\n",
       "      <td>000022</td>\n",
       "      <td>60.0</td>\n",
       "      <td>13.0</td>\n",
       "      <td>NaN</td>\n",
       "      <td>Inconnue</td>\n",
       "      <td>platanoides</td>\n",
       "      <td>NaN</td>\n",
       "      <td>Acer</td>\n",
       "      <td>1700-01-01T01:02:49+00:53</td>\n",
       "      <td>NaN</td>\n",
       "      <td>Erable</td>\n",
       "      <td>178444</td>\n",
       "      <td>48.8529411019, 2.2743532944</td>\n",
       "    </tr>\n",
       "    <tr>\n",
       "      <th>222259</th>\n",
       "      <td>184655.0</td>\n",
       "      <td>Arbre</td>\n",
       "      <td>DASCO</td>\n",
       "      <td>PARIS 10E ARRDT</td>\n",
       "      <td>NaN</td>\n",
       "      <td>NaN</td>\n",
       "      <td>ECOLE ELEMENTAIRE / 41 RUE CHABROL</td>\n",
       "      <td>10370002</td>\n",
       "      <td>63.0</td>\n",
       "      <td>11.0</td>\n",
       "      <td>JA</td>\n",
       "      <td>Inconnue</td>\n",
       "      <td>x hispanica</td>\n",
       "      <td>NaN</td>\n",
       "      <td>Platanus</td>\n",
       "      <td>1700-01-01T01:02:49+00:53</td>\n",
       "      <td>NaN</td>\n",
       "      <td>Platane</td>\n",
       "      <td>178453</td>\n",
       "      <td>48.8763722839, 2.35276785467</td>\n",
       "    </tr>\n",
       "    <tr>\n",
       "      <th>222260</th>\n",
       "      <td>188803.0</td>\n",
       "      <td>Arbre</td>\n",
       "      <td>DFPE</td>\n",
       "      <td>PARIS 15E ARRDT</td>\n",
       "      <td>NaN</td>\n",
       "      <td>NaN</td>\n",
       "      <td>EMERIAU (53)</td>\n",
       "      <td>22141009</td>\n",
       "      <td>85.0</td>\n",
       "      <td>9.0</td>\n",
       "      <td>A</td>\n",
       "      <td>Inconnue</td>\n",
       "      <td>betulus</td>\n",
       "      <td>NaN</td>\n",
       "      <td>Carpinus</td>\n",
       "      <td>1700-01-01T01:02:49+00:53</td>\n",
       "      <td>0.0</td>\n",
       "      <td>Charme</td>\n",
       "      <td>178459</td>\n",
       "      <td>48.8483444251, 2.285595404</td>\n",
       "    </tr>\n",
       "    <tr>\n",
       "      <th>222261</th>\n",
       "      <td>191414.0</td>\n",
       "      <td>Arbre</td>\n",
       "      <td>DASCO</td>\n",
       "      <td>PARIS 12E ARRDT</td>\n",
       "      <td>NaN</td>\n",
       "      <td>NaN</td>\n",
       "      <td>REUILLY (27) ELEM</td>\n",
       "      <td>09912003</td>\n",
       "      <td>40.0</td>\n",
       "      <td>6.0</td>\n",
       "      <td>J</td>\n",
       "      <td>Inconnue</td>\n",
       "      <td>cerasifera</td>\n",
       "      <td>'Pissardii'</td>\n",
       "      <td>Prunus</td>\n",
       "      <td>1700-01-01T01:02:49+00:53</td>\n",
       "      <td>0.0</td>\n",
       "      <td>Prunier à fleurs</td>\n",
       "      <td>178461</td>\n",
       "      <td>48.8487493045, 2.38722774179</td>\n",
       "    </tr>\n",
       "    <tr>\n",
       "      <th>222262</th>\n",
       "      <td>250694.0</td>\n",
       "      <td>Arbre</td>\n",
       "      <td>Alignement</td>\n",
       "      <td>PARIS 15E ARRDT</td>\n",
       "      <td>N°11</td>\n",
       "      <td>NaN</td>\n",
       "      <td>RUE DE VOUILLE</td>\n",
       "      <td>000301002</td>\n",
       "      <td>70.0</td>\n",
       "      <td>8.0</td>\n",
       "      <td>A</td>\n",
       "      <td>Inconnue</td>\n",
       "      <td>tomentosa</td>\n",
       "      <td>NaN</td>\n",
       "      <td>Tilia</td>\n",
       "      <td>1700-01-01T01:02:49+00:53</td>\n",
       "      <td>0.0</td>\n",
       "      <td>Tilleul</td>\n",
       "      <td>178478</td>\n",
       "      <td>48.8351076604, 2.30402394961</td>\n",
       "    </tr>\n",
       "    <tr>\n",
       "      <th>222263</th>\n",
       "      <td>259792.0</td>\n",
       "      <td>Arbre</td>\n",
       "      <td>Alignement</td>\n",
       "      <td>PARIS 16E ARRDT</td>\n",
       "      <td>NaN</td>\n",
       "      <td>NaN</td>\n",
       "      <td>AVENUE FERDINAND BUISSON</td>\n",
       "      <td>000101001</td>\n",
       "      <td>145.0</td>\n",
       "      <td>15.0</td>\n",
       "      <td>A</td>\n",
       "      <td>Inconnue</td>\n",
       "      <td>x hispanica</td>\n",
       "      <td>NaN</td>\n",
       "      <td>Platanus</td>\n",
       "      <td>1700-01-01T01:02:49+00:53</td>\n",
       "      <td>0.0</td>\n",
       "      <td>Platane</td>\n",
       "      <td>178490</td>\n",
       "      <td>48.8350971564, 2.25496304596</td>\n",
       "    </tr>\n",
       "    <tr>\n",
       "      <th>222264</th>\n",
       "      <td>274774.0</td>\n",
       "      <td>Arbre</td>\n",
       "      <td>Alignement</td>\n",
       "      <td>PARIS 2E ARRDT</td>\n",
       "      <td>NaN</td>\n",
       "      <td>NaN</td>\n",
       "      <td>RUE DE RICHELIEU</td>\n",
       "      <td>001101001</td>\n",
       "      <td>29.0</td>\n",
       "      <td>5.0</td>\n",
       "      <td>JA</td>\n",
       "      <td>Inconnue</td>\n",
       "      <td>excelsior</td>\n",
       "      <td>'Dovastoniana'</td>\n",
       "      <td>Fraxinus</td>\n",
       "      <td>1982-03-15T02:00:00+01:00</td>\n",
       "      <td>0.0</td>\n",
       "      <td>NaN</td>\n",
       "      <td>178506</td>\n",
       "      <td>48.8681509732, 2.33809753292</td>\n",
       "    </tr>\n",
       "    <tr>\n",
       "      <th>222265</th>\n",
       "      <td>279845.0</td>\n",
       "      <td>Arbre</td>\n",
       "      <td>Alignement</td>\n",
       "      <td>PARIS 8E ARRDT</td>\n",
       "      <td>NaN</td>\n",
       "      <td>NaN</td>\n",
       "      <td>AVENUE DE FRIEDLAND</td>\n",
       "      <td>000501003</td>\n",
       "      <td>87.0</td>\n",
       "      <td>12.0</td>\n",
       "      <td>A</td>\n",
       "      <td>Arbor</td>\n",
       "      <td>x hispanica</td>\n",
       "      <td>NaN</td>\n",
       "      <td>Platanus</td>\n",
       "      <td>1994-12-15T02:00:00+01:00</td>\n",
       "      <td>0.0</td>\n",
       "      <td>Platane</td>\n",
       "      <td>178512</td>\n",
       "      <td>48.8742697844, 2.30062209769</td>\n",
       "    </tr>\n",
       "    <tr>\n",
       "      <th>222266</th>\n",
       "      <td>285969.0</td>\n",
       "      <td>Arbre</td>\n",
       "      <td>Alignement</td>\n",
       "      <td>PARIS 18E ARRDT</td>\n",
       "      <td>NaN</td>\n",
       "      <td>NaN</td>\n",
       "      <td>RUE CUSTINE</td>\n",
       "      <td>000402007</td>\n",
       "      <td>145.0</td>\n",
       "      <td>25.0</td>\n",
       "      <td>M</td>\n",
       "      <td>Inconnue</td>\n",
       "      <td>japonica</td>\n",
       "      <td>NaN</td>\n",
       "      <td>Sophora</td>\n",
       "      <td>1700-01-01T01:02:49+00:53</td>\n",
       "      <td>NaN</td>\n",
       "      <td>Sophora</td>\n",
       "      <td>178519</td>\n",
       "      <td>48.8886012374, 2.34747512116</td>\n",
       "    </tr>\n",
       "    <tr>\n",
       "      <th>222267</th>\n",
       "      <td>290924.0</td>\n",
       "      <td>Arbre</td>\n",
       "      <td>Alignement</td>\n",
       "      <td>PARIS 12E ARRDT</td>\n",
       "      <td>NaN</td>\n",
       "      <td>NaN</td>\n",
       "      <td>RUE JACQUES HILLAIRET</td>\n",
       "      <td>000202014</td>\n",
       "      <td>70.0</td>\n",
       "      <td>18.0</td>\n",
       "      <td>A</td>\n",
       "      <td>Inconnue</td>\n",
       "      <td>colurna</td>\n",
       "      <td>NaN</td>\n",
       "      <td>Corylus</td>\n",
       "      <td>1992-01-15T02:00:00+01:00</td>\n",
       "      <td>0.0</td>\n",
       "      <td>Noisetier de Byzance</td>\n",
       "      <td>178527</td>\n",
       "      <td>48.8430588877, 2.38856388283</td>\n",
       "    </tr>\n",
       "    <tr>\n",
       "      <th>222268</th>\n",
       "      <td>296218.0</td>\n",
       "      <td>Arbre</td>\n",
       "      <td>Alignement</td>\n",
       "      <td>PARIS 5E ARRDT</td>\n",
       "      <td>face au 17</td>\n",
       "      <td>NaN</td>\n",
       "      <td>RUE DES ECOLES</td>\n",
       "      <td>000404001</td>\n",
       "      <td>50.0</td>\n",
       "      <td>8.0</td>\n",
       "      <td>JA</td>\n",
       "      <td>Inconnue</td>\n",
       "      <td>x hispanica</td>\n",
       "      <td>NaN</td>\n",
       "      <td>Platanus</td>\n",
       "      <td>1700-01-01T01:02:49+00:53</td>\n",
       "      <td>0.0</td>\n",
       "      <td>Platane</td>\n",
       "      <td>178530</td>\n",
       "      <td>48.84798701, 2.35135165037</td>\n",
       "    </tr>\n",
       "    <tr>\n",
       "      <th>222269</th>\n",
       "      <td>296365.0</td>\n",
       "      <td>Arbre</td>\n",
       "      <td>Alignement</td>\n",
       "      <td>PARIS 17E ARRDT</td>\n",
       "      <td>NaN</td>\n",
       "      <td>NaN</td>\n",
       "      <td>PLACE TRISTAN BERNARD</td>\n",
       "      <td>000204002</td>\n",
       "      <td>75.0</td>\n",
       "      <td>8.0</td>\n",
       "      <td>A</td>\n",
       "      <td>Arbor</td>\n",
       "      <td>x hispanica</td>\n",
       "      <td>NaN</td>\n",
       "      <td>Platanus</td>\n",
       "      <td>1997-01-29T02:00:00+01:00</td>\n",
       "      <td>0.0</td>\n",
       "      <td>Platane</td>\n",
       "      <td>178531</td>\n",
       "      <td>48.8794982707, 2.29128374722</td>\n",
       "    </tr>\n",
       "    <tr>\n",
       "      <th>222270</th>\n",
       "      <td>298632.0</td>\n",
       "      <td>Arbre</td>\n",
       "      <td>Alignement</td>\n",
       "      <td>PARIS 5E ARRDT</td>\n",
       "      <td>NaN</td>\n",
       "      <td>NaN</td>\n",
       "      <td>QUAI SAINT BERNARD</td>\n",
       "      <td>000301012</td>\n",
       "      <td>75.0</td>\n",
       "      <td>10.0</td>\n",
       "      <td>JA</td>\n",
       "      <td>Bruns</td>\n",
       "      <td>x hispanica</td>\n",
       "      <td>NaN</td>\n",
       "      <td>Platanus</td>\n",
       "      <td>1997-03-02T02:00:00+01:00</td>\n",
       "      <td>0.0</td>\n",
       "      <td>Platane</td>\n",
       "      <td>178534</td>\n",
       "      <td>48.847225507, 2.36025119388</td>\n",
       "    </tr>\n",
       "    <tr>\n",
       "      <th>222271</th>\n",
       "      <td>236374.0</td>\n",
       "      <td>Souche</td>\n",
       "      <td>Alignement</td>\n",
       "      <td>PARIS 15E ARRDT</td>\n",
       "      <td>N°37</td>\n",
       "      <td>NaN</td>\n",
       "      <td>BOULEVARD DE GRENELLE</td>\n",
       "      <td>000201014</td>\n",
       "      <td>0.0</td>\n",
       "      <td>0.0</td>\n",
       "      <td>NaN</td>\n",
       "      <td>NaN</td>\n",
       "      <td>NaN</td>\n",
       "      <td>NaN</td>\n",
       "      <td>NaN</td>\n",
       "      <td>NaN</td>\n",
       "      <td>NaN</td>\n",
       "      <td>NaN</td>\n",
       "      <td>178567</td>\n",
       "      <td>48.8520413758, 2.29133367073</td>\n",
       "    </tr>\n",
       "    <tr>\n",
       "      <th>222272</th>\n",
       "      <td>226192.0</td>\n",
       "      <td>Arbre</td>\n",
       "      <td>Alignement</td>\n",
       "      <td>BOIS DE BOULOGNE</td>\n",
       "      <td>NaN</td>\n",
       "      <td>NaN</td>\n",
       "      <td>ALLEE DU BORD DE L EAU</td>\n",
       "      <td>000101082</td>\n",
       "      <td>0.0</td>\n",
       "      <td>0.0</td>\n",
       "      <td>NaN</td>\n",
       "      <td>Inconnue</td>\n",
       "      <td>x hispanica</td>\n",
       "      <td>NaN</td>\n",
       "      <td>Platanus</td>\n",
       "      <td>2005-01-01T02:00:00+01:00</td>\n",
       "      <td>NaN</td>\n",
       "      <td>Platane</td>\n",
       "      <td>178588</td>\n",
       "      <td>48.8612836693, 2.22859063598</td>\n",
       "    </tr>\n",
       "    <tr>\n",
       "      <th>222273</th>\n",
       "      <td>247482.0</td>\n",
       "      <td>Arbre</td>\n",
       "      <td>Alignement</td>\n",
       "      <td>PARIS 14E ARRDT</td>\n",
       "      <td>NaN</td>\n",
       "      <td>NaN</td>\n",
       "      <td>AVENUE MAURICE D OCAGNE</td>\n",
       "      <td>000101022</td>\n",
       "      <td>140.0</td>\n",
       "      <td>12.0</td>\n",
       "      <td>A</td>\n",
       "      <td>Inconnue</td>\n",
       "      <td>cordata</td>\n",
       "      <td>NaN</td>\n",
       "      <td>Tilia</td>\n",
       "      <td>1700-01-01T01:02:49+00:53</td>\n",
       "      <td>0.0</td>\n",
       "      <td>Tilleul</td>\n",
       "      <td>178599</td>\n",
       "      <td>48.8244359045, 2.31445838303</td>\n",
       "    </tr>\n",
       "    <tr>\n",
       "      <th>222274</th>\n",
       "      <td>168133.0</td>\n",
       "      <td>Arbre</td>\n",
       "      <td>CIMETIERE</td>\n",
       "      <td>PARIS 20E ARRDT</td>\n",
       "      <td>NaN</td>\n",
       "      <td>NaN</td>\n",
       "      <td>CIMETIERE DU PERE LACHAISE / AVENUE CARETTE / ...</td>\n",
       "      <td>A01000092014</td>\n",
       "      <td>100.0</td>\n",
       "      <td>10.0</td>\n",
       "      <td>NaN</td>\n",
       "      <td>Inconnue</td>\n",
       "      <td>n. sp.</td>\n",
       "      <td>NaN</td>\n",
       "      <td>Thuja</td>\n",
       "      <td>1700-01-01T01:02:49+00:53</td>\n",
       "      <td>NaN</td>\n",
       "      <td>Thuya</td>\n",
       "      <td>198417</td>\n",
       "      <td>48.8612637237, 2.39644282201</td>\n",
       "    </tr>\n",
       "    <tr>\n",
       "      <th>222275</th>\n",
       "      <td>178691.0</td>\n",
       "      <td>Arbre</td>\n",
       "      <td>PRIVE</td>\n",
       "      <td>PARIS 13E ARRDT</td>\n",
       "      <td>ESPACE VERT PROTEGE</td>\n",
       "      <td>NaN</td>\n",
       "      <td>EVP N°13-100 / 25-31 RUE BOUSSINGAULT</td>\n",
       "      <td>100031</td>\n",
       "      <td>45.0</td>\n",
       "      <td>4.0</td>\n",
       "      <td>NaN</td>\n",
       "      <td>Inconnue</td>\n",
       "      <td>grandiflora</td>\n",
       "      <td>NaN</td>\n",
       "      <td>Magnolia</td>\n",
       "      <td>1700-01-01T01:02:49+00:53</td>\n",
       "      <td>NaN</td>\n",
       "      <td>Magnolia</td>\n",
       "      <td>198424</td>\n",
       "      <td>48.8234970625, 2.3431689687</td>\n",
       "    </tr>\n",
       "    <tr>\n",
       "      <th>222276</th>\n",
       "      <td>183259.0</td>\n",
       "      <td>Arbre</td>\n",
       "      <td>PRIVE</td>\n",
       "      <td>PARIS 19E ARRDT</td>\n",
       "      <td>ESPACE VERT PROTEGE</td>\n",
       "      <td>NaN</td>\n",
       "      <td>EVP N°19-18 / EGLISE ORTHODOXE INSTITUT SAINT-...</td>\n",
       "      <td>018066</td>\n",
       "      <td>120.0</td>\n",
       "      <td>16.0</td>\n",
       "      <td>NaN</td>\n",
       "      <td>Inconnue</td>\n",
       "      <td>tomentosa</td>\n",
       "      <td>NaN</td>\n",
       "      <td>Tilia</td>\n",
       "      <td>1700-01-01T01:02:49+00:53</td>\n",
       "      <td>NaN</td>\n",
       "      <td>Tilleul</td>\n",
       "      <td>198428</td>\n",
       "      <td>48.8835506683, 2.38414290254</td>\n",
       "    </tr>\n",
       "    <tr>\n",
       "      <th>222277</th>\n",
       "      <td>252239.0</td>\n",
       "      <td>Arbre</td>\n",
       "      <td>Alignement</td>\n",
       "      <td>PARIS 16E ARRDT</td>\n",
       "      <td>NaN</td>\n",
       "      <td>NaN</td>\n",
       "      <td>AVENUE DU PARC DES PRINCES</td>\n",
       "      <td>000402010</td>\n",
       "      <td>130.0</td>\n",
       "      <td>10.0</td>\n",
       "      <td>A</td>\n",
       "      <td>Inconnue</td>\n",
       "      <td>japonica</td>\n",
       "      <td>NaN</td>\n",
       "      <td>Sophora</td>\n",
       "      <td>1964-10-30T02:00:00+01:00</td>\n",
       "      <td>0.0</td>\n",
       "      <td>Sophora</td>\n",
       "      <td>198453</td>\n",
       "      <td>48.8390820921, 2.25460141839</td>\n",
       "    </tr>\n",
       "    <tr>\n",
       "      <th>222278</th>\n",
       "      <td>253993.0</td>\n",
       "      <td>Arbre</td>\n",
       "      <td>Alignement</td>\n",
       "      <td>PARIS 16E ARRDT</td>\n",
       "      <td>NaN</td>\n",
       "      <td>NaN</td>\n",
       "      <td>AVENUE DE VERSAILLES</td>\n",
       "      <td>002101007</td>\n",
       "      <td>85.0</td>\n",
       "      <td>10.0</td>\n",
       "      <td>A</td>\n",
       "      <td>Inconnue</td>\n",
       "      <td>japonica</td>\n",
       "      <td>NaN</td>\n",
       "      <td>Sophora</td>\n",
       "      <td>1700-01-01T01:02:49+00:53</td>\n",
       "      <td>0.0</td>\n",
       "      <td>Sophora</td>\n",
       "      <td>198458</td>\n",
       "      <td>48.8387931724, 2.26043270007</td>\n",
       "    </tr>\n",
       "    <tr>\n",
       "      <th>222279</th>\n",
       "      <td>260405.0</td>\n",
       "      <td>Arbre</td>\n",
       "      <td>Alignement</td>\n",
       "      <td>PARIS 18E ARRDT</td>\n",
       "      <td>N°6</td>\n",
       "      <td>NaN</td>\n",
       "      <td>AVENUE DE CLICHY</td>\n",
       "      <td>000202005</td>\n",
       "      <td>140.0</td>\n",
       "      <td>15.0</td>\n",
       "      <td>A</td>\n",
       "      <td>Inconnue</td>\n",
       "      <td>x hispanica</td>\n",
       "      <td>NaN</td>\n",
       "      <td>Platanus</td>\n",
       "      <td>1700-01-01T01:02:49+00:53</td>\n",
       "      <td>0.0</td>\n",
       "      <td>Platane</td>\n",
       "      <td>198463</td>\n",
       "      <td>48.8841409925, 2.32723274594</td>\n",
       "    </tr>\n",
       "    <tr>\n",
       "      <th>222280</th>\n",
       "      <td>261364.0</td>\n",
       "      <td>Arbre</td>\n",
       "      <td>Alignement</td>\n",
       "      <td>PARIS 8E ARRDT</td>\n",
       "      <td>NaN</td>\n",
       "      <td>NaN</td>\n",
       "      <td>BOULEVARD MALESHERBES</td>\n",
       "      <td>001501004</td>\n",
       "      <td>106.0</td>\n",
       "      <td>17.0</td>\n",
       "      <td>A</td>\n",
       "      <td>Inconnue</td>\n",
       "      <td>x hispanica</td>\n",
       "      <td>NaN</td>\n",
       "      <td>Platanus</td>\n",
       "      <td>1700-01-01T01:02:49+00:53</td>\n",
       "      <td>0.0</td>\n",
       "      <td>Platane</td>\n",
       "      <td>198464</td>\n",
       "      <td>48.8769149658, 2.31714772376</td>\n",
       "    </tr>\n",
       "    <tr>\n",
       "      <th>222281</th>\n",
       "      <td>263132.0</td>\n",
       "      <td>Arbre</td>\n",
       "      <td>Alignement</td>\n",
       "      <td>PARIS 16E ARRDT</td>\n",
       "      <td>NaN</td>\n",
       "      <td>NaN</td>\n",
       "      <td>AVENUE DU PRESIDENT KENNEDY</td>\n",
       "      <td>000101020</td>\n",
       "      <td>120.0</td>\n",
       "      <td>15.0</td>\n",
       "      <td>A</td>\n",
       "      <td>Inconnue</td>\n",
       "      <td>cordata</td>\n",
       "      <td>NaN</td>\n",
       "      <td>Tilia</td>\n",
       "      <td>1700-01-01T01:02:49+00:53</td>\n",
       "      <td>0.0</td>\n",
       "      <td>Tilleul</td>\n",
       "      <td>198468</td>\n",
       "      <td>48.8564369271, 2.28613132278</td>\n",
       "    </tr>\n",
       "    <tr>\n",
       "      <th>222282</th>\n",
       "      <td>272080.0</td>\n",
       "      <td>Arbre</td>\n",
       "      <td>Alignement</td>\n",
       "      <td>PARIS 15E ARRDT</td>\n",
       "      <td>SN°</td>\n",
       "      <td>NaN</td>\n",
       "      <td>PLACE HENRI QUEUILLE</td>\n",
       "      <td>000101016</td>\n",
       "      <td>45.0</td>\n",
       "      <td>7.0</td>\n",
       "      <td>JA</td>\n",
       "      <td>Inconnue</td>\n",
       "      <td>x carnea</td>\n",
       "      <td>'Baumannii'</td>\n",
       "      <td>Aesculus</td>\n",
       "      <td>1700-01-01T01:02:49+00:53</td>\n",
       "      <td>0.0</td>\n",
       "      <td>NaN</td>\n",
       "      <td>198472</td>\n",
       "      <td>48.8448179521, 2.31165628959</td>\n",
       "    </tr>\n",
       "    <tr>\n",
       "      <th>222283</th>\n",
       "      <td>280934.0</td>\n",
       "      <td>Arbre</td>\n",
       "      <td>Alignement</td>\n",
       "      <td>PARIS 8E ARRDT</td>\n",
       "      <td>NaN</td>\n",
       "      <td>NaN</td>\n",
       "      <td>AVENUE HOCHE</td>\n",
       "      <td>000402026</td>\n",
       "      <td>102.0</td>\n",
       "      <td>11.0</td>\n",
       "      <td>A</td>\n",
       "      <td>Inconnue</td>\n",
       "      <td>hippocastanum</td>\n",
       "      <td>'Baumannii'</td>\n",
       "      <td>Aesculus</td>\n",
       "      <td>1988-03-15T02:00:00+01:00</td>\n",
       "      <td>0.0</td>\n",
       "      <td>Marronnier</td>\n",
       "      <td>198487</td>\n",
       "      <td>48.8753341224, 2.29856608419</td>\n",
       "    </tr>\n",
       "    <tr>\n",
       "      <th>222284</th>\n",
       "      <td>284641.0</td>\n",
       "      <td>Arbre</td>\n",
       "      <td>Alignement</td>\n",
       "      <td>PARIS 17E ARRDT</td>\n",
       "      <td>NaN</td>\n",
       "      <td>NaN</td>\n",
       "      <td>AVENUE DE SAINT OUEN</td>\n",
       "      <td>000301004</td>\n",
       "      <td>50.0</td>\n",
       "      <td>9.0</td>\n",
       "      <td>NaN</td>\n",
       "      <td>Inconnue</td>\n",
       "      <td>x hispanica</td>\n",
       "      <td>NaN</td>\n",
       "      <td>Platanus</td>\n",
       "      <td>1700-01-01T01:02:49+00:53</td>\n",
       "      <td>NaN</td>\n",
       "      <td>Platane</td>\n",
       "      <td>198492</td>\n",
       "      <td>48.8909488725, 2.32664242636</td>\n",
       "    </tr>\n",
       "  </tbody>\n",
       "</table>\n",
       "<p>222285 rows × 20 columns</p>\n",
       "</div>"
      ],
      "text/plain": [
       "           IDBASE TYPEEMPLACEMENT DOMANIALITE     ARRONDISSEMENT  \\\n",
       "0        259118.0           Arbre  Alignement    PARIS 15E ARRDT   \n",
       "1        263698.0           Arbre  Alignement    PARIS 17E ARRDT   \n",
       "2        273084.0            Vide  Alignement    PARIS 18E ARRDT   \n",
       "3        274056.0           Arbre  Alignement    PARIS 11E ARRDT   \n",
       "4        275707.0           Arbre  Alignement     PARIS 7E ARRDT   \n",
       "5        275803.0           Arbre  Alignement     PARIS 7E ARRDT   \n",
       "6        276797.0           Arbre  Alignement     PARIS 7E ARRDT   \n",
       "7        277577.0           Arbre  Alignement     PARIS 7E ARRDT   \n",
       "8        307472.0           Arbre      Jardin     PARIS 8E ARRDT   \n",
       "9        322829.0          Souche      Jardin    PARIS 10E ARRDT   \n",
       "10      2010754.0           Arbre      Jardin  BOIS DE VINCENNES   \n",
       "11       139057.0          Souche      Jardin    PARIS 16E ARRDT   \n",
       "12      2018177.0           Arbre       DASCO    PARIS 20E ARRDT   \n",
       "13      2019582.0           Arbre      Jardin    PARIS 12E ARRDT   \n",
       "14       202928.0            Vide  Alignement     PARIS 5E ARRDT   \n",
       "15       207079.0           Arbre  Alignement    PARIS 12E ARRDT   \n",
       "16       217258.0           Arbre  Alignement    PARIS 11E ARRDT   \n",
       "17       222487.0           Arbre  Alignement    PARIS 18E ARRDT   \n",
       "18       234618.0           Arbre  Alignement    PARIS 15E ARRDT   \n",
       "19       242137.0           Arbre  Alignement    PARIS 19E ARRDT   \n",
       "20       243666.0           Arbre  Alignement    PARIS 16E ARRDT   \n",
       "21       101095.0           Arbre      Jardin    PARIS 12E ARRDT   \n",
       "22       103674.0           Arbre      Jardin    PARIS 19E ARRDT   \n",
       "23       108280.0           Arbre      Jardin    PARIS 16E ARRDT   \n",
       "24       115231.0          Souche      Jardin    PARIS 16E ARRDT   \n",
       "25       115280.0           Arbre      Jardin    PARIS 16E ARRDT   \n",
       "26       122912.0           Arbre      Jardin    PARIS 12E ARRDT   \n",
       "27       133912.0           Arbre      Jardin    PARIS 15E ARRDT   \n",
       "28       139538.0           Arbre      Jardin    PARIS 17E ARRDT   \n",
       "29       154834.0           Arbre   CIMETIERE     HAUTS-DE-SEINE   \n",
       "...           ...             ...         ...                ...   \n",
       "222255   236420.0           Arbre  Alignement    PARIS 17E ARRDT   \n",
       "222256   241162.0           Arbre  Alignement    PARIS 14E ARRDT   \n",
       "222257   168665.0           Arbre   CIMETIERE       VAL-DE-MARNE   \n",
       "222258   173208.0           Arbre       PRIVE    PARIS 16E ARRDT   \n",
       "222259   184655.0           Arbre       DASCO    PARIS 10E ARRDT   \n",
       "222260   188803.0           Arbre        DFPE    PARIS 15E ARRDT   \n",
       "222261   191414.0           Arbre       DASCO    PARIS 12E ARRDT   \n",
       "222262   250694.0           Arbre  Alignement    PARIS 15E ARRDT   \n",
       "222263   259792.0           Arbre  Alignement    PARIS 16E ARRDT   \n",
       "222264   274774.0           Arbre  Alignement     PARIS 2E ARRDT   \n",
       "222265   279845.0           Arbre  Alignement     PARIS 8E ARRDT   \n",
       "222266   285969.0           Arbre  Alignement    PARIS 18E ARRDT   \n",
       "222267   290924.0           Arbre  Alignement    PARIS 12E ARRDT   \n",
       "222268   296218.0           Arbre  Alignement     PARIS 5E ARRDT   \n",
       "222269   296365.0           Arbre  Alignement    PARIS 17E ARRDT   \n",
       "222270   298632.0           Arbre  Alignement     PARIS 5E ARRDT   \n",
       "222271   236374.0          Souche  Alignement    PARIS 15E ARRDT   \n",
       "222272   226192.0           Arbre  Alignement   BOIS DE BOULOGNE   \n",
       "222273   247482.0           Arbre  Alignement    PARIS 14E ARRDT   \n",
       "222274   168133.0           Arbre   CIMETIERE    PARIS 20E ARRDT   \n",
       "222275   178691.0           Arbre       PRIVE    PARIS 13E ARRDT   \n",
       "222276   183259.0           Arbre       PRIVE    PARIS 19E ARRDT   \n",
       "222277   252239.0           Arbre  Alignement    PARIS 16E ARRDT   \n",
       "222278   253993.0           Arbre  Alignement    PARIS 16E ARRDT   \n",
       "222279   260405.0           Arbre  Alignement    PARIS 18E ARRDT   \n",
       "222280   261364.0           Arbre  Alignement     PARIS 8E ARRDT   \n",
       "222281   263132.0           Arbre  Alignement    PARIS 16E ARRDT   \n",
       "222282   272080.0           Arbre  Alignement    PARIS 15E ARRDT   \n",
       "222283   280934.0           Arbre  Alignement     PARIS 8E ARRDT   \n",
       "222284   284641.0           Arbre  Alignement    PARIS 17E ARRDT   \n",
       "\n",
       "          COMPLEMENTADRESSE  NUMERO  \\\n",
       "0                       NaN     NaN   \n",
       "1                       NaN     NaN   \n",
       "2                       NaN     NaN   \n",
       "3                       NaN     NaN   \n",
       "4                       NaN     NaN   \n",
       "5                       NaN     NaN   \n",
       "6                  F112 bis     NaN   \n",
       "7                         8     NaN   \n",
       "8                       NaN     NaN   \n",
       "9                       NaN     NaN   \n",
       "10                      NaN     NaN   \n",
       "11                      NaN     NaN   \n",
       "12                      NaN     NaN   \n",
       "13                      NaN     NaN   \n",
       "14                      NaN     NaN   \n",
       "15                       12     NaN   \n",
       "16                      NaN     NaN   \n",
       "17                      135     NaN   \n",
       "18                        4     NaN   \n",
       "19                        8     NaN   \n",
       "20                      NaN     NaN   \n",
       "21                      NaN     NaN   \n",
       "22                      NaN     NaN   \n",
       "23                      NaN     NaN   \n",
       "24                  41 à 49     NaN   \n",
       "25                  11 à 27     NaN   \n",
       "26                      NaN     NaN   \n",
       "27                      NaN     NaN   \n",
       "28                      NaN     NaN   \n",
       "29                      NaN     NaN   \n",
       "...                     ...     ...   \n",
       "222255                  f28     NaN   \n",
       "222256                  NaN     NaN   \n",
       "222257                  NaN     NaN   \n",
       "222258                PRIVE     NaN   \n",
       "222259                  NaN     NaN   \n",
       "222260                  NaN     NaN   \n",
       "222261                  NaN     NaN   \n",
       "222262                 N°11     NaN   \n",
       "222263                  NaN     NaN   \n",
       "222264                  NaN     NaN   \n",
       "222265                  NaN     NaN   \n",
       "222266                  NaN     NaN   \n",
       "222267                  NaN     NaN   \n",
       "222268           face au 17     NaN   \n",
       "222269                  NaN     NaN   \n",
       "222270                  NaN     NaN   \n",
       "222271                 N°37     NaN   \n",
       "222272                  NaN     NaN   \n",
       "222273                  NaN     NaN   \n",
       "222274                  NaN     NaN   \n",
       "222275  ESPACE VERT PROTEGE     NaN   \n",
       "222276  ESPACE VERT PROTEGE     NaN   \n",
       "222277                  NaN     NaN   \n",
       "222278                  NaN     NaN   \n",
       "222279                  N°6     NaN   \n",
       "222280                  NaN     NaN   \n",
       "222281                  NaN     NaN   \n",
       "222282                  SN°     NaN   \n",
       "222283                  NaN     NaN   \n",
       "222284                  NaN     NaN   \n",
       "\n",
       "                                           LIEU / ADRESSE IDEMPLACEMENT  \\\n",
       "0                                        ALLEE DES CYGNES     000501055   \n",
       "1                             BOULEVARD GOUVION SAINT CYR     000701005   \n",
       "2                                      RUE DE LA CHAPELLE     001804002   \n",
       "3                                       AVENUE PARMENTIER     002501002   \n",
       "4                                 ESPLANADE DES INVALIDES     000510003   \n",
       "5                                 ESPLANADE DES INVALIDES     000301002   \n",
       "6                                       AVENUE DE SUFFREN     001903009   \n",
       "7                                          AVENUE DE SAXE     000202009   \n",
       "8                              JARDINS DES CHAMPS ELYSEES      00020014   \n",
       "9                                    SQUARE DES RECOLLETS      00000012   \n",
       "10            PARC FLORAL DE PARIS / ROUTE DE LA PYRAMIDE      00030026   \n",
       "11                       JARDIN PLACE DE LA PORTE MAILLOT      00000111   \n",
       "12                 ECOLE MATERNELLE / 18 RUE MARYSE HILSZ     061801015   \n",
       "13                                          PARC DE BERCY          1283   \n",
       "14                                     QUAI SAINT BERNARD     000301039   \n",
       "15                        AVENUE DE LA PORTE DE VINCENNES     000204011   \n",
       "16                                  BOULEVARD DE CHARONNE     000702022   \n",
       "17                                           RUE BELLIARD     000602029   \n",
       "18                                      RUE LEROY GOURHAN     000202003   \n",
       "19                                   AVENUE SIMON BOLIVAR     000202005   \n",
       "20                                   AVENUE DE VERSAILLES     000901086   \n",
       "21                                          PARC DE BERCY      00000668   \n",
       "22                               PARC DES BUTTES CHAUMONT      A0140007   \n",
       "23                                    JARDIN DU TROCADERO      00000421   \n",
       "24               JARDIN DE L AVENUE FOCH / 10 AVENUE FOCH       0301003   \n",
       "25               JARDIN DE L AVENUE FOCH / 10 AVENUE FOCH      00010327   \n",
       "26                                   SQUARE CHARLES PEGUY      00000019   \n",
       "27                                  SQUARE OISEAU LUNAIRE      00000008   \n",
       "28                             PROMENADE BERNARD LAFAY C2      20020134   \n",
       "29      CIMETIERE DE BAGNEUX / AVENUE DES NOISETIERS D...  A07100043005   \n",
       "...                                                   ...           ...   \n",
       "222255                          BOULEVARD DES BATIGNOLLES     000204012   \n",
       "222256                   RUE DU COMMANDANT RENE MOUCHOTTE     000101013   \n",
       "222257  CIMETIERE DE THIAIS / AVENUE PRINCIPALE SUD / ...  A14200020028   \n",
       "222258                              7 RUE DE L'ASSOMPTION        000022   \n",
       "222259                 ECOLE ELEMENTAIRE / 41 RUE CHABROL      10370002   \n",
       "222260                                       EMERIAU (53)      22141009   \n",
       "222261                                  REUILLY (27) ELEM      09912003   \n",
       "222262                                     RUE DE VOUILLE     000301002   \n",
       "222263                           AVENUE FERDINAND BUISSON     000101001   \n",
       "222264                                   RUE DE RICHELIEU     001101001   \n",
       "222265                                AVENUE DE FRIEDLAND     000501003   \n",
       "222266                                        RUE CUSTINE     000402007   \n",
       "222267                              RUE JACQUES HILLAIRET     000202014   \n",
       "222268                                     RUE DES ECOLES     000404001   \n",
       "222269                              PLACE TRISTAN BERNARD     000204002   \n",
       "222270                                 QUAI SAINT BERNARD     000301012   \n",
       "222271                              BOULEVARD DE GRENELLE     000201014   \n",
       "222272                             ALLEE DU BORD DE L EAU     000101082   \n",
       "222273                            AVENUE MAURICE D OCAGNE     000101022   \n",
       "222274  CIMETIERE DU PERE LACHAISE / AVENUE CARETTE / ...  A01000092014   \n",
       "222275              EVP N°13-100 / 25-31 RUE BOUSSINGAULT        100031   \n",
       "222276  EVP N°19-18 / EGLISE ORTHODOXE INSTITUT SAINT-...        018066   \n",
       "222277                         AVENUE DU PARC DES PRINCES     000402010   \n",
       "222278                               AVENUE DE VERSAILLES     002101007   \n",
       "222279                                   AVENUE DE CLICHY     000202005   \n",
       "222280                              BOULEVARD MALESHERBES     001501004   \n",
       "222281                        AVENUE DU PRESIDENT KENNEDY     000101020   \n",
       "222282                               PLACE HENRI QUEUILLE     000101016   \n",
       "222283                                       AVENUE HOCHE     000402026   \n",
       "222284                               AVENUE DE SAINT OUEN     000301004   \n",
       "\n",
       "        CIRCONFERENCEENCM  HAUTEUR (m) STADEDEVELOPPEMENT PEPINIERE  \\\n",
       "0                    35.0          6.0                  J  Inconnue   \n",
       "1                    40.0          5.0                  A  Inconnue   \n",
       "2                     0.0          0.0                NaN       NaN   \n",
       "3                    35.0          5.0                  J  Inconnue   \n",
       "4                    70.0         15.0                  J  Inconnue   \n",
       "5                   135.0         12.0                  A  Inconnue   \n",
       "6                    85.0         13.0                  A  Inconnue   \n",
       "7                   180.0         18.0                  A  Inconnue   \n",
       "8                   195.0         13.0                NaN  Inconnue   \n",
       "9                     0.0          0.0                NaN       NaN   \n",
       "10                  160.0         22.0                  A       NaN   \n",
       "11                    0.0          0.0                NaN       NaN   \n",
       "12                   20.0          2.0                NaN    Rungis   \n",
       "13                   18.0          4.0                NaN       NaN   \n",
       "14                    0.0          0.0                NaN       NaN   \n",
       "15                  170.0         15.0                  A  Inconnue   \n",
       "16                  120.0         15.0                  A  Inconnue   \n",
       "17                  205.0         16.0                  M  Inconnue   \n",
       "18                   65.0         10.0                 JA  Inconnue   \n",
       "19                   45.0          5.0                  J  Inconnue   \n",
       "20                   45.0          8.0                 JA  Inconnue   \n",
       "21                   90.0         10.0                NaN  Inconnue   \n",
       "22                   40.0          0.0                NaN  Inconnue   \n",
       "23                  360.0         20.0                NaN  Inconnue   \n",
       "24                    0.0          0.0                NaN       NaN   \n",
       "25                   55.0          9.0                  A  Inconnue   \n",
       "26                   95.0          9.0                NaN  Inconnue   \n",
       "27                   90.0          0.0                NaN  Inconnue   \n",
       "28                   75.0          0.0                NaN  Inconnue   \n",
       "29                    0.0          0.0                NaN  Inconnue   \n",
       "...                   ...          ...                ...       ...   \n",
       "222255               38.0          4.0                  A  Inconnue   \n",
       "222256               85.0          6.0                  J     Arbor   \n",
       "222257                0.0          0.0                NaN  Inconnue   \n",
       "222258               60.0         13.0                NaN  Inconnue   \n",
       "222259               63.0         11.0                 JA  Inconnue   \n",
       "222260               85.0          9.0                  A  Inconnue   \n",
       "222261               40.0          6.0                  J  Inconnue   \n",
       "222262               70.0          8.0                  A  Inconnue   \n",
       "222263              145.0         15.0                  A  Inconnue   \n",
       "222264               29.0          5.0                 JA  Inconnue   \n",
       "222265               87.0         12.0                  A     Arbor   \n",
       "222266              145.0         25.0                  M  Inconnue   \n",
       "222267               70.0         18.0                  A  Inconnue   \n",
       "222268               50.0          8.0                 JA  Inconnue   \n",
       "222269               75.0          8.0                  A     Arbor   \n",
       "222270               75.0         10.0                 JA     Bruns   \n",
       "222271                0.0          0.0                NaN       NaN   \n",
       "222272                0.0          0.0                NaN  Inconnue   \n",
       "222273              140.0         12.0                  A  Inconnue   \n",
       "222274              100.0         10.0                NaN  Inconnue   \n",
       "222275               45.0          4.0                NaN  Inconnue   \n",
       "222276              120.0         16.0                NaN  Inconnue   \n",
       "222277              130.0         10.0                  A  Inconnue   \n",
       "222278               85.0         10.0                  A  Inconnue   \n",
       "222279              140.0         15.0                  A  Inconnue   \n",
       "222280              106.0         17.0                  A  Inconnue   \n",
       "222281              120.0         15.0                  A  Inconnue   \n",
       "222282               45.0          7.0                 JA  Inconnue   \n",
       "222283              102.0         11.0                  A  Inconnue   \n",
       "222284               50.0          9.0                NaN  Inconnue   \n",
       "\n",
       "                    ESPECE  VARIETEOUCULTIVAR         GENRE  \\\n",
       "0                    ornus                NaN      Fraxinus   \n",
       "1                laevigata                NaN     Crataegus   \n",
       "2                      NaN                NaN           NaN   \n",
       "3                excelsior                NaN      Fraxinus   \n",
       "4                tomentosa                NaN         Tilia   \n",
       "5                tomentosa                NaN         Tilia   \n",
       "6              x hispanica                NaN      Platanus   \n",
       "7             occidentalis                NaN      Platanus   \n",
       "8            hippocastanum                NaN      Aesculus   \n",
       "9                      NaN                NaN           NaN   \n",
       "10                   robur                NaN       Quercus   \n",
       "11                     NaN                NaN           NaN   \n",
       "12                communis  'Général Leclerc'         Pyrus   \n",
       "13             x lavalleei        'Carrierei'     Crataegus   \n",
       "14                     NaN                NaN           NaN   \n",
       "15           hippocastanum                NaN      Aesculus   \n",
       "16             x hispanica                NaN      Platanus   \n",
       "17             x hispanica                NaN      Platanus   \n",
       "18              x europaea          'Pallida'         Tilia   \n",
       "19              orientalis                NaN      Platanus   \n",
       "20          pseudoplatanus                NaN          Acer   \n",
       "21              tulipifera                NaN  Liriodendron   \n",
       "22               deltoides       'Virginiana'       Populus   \n",
       "23           hippocastanum                NaN      Aesculus   \n",
       "24                     NaN                NaN           NaN   \n",
       "25                  n. sp.                NaN          Acer   \n",
       "26                 cordata                NaN         Tilia   \n",
       "27                   nigra          'Italica'       Populus   \n",
       "28      nigra subsp. nigra                NaN         Pinus   \n",
       "29                 colurna                NaN       Corylus   \n",
       "...                    ...                ...           ...   \n",
       "222255           australis                NaN        Celtis   \n",
       "222256               rubra                NaN       Quercus   \n",
       "222257             cordata                NaN         Tilia   \n",
       "222258         platanoides                NaN          Acer   \n",
       "222259         x hispanica                NaN      Platanus   \n",
       "222260             betulus                NaN      Carpinus   \n",
       "222261          cerasifera        'Pissardii'        Prunus   \n",
       "222262           tomentosa                NaN         Tilia   \n",
       "222263         x hispanica                NaN      Platanus   \n",
       "222264           excelsior     'Dovastoniana'      Fraxinus   \n",
       "222265         x hispanica                NaN      Platanus   \n",
       "222266            japonica                NaN       Sophora   \n",
       "222267             colurna                NaN       Corylus   \n",
       "222268         x hispanica                NaN      Platanus   \n",
       "222269         x hispanica                NaN      Platanus   \n",
       "222270         x hispanica                NaN      Platanus   \n",
       "222271                 NaN                NaN           NaN   \n",
       "222272         x hispanica                NaN      Platanus   \n",
       "222273             cordata                NaN         Tilia   \n",
       "222274              n. sp.                NaN         Thuja   \n",
       "222275         grandiflora                NaN      Magnolia   \n",
       "222276           tomentosa                NaN         Tilia   \n",
       "222277            japonica                NaN       Sophora   \n",
       "222278            japonica                NaN       Sophora   \n",
       "222279         x hispanica                NaN      Platanus   \n",
       "222280         x hispanica                NaN      Platanus   \n",
       "222281             cordata                NaN         Tilia   \n",
       "222282            x carnea        'Baumannii'      Aesculus   \n",
       "222283       hippocastanum        'Baumannii'      Aesculus   \n",
       "222284         x hispanica                NaN      Platanus   \n",
       "\n",
       "                   DATEPLANTATION  REMARQUABLE       LIBELLEFRANCAIS  \\\n",
       "0       1700-01-01T01:02:49+00:53          0.0        Frêne à fleurs   \n",
       "1       1987-02-27T02:00:00+01:00          0.0              Aubépine   \n",
       "2                             NaN          NaN                   NaN   \n",
       "3       1700-01-01T01:02:49+00:53          NaN                 Frêne   \n",
       "4       1700-01-01T01:02:49+00:53          0.0               Tilleul   \n",
       "5       1700-01-01T01:02:49+00:53          0.0               Tilleul   \n",
       "6       1700-01-01T01:02:49+00:53          0.0               Platane   \n",
       "7       1700-01-01T01:02:49+00:53          0.0               Platane   \n",
       "8       1700-01-01T01:02:49+00:53          NaN            Marronnier   \n",
       "9                             NaN          NaN                   NaN   \n",
       "10      1700-01-01T01:02:49+00:53          0.0                 Chêne   \n",
       "11                            NaN          NaN                   NaN   \n",
       "12      2016-03-15T02:00:00+01:00          0.0      Poirier à fruits   \n",
       "13      2016-02-01T02:00:00+01:00          0.0              Aubépine   \n",
       "14                            NaN          NaN                   NaN   \n",
       "15      1700-01-01T01:02:49+00:53          0.0            Marronnier   \n",
       "16      1700-01-01T01:02:49+00:53          0.0               Platane   \n",
       "17      1700-01-01T01:02:49+00:53          0.0               Platane   \n",
       "18      1994-12-14T02:00:00+01:00          NaN               Tilleul   \n",
       "19      1700-01-01T01:02:49+00:53          0.0               Platane   \n",
       "20      1700-01-01T01:02:49+00:53          0.0                Erable   \n",
       "21      1700-01-01T01:02:49+00:53          NaN              Tulipier   \n",
       "22      1700-01-01T01:02:49+00:53          NaN              Peuplier   \n",
       "23      1700-01-01T01:02:49+00:53          NaN            Marronnier   \n",
       "24                            NaN          NaN                   NaN   \n",
       "25      1700-01-01T01:02:49+00:53          0.0                Erable   \n",
       "26      1989-01-01T02:00:00+01:00          NaN               Tilleul   \n",
       "27      1700-01-01T01:02:49+00:53          NaN              Peuplier   \n",
       "28      1700-01-01T01:02:49+00:53          NaN                   Pin   \n",
       "29      1700-01-01T01:02:49+00:53          NaN  Noisetier de Byzance   \n",
       "...                           ...          ...                   ...   \n",
       "222255  1700-01-01T01:02:49+00:53          0.0           Micocoulier   \n",
       "222256  1995-01-27T02:00:00+01:00          0.0                 Chêne   \n",
       "222257  1700-01-01T01:02:49+00:53          NaN               Tilleul   \n",
       "222258  1700-01-01T01:02:49+00:53          NaN                Erable   \n",
       "222259  1700-01-01T01:02:49+00:53          NaN               Platane   \n",
       "222260  1700-01-01T01:02:49+00:53          0.0                Charme   \n",
       "222261  1700-01-01T01:02:49+00:53          0.0      Prunier à fleurs   \n",
       "222262  1700-01-01T01:02:49+00:53          0.0               Tilleul   \n",
       "222263  1700-01-01T01:02:49+00:53          0.0               Platane   \n",
       "222264  1982-03-15T02:00:00+01:00          0.0                   NaN   \n",
       "222265  1994-12-15T02:00:00+01:00          0.0               Platane   \n",
       "222266  1700-01-01T01:02:49+00:53          NaN               Sophora   \n",
       "222267  1992-01-15T02:00:00+01:00          0.0  Noisetier de Byzance   \n",
       "222268  1700-01-01T01:02:49+00:53          0.0               Platane   \n",
       "222269  1997-01-29T02:00:00+01:00          0.0               Platane   \n",
       "222270  1997-03-02T02:00:00+01:00          0.0               Platane   \n",
       "222271                        NaN          NaN                   NaN   \n",
       "222272  2005-01-01T02:00:00+01:00          NaN               Platane   \n",
       "222273  1700-01-01T01:02:49+00:53          0.0               Tilleul   \n",
       "222274  1700-01-01T01:02:49+00:53          NaN                 Thuya   \n",
       "222275  1700-01-01T01:02:49+00:53          NaN              Magnolia   \n",
       "222276  1700-01-01T01:02:49+00:53          NaN               Tilleul   \n",
       "222277  1964-10-30T02:00:00+01:00          0.0               Sophora   \n",
       "222278  1700-01-01T01:02:49+00:53          0.0               Sophora   \n",
       "222279  1700-01-01T01:02:49+00:53          0.0               Platane   \n",
       "222280  1700-01-01T01:02:49+00:53          0.0               Platane   \n",
       "222281  1700-01-01T01:02:49+00:53          0.0               Tilleul   \n",
       "222282  1700-01-01T01:02:49+00:53          0.0                   NaN   \n",
       "222283  1988-03-15T02:00:00+01:00          0.0            Marronnier   \n",
       "222284  1700-01-01T01:02:49+00:53          NaN               Platane   \n",
       "\n",
       "        OBJECTID                  geo_point_2d  \n",
       "0           5330    48.854518311, 2.2861409543  \n",
       "1           5332   48.883505256, 2.28841488344  \n",
       "2           5340  48.8972678801, 2.35955887025  \n",
       "3           5342  48.8691293895, 2.37156070815  \n",
       "4           5347  48.8597590839, 2.31151212856  \n",
       "5           5348  48.8609422879, 2.31228924275  \n",
       "6           5350  48.8490843603, 2.30459425912  \n",
       "7           5352  48.8498106561, 2.30749979754  \n",
       "8           5366  48.8687748682, 2.31242751361  \n",
       "9           5367  48.8738503546, 2.36321915207  \n",
       "10          5377  48.8387639125, 2.44060572761  \n",
       "11          5381  48.8776140189, 2.28335862779  \n",
       "12          5382    48.8503245697, 2.413439156  \n",
       "13          5384  48.8358792202, 2.38309725541  \n",
       "14          5388   48.848232755, 2.35876508345  \n",
       "15          5391  48.8466399668, 2.41277332386  \n",
       "16          5403   48.858297476, 2.39017337925  \n",
       "17          5407  48.8962811339, 2.33423658852  \n",
       "18          5416  48.8520015526, 2.29381624786  \n",
       "19          5426  48.8740421195, 2.38460408565  \n",
       "20          5428  48.8415854046, 2.26686750296  \n",
       "21          5435  48.8372522696, 2.37957054932  \n",
       "22          5438  48.8828874008, 2.38545104849  \n",
       "23          5443    48.8625563944, 2.289756333  \n",
       "24          5446    48.8724155219, 2.284021753  \n",
       "25          5447   48.8727977706, 2.2893249231  \n",
       "26          5456  48.8389603467, 2.40627036517  \n",
       "27          5464  48.8421120568, 2.30536724744  \n",
       "28          5470  48.8906485787, 2.29833530817  \n",
       "29          5478  48.8067629767, 2.31047954021  \n",
       "...          ...                           ...  \n",
       "222255    178371  48.8829966941, 2.32450829116  \n",
       "222256    178379  48.8384451364, 2.31992857424  \n",
       "222257    178441  48.7639062093, 2.37133720274  \n",
       "222258    178444   48.8529411019, 2.2743532944  \n",
       "222259    178453  48.8763722839, 2.35276785467  \n",
       "222260    178459    48.8483444251, 2.285595404  \n",
       "222261    178461  48.8487493045, 2.38722774179  \n",
       "222262    178478  48.8351076604, 2.30402394961  \n",
       "222263    178490  48.8350971564, 2.25496304596  \n",
       "222264    178506  48.8681509732, 2.33809753292  \n",
       "222265    178512  48.8742697844, 2.30062209769  \n",
       "222266    178519  48.8886012374, 2.34747512116  \n",
       "222267    178527  48.8430588877, 2.38856388283  \n",
       "222268    178530    48.84798701, 2.35135165037  \n",
       "222269    178531  48.8794982707, 2.29128374722  \n",
       "222270    178534   48.847225507, 2.36025119388  \n",
       "222271    178567  48.8520413758, 2.29133367073  \n",
       "222272    178588  48.8612836693, 2.22859063598  \n",
       "222273    178599  48.8244359045, 2.31445838303  \n",
       "222274    198417  48.8612637237, 2.39644282201  \n",
       "222275    198424   48.8234970625, 2.3431689687  \n",
       "222276    198428  48.8835506683, 2.38414290254  \n",
       "222277    198453  48.8390820921, 2.25460141839  \n",
       "222278    198458  48.8387931724, 2.26043270007  \n",
       "222279    198463  48.8841409925, 2.32723274594  \n",
       "222280    198464  48.8769149658, 2.31714772376  \n",
       "222281    198468  48.8564369271, 2.28613132278  \n",
       "222282    198472  48.8448179521, 2.31165628959  \n",
       "222283    198487  48.8753341224, 2.29856608419  \n",
       "222284    198492  48.8909488725, 2.32664242636  \n",
       "\n",
       "[222285 rows x 20 columns]"
      ]
     },
     "execution_count": 4,
     "metadata": {},
     "output_type": "execute_result"
    }
   ],
   "source": [
    "df"
   ]
  },
  {
   "cell_type": "code",
   "execution_count": 5,
   "metadata": {
    "collapsed": false
   },
   "outputs": [
    {
     "data": {
      "text/plain": [
       "Index(['IDBASE', 'TYPEEMPLACEMENT', 'DOMANIALITE', 'ARRONDISSEMENT',\n",
       "       'COMPLEMENTADRESSE', 'NUMERO', 'LIEU / ADRESSE', 'IDEMPLACEMENT',\n",
       "       'CIRCONFERENCEENCM', 'HAUTEUR (m)', 'STADEDEVELOPPEMENT', 'PEPINIERE',\n",
       "       'ESPECE', 'VARIETEOUCULTIVAR', 'GENRE', 'DATEPLANTATION', 'REMARQUABLE',\n",
       "       'LIBELLEFRANCAIS', 'OBJECTID', 'geo_point_2d'],\n",
       "      dtype='object')"
      ]
     },
     "execution_count": 5,
     "metadata": {},
     "output_type": "execute_result"
    }
   ],
   "source": [
    "df.columns"
   ]
  },
  {
   "cell_type": "markdown",
   "metadata": {},
   "source": [
    "# Suppression des colonnes semblant sans intérêt"
   ]
  },
  {
   "cell_type": "code",
   "execution_count": 6,
   "metadata": {
    "collapsed": false
   },
   "outputs": [],
   "source": [
    "df = df.drop(['IDBASE','ARRONDISSEMENT','COMPLEMENTADRESSE','NUMERO','LIEU / ADRESSE','IDEMPLACEMENT','REMARQUABLE','OBJECTID','geo_point_2d'],axis=1)"
   ]
  },
  {
   "cell_type": "code",
   "execution_count": 7,
   "metadata": {
    "collapsed": false
   },
   "outputs": [],
   "source": [
    "train = df[df['HAUTEUR (m)']!=0]"
   ]
  },
  {
   "cell_type": "code",
   "execution_count": 8,
   "metadata": {
    "collapsed": true
   },
   "outputs": [],
   "source": [
    "valid = df[df['HAUTEUR (m)']==0]"
   ]
  },
  {
   "cell_type": "code",
   "execution_count": 9,
   "metadata": {
    "collapsed": false
   },
   "outputs": [
    {
     "data": {
      "text/plain": [
       "(170510, 11)"
      ]
     },
     "execution_count": 9,
     "metadata": {},
     "output_type": "execute_result"
    }
   ],
   "source": [
    "train.shape"
   ]
  },
  {
   "cell_type": "code",
   "execution_count": 10,
   "metadata": {
    "collapsed": false
   },
   "outputs": [
    {
     "data": {
      "text/plain": [
       "(51775, 11)"
      ]
     },
     "execution_count": 10,
     "metadata": {},
     "output_type": "execute_result"
    }
   ],
   "source": [
    "valid.shape"
   ]
  },
  {
   "cell_type": "markdown",
   "metadata": {},
   "source": [
    "# Suppression de valeurs aberrantes"
   ]
  },
  {
   "cell_type": "code",
   "execution_count": 11,
   "metadata": {
    "collapsed": true
   },
   "outputs": [],
   "source": [
    "train = train.drop(train[train['HAUTEUR (m)']>30].index)\n",
    "train = train.drop(train[train['CIRCONFERENCEENCM']>1500].index)"
   ]
  },
  {
   "cell_type": "markdown",
   "metadata": {},
   "source": [
    "# Exploration des données"
   ]
  },
  {
   "cell_type": "code",
   "execution_count": 12,
   "metadata": {
    "collapsed": false
   },
   "outputs": [
    {
     "name": "stderr",
     "output_type": "stream",
     "text": [
      "C:\\Users\\admin\\Anaconda3\\lib\\site-packages\\matplotlib\\__init__.py:1405: UserWarning: \n",
      "This call to matplotlib.use() has no effect because the backend has already\n",
      "been chosen; matplotlib.use() must be called *before* pylab, matplotlib.pyplot,\n",
      "or matplotlib.backends is imported for the first time.\n",
      "\n",
      "  warnings.warn(_use_error_msg)\n"
     ]
    },
    {
     "data": {
      "image/png": "[encoded data removed]",
      "text/plain": [
       "<matplotlib.figure.Figure at 0xc5ea2b0>"
      ]
     },
     "metadata": {},
     "output_type": "display_data"
    }
   ],
   "source": [
    "import matplotlib\n",
    "matplotlib.use('Agg')\n",
    "import matplotlib.pyplot as plt\n",
    "matplotlib.style.use('ggplot')\n",
    "import seaborn as sns\n",
    "sns.set()\n",
    "sns_plot = sns.distplot(train['HAUTEUR (m)'])\n",
    "fig = sns_plot.get_figure()"
   ]
  },
  {
   "cell_type": "markdown",
   "metadata": {},
   "source": [
    "On observe un biais dans les hauteurs. Certains inscrivent la hauteur en multiple de 5."
   ]
  },
  {
   "cell_type": "code",
   "execution_count": 13,
   "metadata": {
    "collapsed": false
   },
   "outputs": [
    {
     "name": "stderr",
     "output_type": "stream",
     "text": [
      "C:\\Users\\admin\\Anaconda3\\lib\\site-packages\\matplotlib\\__init__.py:1405: UserWarning: \n",
      "This call to matplotlib.use() has no effect because the backend has already\n",
      "been chosen; matplotlib.use() must be called *before* pylab, matplotlib.pyplot,\n",
      "or matplotlib.backends is imported for the first time.\n",
      "\n",
      "  warnings.warn(_use_error_msg)\n"
     ]
    },
    {
     "data": {
      "image/png": "[encoded data removed]",
      "text/plain": [
       "<matplotlib.figure.Figure at 0x9bc2e10>"
      ]
     },
     "metadata": {},
     "output_type": "display_data"
    }
   ],
   "source": [
    "import matplotlib\n",
    "matplotlib.use('Agg')\n",
    "import matplotlib.pyplot as plt\n",
    "matplotlib.style.use('ggplot')\n",
    "import seaborn as sns\n",
    "sns.set()\n",
    "sns_plot = sns.distplot(train['CIRCONFERENCEENCM'])\n",
    "fig = sns_plot.get_figure()"
   ]
  },
  {
   "cell_type": "markdown",
   "metadata": {},
   "source": [
    "la distribution semble correcte. Distribution asymétrique."
   ]
  },
  {
   "cell_type": "code",
   "execution_count": 14,
   "metadata": {
    "collapsed": false,
    "scrolled": true
   },
   "outputs": [
    {
     "data": {
      "text/html": [
       "<div>\n",
       "<style>\n",
       "    .dataframe thead tr:only-child th {\n",
       "        text-align: right;\n",
       "    }\n",
       "\n",
       "    .dataframe thead th {\n",
       "        text-align: left;\n",
       "    }\n",
       "\n",
       "    .dataframe tbody tr th {\n",
       "        vertical-align: top;\n",
       "    }\n",
       "</style>\n",
       "<table border=\"1\" class=\"dataframe\">\n",
       "  <thead>\n",
       "    <tr style=\"text-align: right;\">\n",
       "      <th></th>\n",
       "      <th>CIRCONFERENCEENCM</th>\n",
       "      <th>HAUTEUR (m)</th>\n",
       "    </tr>\n",
       "  </thead>\n",
       "  <tbody>\n",
       "    <tr>\n",
       "      <th>count</th>\n",
       "      <td>169882.000000</td>\n",
       "      <td>169882.000000</td>\n",
       "    </tr>\n",
       "    <tr>\n",
       "      <th>mean</th>\n",
       "      <td>93.736358</td>\n",
       "      <td>10.406435</td>\n",
       "    </tr>\n",
       "    <tr>\n",
       "      <th>std</th>\n",
       "      <td>61.187546</td>\n",
       "      <td>5.101744</td>\n",
       "    </tr>\n",
       "    <tr>\n",
       "      <th>min</th>\n",
       "      <td>0.000000</td>\n",
       "      <td>1.000000</td>\n",
       "    </tr>\n",
       "    <tr>\n",
       "      <th>25%</th>\n",
       "      <td>50.000000</td>\n",
       "      <td>6.000000</td>\n",
       "    </tr>\n",
       "    <tr>\n",
       "      <th>50%</th>\n",
       "      <td>80.000000</td>\n",
       "      <td>10.000000</td>\n",
       "    </tr>\n",
       "    <tr>\n",
       "      <th>75%</th>\n",
       "      <td>125.000000</td>\n",
       "      <td>14.000000</td>\n",
       "    </tr>\n",
       "    <tr>\n",
       "      <th>max</th>\n",
       "      <td>1360.000000</td>\n",
       "      <td>30.000000</td>\n",
       "    </tr>\n",
       "  </tbody>\n",
       "</table>\n",
       "</div>"
      ],
      "text/plain": [
       "       CIRCONFERENCEENCM    HAUTEUR (m)\n",
       "count      169882.000000  169882.000000\n",
       "mean           93.736358      10.406435\n",
       "std            61.187546       5.101744\n",
       "min             0.000000       1.000000\n",
       "25%            50.000000       6.000000\n",
       "50%            80.000000      10.000000\n",
       "75%           125.000000      14.000000\n",
       "max          1360.000000      30.000000"
      ]
     },
     "execution_count": 14,
     "metadata": {},
     "output_type": "execute_result"
    }
   ],
   "source": [
    "train.describe()"
   ]
  },
  {
   "cell_type": "markdown",
   "metadata": {},
   "source": [
    "On a une bonne variance sur la circonférence on va la garder."
   ]
  },
  {
   "cell_type": "markdown",
   "metadata": {},
   "source": [
    "# Valeurs manquantes"
   ]
  },
  {
   "cell_type": "code",
   "execution_count": 15,
   "metadata": {
    "collapsed": false
   },
   "outputs": [
    {
     "data": {
      "text/plain": [
       "(169882, 11)"
      ]
     },
     "execution_count": 15,
     "metadata": {},
     "output_type": "execute_result"
    }
   ],
   "source": [
    "train.shape"
   ]
  },
  {
   "cell_type": "code",
   "execution_count": 16,
   "metadata": {
    "collapsed": false
   },
   "outputs": [
    {
     "data": {
      "text/plain": [
       "DOMANIALITE                1\n",
       "ESPECE                  1153\n",
       "LIBELLEFRANCAIS         1316\n",
       "PEPINIERE               5071\n",
       "STADEDEVELOPPEMENT     38138\n",
       "VARIETEOUCULTIVAR     140563\n",
       "dtype: int64"
      ]
     },
     "execution_count": 16,
     "metadata": {},
     "output_type": "execute_result"
    },
    {
     "data": {
      "image/png": "[encoded data removed]",
      "text/plain": [
       "<matplotlib.figure.Figure at 0xe6f79e8>"
      ]
     },
     "metadata": {},
     "output_type": "display_data"
    }
   ],
   "source": [
    "def check_missing(X):\n",
    "    missing = X.isnull().sum()\n",
    "    missing = missing[missing > 0]\n",
    "    missing.sort_values(inplace=True)\n",
    "    missing.plot.bar()\n",
    "    plt.savefig(\"missing.png\", dpi=300, bbox_inches='tight')\n",
    "    return missing\n",
    "check_missing(train)"
   ]
  },
  {
   "cell_type": "markdown",
   "metadata": {},
   "source": [
    "On supprime la variable VARIETEOUCULTIVAR, on a trop de données manquantes"
   ]
  },
  {
   "cell_type": "code",
   "execution_count": 17,
   "metadata": {
    "collapsed": false
   },
   "outputs": [],
   "source": [
    "train = train.drop('VARIETEOUCULTIVAR',axis=1)\n",
    "valid = valid.drop('VARIETEOUCULTIVAR',axis=1)"
   ]
  },
  {
   "cell_type": "code",
   "execution_count": 18,
   "metadata": {
    "collapsed": false
   },
   "outputs": [
    {
     "data": {
      "image/png": "[encoded data removed]",
      "text/plain": [
       "<matplotlib.figure.Figure at 0xe5f7978>"
      ]
     },
     "metadata": {},
     "output_type": "display_data"
    }
   ],
   "source": [
    "sns_plot = sns.countplot(y=train['DOMANIALITE'],orient='v')\n",
    "fig = sns_plot.get_figure()"
   ]
  },
  {
   "cell_type": "markdown",
   "metadata": {},
   "source": [
    "On remplace les données manquantes par les données les plus courantes"
   ]
  },
  {
   "cell_type": "code",
   "execution_count": 19,
   "metadata": {
    "collapsed": false
   },
   "outputs": [],
   "source": [
    "train.loc[:, \"DOMANIALITE\"] = train.loc[:, \"DOMANIALITE\"].fillna(\"Alignement\")\n",
    "valid.loc[:, \"DOMANIALITE\"] = valid.loc[:, \"DOMANIALITE\"].fillna(\"Alignement\")\n"
   ]
  },
  {
   "cell_type": "markdown",
   "metadata": {},
   "source": [
    "On regroupe les catégories avec peu d'observations"
   ]
  },
  {
   "cell_type": "code",
   "execution_count": 20,
   "metadata": {
    "collapsed": false
   },
   "outputs": [],
   "source": [
    "train[\"DOMANIALITE\"] =train[\"DOMANIALITE\"].replace({'DFPE':'Other','DAC':'Other','DASES':'Other'})\n",
    "valid[\"DOMANIALITE\"] =valid[\"DOMANIALITE\"].replace({'DFPE':'Other','DAC':'Other','DASES':'Other'})\n"
   ]
  },
  {
   "cell_type": "code",
   "execution_count": 21,
   "metadata": {
    "collapsed": false
   },
   "outputs": [
    {
     "name": "stdout",
     "output_type": "stream",
     "text": [
      "x hispanica -> 34186\n"
     ]
    }
   ],
   "source": [
    "def max_count_cat(cat):\n",
    "    max_count = 0\n",
    "    max_f = ''\n",
    "    for f in train[cat].unique():\n",
    "        count_f = train[train[cat]==f][cat].count()\n",
    "        if count_f>max_count:\n",
    "            max_count=count_f\n",
    "            max_f = f\n",
    "    return max_f,max_count\n",
    "max_f_espece, max_count_espece = max_count_cat(\"ESPECE\")\n",
    "print(max_f_espece,'->',max_count_espece)"
   ]
  },
  {
   "cell_type": "code",
   "execution_count": 22,
   "metadata": {
    "collapsed": true
   },
   "outputs": [],
   "source": [
    "train.loc[:, \"ESPECE\"] = train.loc[:, \"ESPECE\"].fillna(\"x hispanica\")\n",
    "valid.loc[:, \"ESPECE\"] = valid.loc[:, \"ESPECE\"].fillna(\"x hispanica\")"
   ]
  },
  {
   "cell_type": "markdown",
   "metadata": {},
   "source": [
    "On a beaucoup d'espèce, on va regrouper tout cela"
   ]
  },
  {
   "cell_type": "code",
   "execution_count": 23,
   "metadata": {
    "collapsed": false
   },
   "outputs": [
    {
     "data": {
      "text/plain": [
       "382"
      ]
     },
     "execution_count": 23,
     "metadata": {},
     "output_type": "execute_result"
    }
   ],
   "source": [
    "len(train['ESPECE'].unique())"
   ]
  },
  {
   "cell_type": "code",
   "execution_count": 24,
   "metadata": {
    "collapsed": true
   },
   "outputs": [],
   "source": [
    "def regroup_cat(data,cat,target,size):\n",
    "    my_cat = list(data[cat].unique())\n",
    "    agglomerate_cat = pd.DataFrame()\n",
    "    a=[]\n",
    "    b=[]\n",
    "    for cat_ in my_cat:\n",
    "        if data[data[cat]==cat_][target].count() < 1000:\n",
    "            a.append(cat_)\n",
    "            b.append(data[data[cat]==cat_][target].count())\n",
    "    agglomerate_cat['categories']= a\n",
    "    agglomerate_cat['count']= b\n",
    "    c = []\n",
    "    for cat_ in a:\n",
    "        c.append(data[data[cat]==cat_][target].mean())\n",
    "    agglomerate_cat['mean_target']= c\n",
    "    ordered_cat = agglomerate_cat.sort_values(by=\"mean_target\")\n",
    "    i=0\n",
    "    my_replace_cat ={}\n",
    "    for cat_ in ordered_cat.categories:\n",
    "        cat_name=cat+str(i//size)\n",
    "        my_replace_cat[cat_]=cat_name\n",
    "        i=i+1\n",
    "    return my_replace_cat\n"
   ]
  },
  {
   "cell_type": "code",
   "execution_count": 25,
   "metadata": {
    "collapsed": true
   },
   "outputs": [],
   "source": [
    "my_replace_espece = regroup_cat(train,'ESPECE','HAUTEUR (m)',80)"
   ]
  },
  {
   "cell_type": "code",
   "execution_count": 26,
   "metadata": {
    "collapsed": true
   },
   "outputs": [],
   "source": [
    "train[\"ESPECE\"] =train[\"ESPECE\"].replace(my_replace_espece)\n",
    "valid[\"ESPECE\"] =valid[\"ESPECE\"].replace(my_replace_espece)"
   ]
  },
  {
   "cell_type": "code",
   "execution_count": 27,
   "metadata": {
    "collapsed": false
   },
   "outputs": [
    {
     "data": {
      "image/png": "[encoded data removed]",
      "text/plain": [
       "<matplotlib.figure.Figure at 0xe69f550>"
      ]
     },
     "metadata": {},
     "output_type": "display_data"
    }
   ],
   "source": [
    "sns_plot = sns.countplot(y=train['ESPECE'],orient='v')\n",
    "fig = sns_plot.get_figure()"
   ]
  },
  {
   "cell_type": "code",
   "execution_count": 28,
   "metadata": {
    "collapsed": false
   },
   "outputs": [
    {
     "name": "stdout",
     "output_type": "stream",
     "text": [
      "Platane -> 39552\n"
     ]
    }
   ],
   "source": [
    "max_f_libelle, max_count_libelle = max_count_cat(\"LIBELLEFRANCAIS\")\n",
    "print(max_f_libelle,'->',max_count_libelle)"
   ]
  },
  {
   "cell_type": "code",
   "execution_count": 29,
   "metadata": {
    "collapsed": true
   },
   "outputs": [],
   "source": [
    "train.loc[:, \"LIBELLEFRANCAIS\"] = train.loc[:, \"LIBELLEFRANCAIS\"].fillna(\"Platane\")\n",
    "valid.loc[:, \"LIBELLEFRANCAIS\"] = valid.loc[:, \"LIBELLEFRANCAIS\"].fillna(\"Platane\")"
   ]
  },
  {
   "cell_type": "code",
   "execution_count": 30,
   "metadata": {
    "collapsed": true
   },
   "outputs": [],
   "source": [
    "my_replace_libelle = regroup_cat(train,'LIBELLEFRANCAIS','HAUTEUR (m)',80)"
   ]
  },
  {
   "cell_type": "code",
   "execution_count": 31,
   "metadata": {
    "collapsed": true
   },
   "outputs": [],
   "source": [
    "train[\"LIBELLEFRANCAIS\"] =train[\"LIBELLEFRANCAIS\"].replace(my_replace_libelle)\n",
    "valid[\"LIBELLEFRANCAIS\"] =valid[\"LIBELLEFRANCAIS\"].replace(my_replace_libelle)"
   ]
  },
  {
   "cell_type": "code",
   "execution_count": 32,
   "metadata": {
    "collapsed": false
   },
   "outputs": [
    {
     "data": {
      "image/png": "[encoded data removed]",
      "text/plain": [
       "<matplotlib.figure.Figure at 0x11fd3a58>"
      ]
     },
     "metadata": {},
     "output_type": "display_data"
    }
   ],
   "source": [
    "sns_plot = sns.countplot(y=train['LIBELLEFRANCAIS'],orient='v')\n",
    "fig = sns_plot.get_figure()"
   ]
  },
  {
   "cell_type": "code",
   "execution_count": 33,
   "metadata": {
    "collapsed": false
   },
   "outputs": [
    {
     "name": "stdout",
     "output_type": "stream",
     "text": [
      "Inconnue -> 146963\n"
     ]
    }
   ],
   "source": [
    "max_f_pepiniere, max_count_pepiniere = max_count_cat(\"PEPINIERE\")\n",
    "print(max_f_pepiniere,'->',max_count_pepiniere)"
   ]
  },
  {
   "cell_type": "code",
   "execution_count": 34,
   "metadata": {
    "collapsed": true
   },
   "outputs": [],
   "source": [
    "train.loc[:, \"PEPINIERE\"] = train.loc[:, \"PEPINIERE\"].fillna(\"Inconnue\")\n",
    "valid.loc[:, \"PEPINIERE\"] = valid.loc[:, \"PEPINIERE\"].fillna(\"Inconnue\")"
   ]
  },
  {
   "cell_type": "code",
   "execution_count": 35,
   "metadata": {
    "collapsed": false
   },
   "outputs": [
    {
     "data": {
      "image/png": "[encoded data removed]",
      "text/plain": [
       "<matplotlib.figure.Figure at 0xe72b1d0>"
      ]
     },
     "metadata": {},
     "output_type": "display_data"
    }
   ],
   "source": [
    "sns_plot = sns.countplot(y=train['PEPINIERE'],orient='v')\n",
    "fig = sns_plot.get_figure()"
   ]
  },
  {
   "cell_type": "markdown",
   "metadata": {},
   "source": [
    "Il semble qu'il y ait trop peu de données par catégorie pour PEPINIERE. Je supprime la colonne. Je reviendrai dessus si j'ai le temps."
   ]
  },
  {
   "cell_type": "code",
   "execution_count": 36,
   "metadata": {
    "collapsed": true
   },
   "outputs": [],
   "source": [
    "train = train.drop('PEPINIERE',axis=1)\n",
    "valid = valid.drop('PEPINIERE',axis=1)"
   ]
  },
  {
   "cell_type": "code",
   "execution_count": 37,
   "metadata": {
    "collapsed": false
   },
   "outputs": [
    {
     "data": {
      "image/png": "[encoded data removed]",
      "text/plain": [
       "<matplotlib.figure.Figure at 0xe6b71d0>"
      ]
     },
     "metadata": {},
     "output_type": "display_data"
    }
   ],
   "source": [
    "sns_plot = sns.countplot(y=train['STADEDEVELOPPEMENT'],orient='v')\n",
    "fig = sns_plot.get_figure()"
   ]
  },
  {
   "cell_type": "code",
   "execution_count": 38,
   "metadata": {
    "collapsed": true
   },
   "outputs": [],
   "source": [
    "train.loc[:, \"STADEDEVELOPPEMENT\"] = train.loc[:, \"STADEDEVELOPPEMENT\"].fillna(\"A\")\n",
    "valid.loc[:, \"STADEDEVELOPPEMENT\"] = valid.loc[:, \"STADEDEVELOPPEMENT\"].fillna(\"A\")"
   ]
  },
  {
   "cell_type": "markdown",
   "metadata": {},
   "source": [
    "On vérifie que l'on a plus de données manquantes"
   ]
  },
  {
   "cell_type": "code",
   "execution_count": 39,
   "metadata": {
    "collapsed": false
   },
   "outputs": [
    {
     "data": {
      "text/plain": [
       "0"
      ]
     },
     "execution_count": 39,
     "metadata": {},
     "output_type": "execute_result"
    }
   ],
   "source": [
    "train.isnull().sum().sum()"
   ]
  },
  {
   "cell_type": "code",
   "execution_count": 40,
   "metadata": {
    "collapsed": false
   },
   "outputs": [
    {
     "data": {
      "text/plain": [
       "24112"
      ]
     },
     "execution_count": 40,
     "metadata": {},
     "output_type": "execute_result"
    }
   ],
   "source": [
    "valid.isnull().sum().sum()"
   ]
  },
  {
   "cell_type": "code",
   "execution_count": 41,
   "metadata": {
    "collapsed": false
   },
   "outputs": [
    {
     "data": {
      "text/plain": [
       "DATEPLANTATION    12048\n",
       "GENRE             12064\n",
       "dtype: int64"
      ]
     },
     "execution_count": 41,
     "metadata": {},
     "output_type": "execute_result"
    },
    {
     "data": {
      "image/png": "[encoded data removed]",
      "text/plain": [
       "<matplotlib.figure.Figure at 0xc6242e8>"
      ]
     },
     "metadata": {},
     "output_type": "display_data"
    }
   ],
   "source": [
    "check_missing(valid)"
   ]
  },
  {
   "cell_type": "markdown",
   "metadata": {},
   "source": [
    "On supprime pour l'instant DATEPLANTATION, c'est surement une donnée importante mais je reviendrai dessus si j'ai le temps"
   ]
  },
  {
   "cell_type": "code",
   "execution_count": 42,
   "metadata": {
    "collapsed": true
   },
   "outputs": [],
   "source": [
    "train = train.drop('DATEPLANTATION',axis=1)\n",
    "valid = valid.drop('DATEPLANTATION',axis=1)"
   ]
  },
  {
   "cell_type": "code",
   "execution_count": 43,
   "metadata": {
    "collapsed": false
   },
   "outputs": [
    {
     "name": "stdout",
     "output_type": "stream",
     "text": [
      "Platanus -> 39628\n"
     ]
    }
   ],
   "source": [
    "max_f_genre, max_count_genre = max_count_cat(\"GENRE\")\n",
    "print(max_f_genre,'->',max_count_genre)"
   ]
  },
  {
   "cell_type": "code",
   "execution_count": 44,
   "metadata": {
    "collapsed": true
   },
   "outputs": [],
   "source": [
    "train.loc[:, \"GENRE\"] = train.loc[:, \"GENRE\"].fillna(\"Platanus\")\n",
    "valid.loc[:, \"GENRE\"] = valid.loc[:, \"GENRE\"].fillna(\"Platanus\")"
   ]
  },
  {
   "cell_type": "code",
   "execution_count": 45,
   "metadata": {
    "collapsed": false
   },
   "outputs": [
    {
     "data": {
      "text/plain": [
       "0"
      ]
     },
     "execution_count": 45,
     "metadata": {},
     "output_type": "execute_result"
    }
   ],
   "source": [
    "valid.isnull().sum().sum()"
   ]
  },
  {
   "cell_type": "code",
   "execution_count": 46,
   "metadata": {
    "collapsed": false
   },
   "outputs": [
    {
     "data": {
      "text/plain": [
       "Index(['TYPEEMPLACEMENT', 'DOMANIALITE', 'CIRCONFERENCEENCM', 'HAUTEUR (m)',\n",
       "       'STADEDEVELOPPEMENT', 'ESPECE', 'GENRE', 'LIBELLEFRANCAIS'],\n",
       "      dtype='object')"
      ]
     },
     "execution_count": 46,
     "metadata": {},
     "output_type": "execute_result"
    }
   ],
   "source": [
    "train.columns"
   ]
  },
  {
   "cell_type": "code",
   "execution_count": 47,
   "metadata": {
    "collapsed": true
   },
   "outputs": [],
   "source": [
    "num_attribs = list(filter(lambda f: train.dtypes[f] != 'object', train.columns))\n",
    "cat_attribs = list(filter(lambda f: train.dtypes[f] == 'object', train.columns))"
   ]
  },
  {
   "cell_type": "code",
   "execution_count": 48,
   "metadata": {
    "collapsed": false
   },
   "outputs": [
    {
     "data": {
      "text/plain": [
       "['CIRCONFERENCEENCM', 'HAUTEUR (m)']"
      ]
     },
     "execution_count": 48,
     "metadata": {},
     "output_type": "execute_result"
    }
   ],
   "source": [
    "num_attribs"
   ]
  },
  {
   "cell_type": "code",
   "execution_count": 49,
   "metadata": {
    "collapsed": false
   },
   "outputs": [
    {
     "data": {
      "image/png": "[encoded data removed]",
      "text/plain": [
       "<matplotlib.figure.Figure at 0xcd229b0>"
      ]
     },
     "metadata": {},
     "output_type": "display_data"
    }
   ],
   "source": [
    "# Looking for outliers, as indicated in https://ww2.amstat.org/publications/jse/v19n3/decock.pdf\n",
    "plt.scatter(train['CIRCONFERENCEENCM'], train['HAUTEUR (m)'], c = \"blue\", marker = \"s\")\n",
    "plt.xlabel(\"Circonference\")\n",
    "plt.ylabel(\"Hauteur\")\n",
    "plt.show()"
   ]
  },
  {
   "cell_type": "code",
   "execution_count": 50,
   "metadata": {
    "collapsed": false
   },
   "outputs": [
    {
     "data": {
      "text/plain": [
       "['TYPEEMPLACEMENT',\n",
       " 'DOMANIALITE',\n",
       " 'STADEDEVELOPPEMENT',\n",
       " 'ESPECE',\n",
       " 'GENRE',\n",
       " 'LIBELLEFRANCAIS']"
      ]
     },
     "execution_count": 50,
     "metadata": {},
     "output_type": "execute_result"
    }
   ],
   "source": [
    "cat_attribs"
   ]
  },
  {
   "cell_type": "markdown",
   "metadata": {},
   "source": [
    "Ca prend trop de temps, je supprime des colonnes. Je n'ai pas le temps de faire une selection des colonnes pour la reductionde de dimension. Je le fais a l'intuition du coup."
   ]
  },
  {
   "cell_type": "code",
   "execution_count": 51,
   "metadata": {
    "collapsed": true
   },
   "outputs": [],
   "source": [
    "train = train.drop('LIBELLEFRANCAIS',axis=1)\n",
    "valid = valid.drop('LIBELLEFRANCAIS',axis=1)\n",
    "train = train.drop('GENRE',axis=1)\n",
    "valid = valid.drop('GENRE',axis=1)\n",
    "train = train.drop('ESPECE',axis=1)\n",
    "valid = valid.drop('ESPECE',axis=1)\n"
   ]
  },
  {
   "cell_type": "code",
   "execution_count": 52,
   "metadata": {
    "collapsed": false
   },
   "outputs": [
    {
     "data": {
      "text/plain": [
       "(169882, 5)"
      ]
     },
     "execution_count": 52,
     "metadata": {},
     "output_type": "execute_result"
    }
   ],
   "source": [
    "train.shape"
   ]
  },
  {
   "cell_type": "markdown",
   "metadata": {},
   "source": [
    "# Modélisation par régression et évaluation"
   ]
  },
  {
   "cell_type": "code",
   "execution_count": 53,
   "metadata": {
    "collapsed": false
   },
   "outputs": [],
   "source": [
    "y_train = train['HAUTEUR (m)']\n",
    "all_data = pd.concat((train.drop('HAUTEUR (m)',axis=1),\n",
    "                      valid.drop('HAUTEUR (m)',axis=1)))"
   ]
  },
  {
   "cell_type": "markdown",
   "metadata": {},
   "source": [
    "One Hot Encoding des donnees catégorielles"
   ]
  },
  {
   "cell_type": "code",
   "execution_count": 54,
   "metadata": {
    "collapsed": false
   },
   "outputs": [],
   "source": [
    "all_data = pd.get_dummies(all_data)"
   ]
  },
  {
   "cell_type": "code",
   "execution_count": 55,
   "metadata": {
    "collapsed": true
   },
   "outputs": [],
   "source": [
    "from sklearn import preprocessing\n",
    "from sklearn.preprocessing import StandardScaler\n",
    "\n",
    "scaler = StandardScaler()\n",
    "all_data_scaled = scaler.fit_transform(all_data)\n",
    "#creating matrices for sklearn:\n",
    "X_train = all_data_scaled[:train.shape[0]]\n",
    "X_valid = all_data_scaled[train.shape[0]:]\n"
   ]
  },
  {
   "cell_type": "code",
   "execution_count": 56,
   "metadata": {
    "collapsed": false
   },
   "outputs": [
    {
     "data": {
      "text/plain": [
       "(221657, 16)"
      ]
     },
     "execution_count": 56,
     "metadata": {},
     "output_type": "execute_result"
    }
   ],
   "source": [
    "all_data_scaled.shape"
   ]
  },
  {
   "cell_type": "code",
   "execution_count": 57,
   "metadata": {
    "collapsed": true
   },
   "outputs": [],
   "source": [
    "from sklearn.model_selection import cross_val_score\n",
    "from sklearn.model_selection import StratifiedKFold\n",
    "\n",
    "cv = StratifiedKFold(n_splits=5, random_state=42, shuffle=True)\n",
    "def rmse_cv(model):\n",
    "    rmse= np.sqrt(-cross_val_score(model, X_train, y_train, scoring=\"neg_mean_squared_error\", cv = cv))\n",
    "    return(rmse)"
   ]
  },
  {
   "cell_type": "code",
   "execution_count": 58,
   "metadata": {
    "collapsed": false
   },
   "outputs": [],
   "source": [
    "#from sklearn.svm import SVR\n",
    "#from sklearn.feature_selection import RFECV\n",
    "#model_SVR2 = SVR(kernel='linear', C = 0.25)\n",
    "#selector = RFECV(model_SVR2, step=1, cv=5)\n",
    "#selector = selector.fit(X_train, y_train)\n",
    "#selector.support_"
   ]
  },
  {
   "cell_type": "code",
   "execution_count": 59,
   "metadata": {
    "collapsed": false
   },
   "outputs": [
    {
     "name": "stdout",
     "output_type": "stream",
     "text": [
      "Best {'alpha': 0.006, 'ratio': 0.084}\n"
     ]
    }
   ],
   "source": [
    "from sklearn.linear_model import ElasticNet\n",
    "from hyperopt import fmin,tpe,hp,Trials,STATUS_OK\n",
    "\n",
    "space = {\n",
    "    'ratio':hp.quniform('ratio',0.0,0.1,0.001),\n",
    "    'alpha':hp.quniform('alpha',0.0,0.1,0.001)\n",
    "}\n",
    "\n",
    "df_result_hyperopt = pd.DataFrame(columns=['score']+list(space.keys()))\n",
    "i = 0\n",
    "def objective(params):\n",
    "    global i\n",
    "    i +=1\n",
    "    model_ela = ElasticNet(l1_ratio = params['ratio'],\n",
    "                          alpha = params['alpha'], \n",
    "                          max_iter = 100000,random_state=0)\n",
    "    score = rmse_cv(model_ela).mean()\n",
    "#    print(\"SCORE %s\" % score)\n",
    "    df_result_hyperopt.loc[i,['score']+list(space.keys())] = [score]+list(space.values())\n",
    "    return {'loss':score,'status':STATUS_OK}\n",
    "\n",
    "trials = Trials()\n",
    "best = fmin(fn=objective, space=space,algo=tpe.suggest,max_evals=20,trials=trials)\n",
    "print(\"Best %s\" % best)"
   ]
  },
  {
   "cell_type": "code",
   "execution_count": 61,
   "metadata": {
    "collapsed": false
   },
   "outputs": [
    {
     "name": "stdout",
     "output_type": "stream",
     "text": [
      "RMSE ElasticNet : 3.17441527297\n"
     ]
    },
    {
     "data": {
      "image/png": "[encoded data removed]",
      "text/plain": [
       "<matplotlib.figure.Figure at 0xe5e6ac8>"
      ]
     },
     "metadata": {},
     "output_type": "display_data"
    },
    {
     "name": "stdout",
     "output_type": "stream",
     "text": [
      "ElasticNet picked 13 features and eliminated the other 3 features\n"
     ]
    },
    {
     "data": {
      "image/png": "[encoded data removed]",
      "text/plain": [
       "<matplotlib.figure.Figure at 0xccffb38>"
      ]
     },
     "metadata": {},
     "output_type": "display_data"
    }
   ],
   "source": [
    "model_ela = ElasticNet(l1_ratio = best['ratio'],\n",
    "                          alpha = best['alpha'], \n",
    "                          max_iter = 50000,random_state=0)\n",
    "print(\"RMSE ElasticNet :\",rmse_cv(model_ela).mean())\n",
    "model_ela.fit(X_train, y_train)\n",
    "y_train_ela = model_ela.predict(X_train)\n",
    "y_pred_ela = model_ela.predict(X_valid)\n",
    "\n",
    "# Plot residuals\n",
    "plt.scatter(y_train_ela, y_train_ela - y_train, c = \"blue\", marker = \"s\", label = \"Training data\")\n",
    "plt.title(\"Linear regression with ElasticNet regularization\")\n",
    "plt.xlabel(\"Predicted values\")\n",
    "plt.ylabel(\"Residuals\")\n",
    "plt.legend(loc = \"upper left\")\n",
    "plt.hlines(y = 0, xmin = 10.5, xmax = 13.5, color = \"red\")\n",
    "plt.show()\n",
    "\n",
    "# Plot important coefficients\n",
    "coefs = pd.Series(model_ela.coef_, index = all_data.columns)\n",
    "print(\"ElasticNet picked \" + str(sum(coefs != 0)) + \" features and eliminated the other \" +  str(sum(coefs == 0)) + \" features\")\n",
    "imp_coefs = pd.concat([coefs.sort_values().head(10),\n",
    "                     coefs.sort_values().tail(10)])\n",
    "imp_coefs.plot(kind = \"barh\")\n",
    "plt.title(\"Coefficients in the ElasticNet Model\")\n",
    "plt.show()"
   ]
  },
  {
   "cell_type": "code",
   "execution_count": 65,
   "metadata": {
    "collapsed": false
   },
   "outputs": [
    {
     "name": "stdout",
     "output_type": "stream",
     "text": [
      "{'colsample_bytree': 0.7000000000000001, 'learning_rate': 0.67, 'max_depth': 12.0, 'min_child_weight': 6.0, 'n_estimators': 400.0, 'reg_alpha': 0.3, 'subsample': 0.6000000000000001}\n",
      "SCORE 2.92830434916\n",
      "Best {'colsample_bytree': 0.7000000000000001, 'learning_rate': 0.67, 'max_depth': 12.0, 'min_child_weight': 6.0, 'n_estimators': 400.0, 'reg_alpha': 0.3, 'subsample': 0.6000000000000001}\n"
     ]
    }
   ],
   "source": [
    "import xgboost as xgb\n",
    "from hyperopt import fmin,tpe,hp,Trials,STATUS_OK\n",
    "\n",
    "space = {\n",
    "    'n_estimators':hp.quniform('n_estimators',100,1000,100),\n",
    "    'max_depth':hp.quniform('max_depth',6,15,2),\n",
    "    'min_child_weight':hp.quniform('min_child_weight',4,10,2),\n",
    "#    'gamma':hp.quniform('gamma',0.0,0.5,0.1),\n",
    "    'subsample':hp.quniform('subsample',0.5,1.0,0.1),\n",
    "    'colsample_bytree':hp.quniform('colsample_bytree',0.5,1.0,0.1),\n",
    "    'reg_alpha':hp.quniform('reg_alpha',0.0,0.3,0.01),\n",
    "    'learning_rate':hp.quniform('learning_rate',0.0,1.0,0.01),\n",
    "    \n",
    "}\n",
    "\n",
    "df_result_hyperopt = pd.DataFrame(columns=['score']+list(space.keys()))\n",
    "i = 0\n",
    "def objective(params):\n",
    "    global i\n",
    "    i +=1\n",
    "    print(params)\n",
    "    model_xgb = xgb.XGBRegressor(n_estimators=int(params['n_estimators']), max_depth=int(params['max_depth']), \\\n",
    "                                 learning_rate=params['learning_rate'],\\\n",
    "                                 min_child_weight=int(params['min_child_weight']),\\\n",
    "                                 gamma=0.0,subsample=params['subsample'],\\\n",
    "                                 colsample_bytree=params['colsample_bytree'],\\\n",
    "                                 reg_alpha=params['reg_alpha'])\n",
    "    score = rmse_cv(model_xgb).mean()\n",
    "    print(\"SCORE %s\" % score)\n",
    "    df_result_hyperopt.loc[i,['score']+list(space.keys())] = [score]+list(space.values())\n",
    "    return {'loss':score,'status':STATUS_OK}\n",
    "\n",
    "trials = Trials()\n",
    "best = fmin(fn=objective, space=space,algo=tpe.suggest,max_evals=1,trials=trials)\n",
    "print(\"Best %s\" % best)"
   ]
  },
  {
   "cell_type": "code",
   "execution_count": 66,
   "metadata": {
    "collapsed": false
   },
   "outputs": [
    {
     "name": "stdout",
     "output_type": "stream",
     "text": [
      "RMSE xgb : 2.92830434916\n"
     ]
    },
    {
     "data": {
      "image/png": "[encoded data removed]",
      "text/plain": [
       "<matplotlib.figure.Figure at 0xcaca898>"
      ]
     },
     "metadata": {},
     "output_type": "display_data"
    }
   ],
   "source": [
    "#model_xgb = xgb.XGBRegressor(n_estimators=int(best['n_estimators']), max_depth=int(best['max_depth']), learning_rate=best['learning_rate'])\n",
    "model_xgb = xgb.XGBRegressor(n_estimators=int(best['n_estimators']), max_depth=int(best['max_depth']), \\\n",
    "                             learning_rate=best['learning_rate'],\\\n",
    "                             min_child_weight=int(best['min_child_weight']),\\\n",
    "                             gamma=0.0,subsample=best['subsample'],\\\n",
    "                             colsample_bytree=best['colsample_bytree'],\\\n",
    "                             reg_alpha=best['reg_alpha'])\n",
    "print(\"RMSE xgb :\",rmse_cv(model_xgb).mean())\n",
    "model_xgb.fit(X_train, y_train)\n",
    "y_train_xgb = model_xgb.predict(X_train)\n",
    "y_pred_xgb = model_xgb.predict(X_valid)\n",
    "# Plot residuals\n",
    "plt.scatter(y_train_xgb, y_train_xgb - y_train, c = \"blue\", marker = \"s\", label = \"Training data\")\n",
    "plt.title(\"Gradient Boosting\")\n",
    "plt.xlabel(\"Predicted values\")\n",
    "plt.ylabel(\"Residuals\")\n",
    "plt.legend(loc = \"upper left\")\n",
    "plt.hlines(y = 0, xmin = 10.5, xmax = 13.5, color = \"red\")\n",
    "plt.show()"
   ]
  },
  {
   "cell_type": "code",
   "execution_count": null,
   "metadata": {
    "collapsed": true
   },
   "outputs": [],
   "source": []
  }
 ],
 "metadata": {
  "kernelspec": {
   "display_name": "Python 3",
   "language": "python",
   "name": "python3"
  },
  "language_info": {
   "codemirror_mode": {
    "name": "ipython",
    "version": 3
   },
   "file_extension": ".py",
   "mimetype": "text/x-python",
   "name": "python",
   "nbconvert_exporter": "python",
   "pygments_lexer": "ipython3",
   "version": "3.6.0"
  }
 },
 "nbformat": 4,
 "nbformat_minor": 2
}
