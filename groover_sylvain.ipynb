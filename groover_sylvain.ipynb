{
 "cells": [
  {
   "cell_type": "markdown",
   "metadata": {},
   "source": [
    "# Groover x Sylvain"
   ]
  },
  {
   "cell_type": "code",
   "execution_count": 1,
   "metadata": {},
   "outputs": [],
   "source": [
    "import pandas as pd\n",
    "import os\n",
    "\n",
    "%matplotlib inline"
   ]
  },
  {
   "cell_type": "code",
   "execution_count": 2,
   "metadata": {},
   "outputs": [
    {
     "data": {
      "text/plain": [
       "['.ipynb_checkpoints',\n",
       " 'Groover%20Data%20Challenge.pdf',\n",
       " 'groover_dataset_challenge.csv',\n",
       " 'groover_sylvain.ipynb']"
      ]
     },
     "execution_count": 2,
     "metadata": {},
     "output_type": "execute_result"
    }
   ],
   "source": [
    "os.listdir()"
   ]
  },
  {
   "cell_type": "code",
   "execution_count": 3,
   "metadata": {},
   "outputs": [],
   "source": [
    "df = pd.read_csv('groover_dataset_challenge.csv')"
   ]
  },
  {
   "cell_type": "markdown",
   "metadata": {},
   "source": [
    "Let's explore the data to get an insight."
   ]
  },
  {
   "cell_type": "code",
   "execution_count": 4,
   "metadata": {},
   "outputs": [
    {
     "name": "stdout",
     "output_type": "stream",
     "text": [
      "<class 'pandas.core.frame.DataFrame'>\n",
      "RangeIndex: 70346 entries, 0 to 70345\n",
      "Data columns (total 10 columns):\n",
      "id                  70346 non-null int64\n",
      "track__id           70346 non-null int64\n",
      "band_id             70346 non-null int64\n",
      "influencer_kind     70346 non-null object\n",
      "influencer_id       70346 non-null int64\n",
      "decision            70346 non-null object\n",
      "feedback            70344 non-null object\n",
      "score               70346 non-null float64\n",
      "date_created        70346 non-null object\n",
      "acceptation_rate    69832 non-null float64\n",
      "dtypes: float64(2), int64(4), object(4)\n",
      "memory usage: 5.4+ MB\n"
     ]
    }
   ],
   "source": [
    "df.info()"
   ]
  },
  {
   "cell_type": "markdown",
   "metadata": {},
   "source": [
    "It seems that the target variable is score. I am wondering if score is computed based on decision and maybe on a sentiment analysis on feedback...\n",
    "Influencer_kind  should be used to compute the match between band/track and influencer but no data is available for band/track, except influencer's evaluation.\n",
    "Also, we see there is missing values for acceptation_rate."
   ]
  },
  {
   "cell_type": "code",
   "execution_count": 5,
   "metadata": {},
   "outputs": [
    {
     "data": {
      "text/html": [
       "<div>\n",
       "<style scoped>\n",
       "    .dataframe tbody tr th:only-of-type {\n",
       "        vertical-align: middle;\n",
       "    }\n",
       "\n",
       "    .dataframe tbody tr th {\n",
       "        vertical-align: top;\n",
       "    }\n",
       "\n",
       "    .dataframe thead th {\n",
       "        text-align: right;\n",
       "    }\n",
       "</style>\n",
       "<table border=\"1\" class=\"dataframe\">\n",
       "  <thead>\n",
       "    <tr style=\"text-align: right;\">\n",
       "      <th></th>\n",
       "      <th>id</th>\n",
       "      <th>track__id</th>\n",
       "      <th>band_id</th>\n",
       "      <th>influencer_kind</th>\n",
       "      <th>influencer_id</th>\n",
       "      <th>decision</th>\n",
       "      <th>feedback</th>\n",
       "      <th>score</th>\n",
       "      <th>date_created</th>\n",
       "      <th>acceptation_rate</th>\n",
       "    </tr>\n",
       "  </thead>\n",
       "  <tbody>\n",
       "    <tr>\n",
       "      <th>0</th>\n",
       "      <td>7312</td>\n",
       "      <td>324</td>\n",
       "      <td>303</td>\n",
       "      <td>Label</td>\n",
       "      <td>102</td>\n",
       "      <td>['give feedback on your tune']</td>\n",
       "      <td>Bonjour, \\nle track surf sur les codes \"austra...</td>\n",
       "      <td>0.0</td>\n",
       "      <td>2018-05-01 16:14:59.062779+00:00</td>\n",
       "      <td>0.072917</td>\n",
       "    </tr>\n",
       "    <tr>\n",
       "      <th>1</th>\n",
       "      <td>7313</td>\n",
       "      <td>324</td>\n",
       "      <td>303</td>\n",
       "      <td>Radio</td>\n",
       "      <td>103</td>\n",
       "      <td>['give feedback on your tune']</td>\n",
       "      <td>Bonjour, merci pour votre envoi. Le morceau n'...</td>\n",
       "      <td>0.0</td>\n",
       "      <td>2018-05-01 16:14:59.065279+00:00</td>\n",
       "      <td>0.111732</td>\n",
       "    </tr>\n",
       "    <tr>\n",
       "      <th>2</th>\n",
       "      <td>7314</td>\n",
       "      <td>324</td>\n",
       "      <td>303</td>\n",
       "      <td>Journalist</td>\n",
       "      <td>104</td>\n",
       "      <td>['give feedback on your tune']</td>\n",
       "      <td>Le morceau est à lui tout seul une succession ...</td>\n",
       "      <td>0.0</td>\n",
       "      <td>2018-05-01 16:14:59.067538+00:00</td>\n",
       "      <td>0.000000</td>\n",
       "    </tr>\n",
       "    <tr>\n",
       "      <th>3</th>\n",
       "      <td>7315</td>\n",
       "      <td>324</td>\n",
       "      <td>303</td>\n",
       "      <td>Channel</td>\n",
       "      <td>105</td>\n",
       "      <td>['share it on social media', 'add it to a play...</td>\n",
       "      <td>Très bonne pop aux airs de Tame Impala et Pond...</td>\n",
       "      <td>1.0</td>\n",
       "      <td>2018-05-01 16:14:59.069965+00:00</td>\n",
       "      <td>0.400000</td>\n",
       "    </tr>\n",
       "    <tr>\n",
       "      <th>4</th>\n",
       "      <td>7316</td>\n",
       "      <td>324</td>\n",
       "      <td>303</td>\n",
       "      <td>Media</td>\n",
       "      <td>106</td>\n",
       "      <td>['give feedback on your tune']</td>\n",
       "      <td>La production est assurément excellente, mais ...</td>\n",
       "      <td>0.0</td>\n",
       "      <td>2018-05-01 16:14:59.072229+00:00</td>\n",
       "      <td>NaN</td>\n",
       "    </tr>\n",
       "  </tbody>\n",
       "</table>\n",
       "</div>"
      ],
      "text/plain": [
       "     id  track__id  band_id influencer_kind  influencer_id  \\\n",
       "0  7312        324      303           Label            102   \n",
       "1  7313        324      303           Radio            103   \n",
       "2  7314        324      303      Journalist            104   \n",
       "3  7315        324      303         Channel            105   \n",
       "4  7316        324      303           Media            106   \n",
       "\n",
       "                                            decision  \\\n",
       "0                     ['give feedback on your tune']   \n",
       "1                     ['give feedback on your tune']   \n",
       "2                     ['give feedback on your tune']   \n",
       "3  ['share it on social media', 'add it to a play...   \n",
       "4                     ['give feedback on your tune']   \n",
       "\n",
       "                                            feedback  score  \\\n",
       "0  Bonjour, \\nle track surf sur les codes \"austra...    0.0   \n",
       "1  Bonjour, merci pour votre envoi. Le morceau n'...    0.0   \n",
       "2  Le morceau est à lui tout seul une succession ...    0.0   \n",
       "3  Très bonne pop aux airs de Tame Impala et Pond...    1.0   \n",
       "4  La production est assurément excellente, mais ...    0.0   \n",
       "\n",
       "                       date_created  acceptation_rate  \n",
       "0  2018-05-01 16:14:59.062779+00:00          0.072917  \n",
       "1  2018-05-01 16:14:59.065279+00:00          0.111732  \n",
       "2  2018-05-01 16:14:59.067538+00:00          0.000000  \n",
       "3  2018-05-01 16:14:59.069965+00:00          0.400000  \n",
       "4  2018-05-01 16:14:59.072229+00:00               NaN  "
      ]
     },
     "execution_count": 5,
     "metadata": {},
     "output_type": "execute_result"
    }
   ],
   "source": [
    "df.head()"
   ]
  },
  {
   "cell_type": "code",
   "execution_count": 6,
   "metadata": {},
   "outputs": [
    {
     "data": {
      "text/html": [
       "<div>\n",
       "<style scoped>\n",
       "    .dataframe tbody tr th:only-of-type {\n",
       "        vertical-align: middle;\n",
       "    }\n",
       "\n",
       "    .dataframe tbody tr th {\n",
       "        vertical-align: top;\n",
       "    }\n",
       "\n",
       "    .dataframe thead th {\n",
       "        text-align: right;\n",
       "    }\n",
       "</style>\n",
       "<table border=\"1\" class=\"dataframe\">\n",
       "  <thead>\n",
       "    <tr style=\"text-align: right;\">\n",
       "      <th></th>\n",
       "      <th>id</th>\n",
       "      <th>track__id</th>\n",
       "      <th>band_id</th>\n",
       "      <th>influencer_id</th>\n",
       "      <th>score</th>\n",
       "      <th>acceptation_rate</th>\n",
       "    </tr>\n",
       "  </thead>\n",
       "  <tbody>\n",
       "    <tr>\n",
       "      <th>count</th>\n",
       "      <td>70346.000000</td>\n",
       "      <td>70346.000000</td>\n",
       "      <td>70346.000000</td>\n",
       "      <td>70346.000000</td>\n",
       "      <td>70346.000000</td>\n",
       "      <td>69832.000000</td>\n",
       "    </tr>\n",
       "    <tr>\n",
       "      <th>mean</th>\n",
       "      <td>134527.993319</td>\n",
       "      <td>5395.774244</td>\n",
       "      <td>3634.004521</td>\n",
       "      <td>428.395317</td>\n",
       "      <td>0.255224</td>\n",
       "      <td>0.251735</td>\n",
       "    </tr>\n",
       "    <tr>\n",
       "      <th>std</th>\n",
       "      <td>75929.591832</td>\n",
       "      <td>2839.092464</td>\n",
       "      <td>2213.433424</td>\n",
       "      <td>225.814764</td>\n",
       "      <td>0.399576</td>\n",
       "      <td>0.259732</td>\n",
       "    </tr>\n",
       "    <tr>\n",
       "      <th>min</th>\n",
       "      <td>7312.000000</td>\n",
       "      <td>324.000000</td>\n",
       "      <td>303.000000</td>\n",
       "      <td>97.000000</td>\n",
       "      <td>0.000000</td>\n",
       "      <td>0.000000</td>\n",
       "    </tr>\n",
       "    <tr>\n",
       "      <th>25%</th>\n",
       "      <td>69498.250000</td>\n",
       "      <td>3088.000000</td>\n",
       "      <td>1728.000000</td>\n",
       "      <td>262.000000</td>\n",
       "      <td>0.000000</td>\n",
       "      <td>0.059160</td>\n",
       "    </tr>\n",
       "    <tr>\n",
       "      <th>50%</th>\n",
       "      <td>137248.500000</td>\n",
       "      <td>5292.000000</td>\n",
       "      <td>3415.000000</td>\n",
       "      <td>394.000000</td>\n",
       "      <td>0.000000</td>\n",
       "      <td>0.160714</td>\n",
       "    </tr>\n",
       "    <tr>\n",
       "      <th>75%</th>\n",
       "      <td>190546.750000</td>\n",
       "      <td>7540.000000</td>\n",
       "      <td>5336.000000</td>\n",
       "      <td>569.000000</td>\n",
       "      <td>0.250000</td>\n",
       "      <td>0.331967</td>\n",
       "    </tr>\n",
       "    <tr>\n",
       "      <th>max</th>\n",
       "      <td>278326.000000</td>\n",
       "      <td>11736.000000</td>\n",
       "      <td>8737.000000</td>\n",
       "      <td>1166.000000</td>\n",
       "      <td>1.000000</td>\n",
       "      <td>1.000000</td>\n",
       "    </tr>\n",
       "  </tbody>\n",
       "</table>\n",
       "</div>"
      ],
      "text/plain": [
       "                  id     track__id       band_id  influencer_id         score  \\\n",
       "count   70346.000000  70346.000000  70346.000000   70346.000000  70346.000000   \n",
       "mean   134527.993319   5395.774244   3634.004521     428.395317      0.255224   \n",
       "std     75929.591832   2839.092464   2213.433424     225.814764      0.399576   \n",
       "min      7312.000000    324.000000    303.000000      97.000000      0.000000   \n",
       "25%     69498.250000   3088.000000   1728.000000     262.000000      0.000000   \n",
       "50%    137248.500000   5292.000000   3415.000000     394.000000      0.000000   \n",
       "75%    190546.750000   7540.000000   5336.000000     569.000000      0.250000   \n",
       "max    278326.000000  11736.000000   8737.000000    1166.000000      1.000000   \n",
       "\n",
       "       acceptation_rate  \n",
       "count      69832.000000  \n",
       "mean           0.251735  \n",
       "std            0.259732  \n",
       "min            0.000000  \n",
       "25%            0.059160  \n",
       "50%            0.160714  \n",
       "75%            0.331967  \n",
       "max            1.000000  "
      ]
     },
     "execution_count": 6,
     "metadata": {},
     "output_type": "execute_result"
    }
   ],
   "source": [
    "df.describe()"
   ]
  },
  {
   "cell_type": "markdown",
   "metadata": {},
   "source": [
    "What are the distinct decisions available? We will answer this question in the following code."
   ]
  },
  {
   "cell_type": "code",
   "execution_count": 7,
   "metadata": {},
   "outputs": [
    {
     "name": "stdout",
     "output_type": "stream",
     "text": [
      "{'add it to a Spotify playlist',\n",
      " 'add it to a playlist',\n",
      " 'allows you to give a reply to this feedback',\n",
      " 'broadcast your tune',\n",
      " 'get in touch with the artist for a gig',\n",
      " 'get in touch with you and/or know more about your project',\n",
      " 'give feedback on your tune',\n",
      " 'invite or interview you',\n",
      " 'share it on his Youtube channel',\n",
      " 'share it on his channel',\n",
      " 'share it on social media',\n",
      " 'share it to his/her team',\n",
      " 'write a wise advice',\n",
      " 'write an article'}\n"
     ]
    }
   ],
   "source": [
    "import ast\n",
    "from pprint import pprint\n",
    "\n",
    "s = set()\n",
    "for i, x in df.iterrows():\n",
    "    l = ast.literal_eval(x[\"decision\"])\n",
    "    for i in l:\n",
    "        s.add(i)\n",
    "pprint(s)"
   ]
  },
  {
   "cell_type": "markdown",
   "metadata": {},
   "source": [
    "Next, we compute missing values for acceptation_rate feature."
   ]
  },
  {
   "cell_type": "code",
   "execution_count": 8,
   "metadata": {},
   "outputs": [
    {
     "name": "stdout",
     "output_type": "stream",
     "text": [
      "check MSE: 0.009730576483668433\n"
     ]
    }
   ],
   "source": [
    "import numpy as np\n",
    "df['accepted'] = df.score.apply(lambda x: 1.0 if x>0.25 else 0.0)\n",
    "df_fillna = df[['influencer_id', 'accepted']].groupby(\"influencer_id\").mean()\n",
    "\n",
    "# Je vérifie que je remplis bien avec les bonnes valeurs\n",
    "from sklearn.metrics import mean_squared_error\n",
    "y_check = df[['influencer_id', 'acceptation_rate']].dropna().acceptation_rate\n",
    "y_nan = df[['influencer_id', 'acceptation_rate']].dropna().influencer_id.apply(lambda x:df_fillna.loc[x,'accepted'] )\n",
    "print(\"check MSE:\",mean_squared_error(y_nan, y_check)/df.score.std())\n",
    "\n",
    "# et je remplis les valeurs manquantes\n",
    "def fill_acc_rate(inf_id, value):\n",
    "    if np.isnan(value):\n",
    "        return df_fillna.loc[inf_id,'accepted']\n",
    "    else:\n",
    "        return value\n",
    "df[\"acceptation_rate\"] = np.vectorize(fill_acc_rate)(df.influencer_id, df.acceptation_rate)\n",
    "df.drop(columns=['accepted'], inplace=True)"
   ]
  },
  {
   "cell_type": "markdown",
   "metadata": {},
   "source": [
    "The computation I have done for acceptation_rate is not stricly equal to predefined values in the dataset, but based on MSE, it looks really close. Maybe I should have a look at date_created."
   ]
  },
  {
   "cell_type": "code",
   "execution_count": 9,
   "metadata": {},
   "outputs": [
    {
     "name": "stdout",
     "output_type": "stream",
     "text": [
      "<class 'pandas.core.frame.DataFrame'>\n",
      "RangeIndex: 70346 entries, 0 to 70345\n",
      "Data columns (total 10 columns):\n",
      "id                  70346 non-null int64\n",
      "track__id           70346 non-null int64\n",
      "band_id             70346 non-null int64\n",
      "influencer_kind     70346 non-null object\n",
      "influencer_id       70346 non-null int64\n",
      "decision            70346 non-null object\n",
      "feedback            70344 non-null object\n",
      "score               70346 non-null float64\n",
      "date_created        70346 non-null object\n",
      "acceptation_rate    70346 non-null float64\n",
      "dtypes: float64(2), int64(4), object(4)\n",
      "memory usage: 5.4+ MB\n"
     ]
    }
   ],
   "source": [
    "df.info()"
   ]
  },
  {
   "cell_type": "markdown",
   "metadata": {},
   "source": [
    "I check that there is no more missing values. And this is the case."
   ]
  },
  {
   "cell_type": "markdown",
   "metadata": {},
   "source": [
    "To improve prediction, I remove influencers with few evaluations. We could do the same thing with band. But I commented the code due to over elimination."
   ]
  },
  {
   "cell_type": "code",
   "execution_count": 10,
   "metadata": {},
   "outputs": [],
   "source": [
    "#clean up influencer with few ratings\n",
    "df_influencer_grouped = df.groupby(\"influencer_id\")['id'].count().reset_index()\n",
    "keep_influencer = df_influencer_grouped.loc[df_influencer_grouped.id>50].influencer_id.tolist()\n",
    "df = df.loc[df.influencer_id.isin(keep_influencer)]\n",
    "# clean up band with few ratings\n",
    "# df_band_grouped = df.groupby(\"band_id\")['id'].count().reset_index()\n",
    "# keep_band = df_band_grouped.loc[df_band_grouped.id>20].band_id.tolist()\n",
    "# df = df.loc[df.band_id.isin(keep_band)]\n"
   ]
  },
  {
   "cell_type": "markdown",
   "metadata": {},
   "source": [
    "# Exercise 1"
   ]
  },
  {
   "cell_type": "markdown",
   "metadata": {},
   "source": [
    "## a/ Prediction of missing values"
   ]
  },
  {
   "cell_type": "markdown",
   "metadata": {},
   "source": [
    "To fullfill this objective, we will use collaborative filtering. It would be difficult to do recommendation based on content because no data is available for band/track.\n",
    "We agglomerate by using, for each band, the max score of all their tracks. I use max agglomeration because it is relevant to say that a band matches if at least one track has a good score with the influencer.\n",
    "Then, we do a train/test split to evaluate the model later.\n"
   ]
  },
  {
   "cell_type": "code",
   "execution_count": 11,
   "metadata": {},
   "outputs": [
    {
     "name": "stdout",
     "output_type": "stream",
     "text": [
      "Sparsity:4.61%\n"
     ]
    }
   ],
   "source": [
    "from sklearn.model_selection import train_test_split\n",
    "df_grouped_by_band = df.groupby(['influencer_id','band_id'])['score'].max().reset_index()\n",
    "# train / test split\n",
    "train, test = train_test_split(df_grouped_by_band, test_size=0.2, random_state=42)\n",
    "ratings_ref = df_grouped_by_band.pivot_table(index='influencer_id',columns='band_id',values='score').fillna(0)\n",
    "ratings_train =train.pivot_table(index='influencer_id',columns='band_id',values='score').fillna(0)\n",
    "# in case of track analysis, uncomment the line below\n",
    "#ratings= train.pivot_table(index='influencer_id',columns='track__id',values='score').fillna(0)\n",
    "print(\"Sparsity:{:4.2f}%\".format(100*train.shape[0]/float(ratings_train.shape[0]*ratings_train.shape[1])))"
   ]
  },
  {
   "cell_type": "markdown",
   "metadata": {},
   "source": [
    "We store indexes to be able to map influencer_id and band_id in the matrix values."
   ]
  },
  {
   "cell_type": "code",
   "execution_count": 12,
   "metadata": {},
   "outputs": [],
   "source": [
    "# get indexes\n",
    "ipos={v:i for i,v in enumerate(ratings_train.index.values)}\n",
    "bpos={v:i for i,v in enumerate(ratings_train.columns)}"
   ]
  },
  {
   "cell_type": "markdown",
   "metadata": {},
   "source": [
    "The method used for Collaborative Filtering is to rebuild the matrix by means of Singular Value Decomposition."
   ]
  },
  {
   "cell_type": "code",
   "execution_count": 13,
   "metadata": {},
   "outputs": [],
   "source": [
    "from scipy.sparse.linalg import svds\n",
    "U,S,V=svds((ratings_train-ratings_train.mean()),k=200)\n",
    "newM=(U.dot(np.diag(S))).dot(V)+ratings_train.mean().values\n",
    "\n",
    "#from sklearn.decomposition import NMF\n",
    "#model = NMF(n_components=200, init='random', random_state=0)\n",
    "#W = model.fit_transform(ratings)\n",
    "#H = model.components_\n",
    "#newM = np.dot(W, H)"
   ]
  },
  {
   "cell_type": "markdown",
   "metadata": {},
   "source": [
    "As requested, we do a prediction for band 6593."
   ]
  },
  {
   "cell_type": "code",
   "execution_count": 14,
   "metadata": {},
   "outputs": [
    {
     "name": "stdout",
     "output_type": "stream",
     "text": [
      "PREDICTIONS\n",
      "621 0.02907932856468281 0.0\n",
      "351 0.03057138687941753 0.0\n",
      "326 0.030827067258888213 0.0\n",
      "628 0.04418856695497002 0.0\n",
      "537 0.24999708224387396 0.25\n",
      "117 0.25159188081995987 0.25\n",
      "1073 0.9708701725489933 1.0\n",
      "130 0.9985993164015704 1.0\n",
      "127 1.0003120885046553 1.0\n",
      "295 1.0016069326664987 1.0\n",
      "---\n",
      "REFERENCE\n",
      "348 -0.03671626024634053 0.0\n",
      "344 0.00012786997580195927 0.0\n",
      "352 -0.0010241893071670088 0.0\n",
      "107 -0.013287685206640028 0.0\n",
      "117 0.25159188081995987 0.25\n",
      "537 0.24999708224387396 0.25\n",
      "295 1.0016069326664987 1.0\n",
      "130 0.9985993164015704 1.0\n",
      "127 1.0003120885046553 1.0\n",
      "1073 0.9708701725489933 1.0\n"
     ]
    }
   ],
   "source": [
    "predictions=[]\n",
    "band_index = bpos[6593]\n",
    "ind = np.argsort(newM[:,band_index])[-10:]\n",
    "print(\"PREDICTIONS\")\n",
    "for i in ind:\n",
    "    print(ratings_train.index[i],newM[i,band_index], ratings_train.values[i,band_index])\n",
    "ind2 = np.argsort(ratings_train.values[:,band_index])[-10:]\n",
    "print(\"---\")\n",
    "print(\"REFERENCE\")\n",
    "for i in ind2:\n",
    "    print(ratings_train.index[i],newM[i,band_index], ratings_train.values[i,band_index])\n"
   ]
  },
  {
   "cell_type": "markdown",
   "metadata": {},
   "source": [
    "As we can see, predictions are really close to reference. "
   ]
  },
  {
   "cell_type": "markdown",
   "metadata": {},
   "source": [
    "Let's have a closer look at original data."
   ]
  },
  {
   "cell_type": "code",
   "execution_count": 15,
   "metadata": {
    "scrolled": true
   },
   "outputs": [
    {
     "data": {
      "text/html": [
       "<div>\n",
       "<style scoped>\n",
       "    .dataframe tbody tr th:only-of-type {\n",
       "        vertical-align: middle;\n",
       "    }\n",
       "\n",
       "    .dataframe tbody tr th {\n",
       "        vertical-align: top;\n",
       "    }\n",
       "\n",
       "    .dataframe thead th {\n",
       "        text-align: right;\n",
       "    }\n",
       "</style>\n",
       "<table border=\"1\" class=\"dataframe\">\n",
       "  <thead>\n",
       "    <tr style=\"text-align: right;\">\n",
       "      <th></th>\n",
       "      <th>band_id</th>\n",
       "      <th>track__id</th>\n",
       "      <th>influencer_id</th>\n",
       "      <th>score</th>\n",
       "    </tr>\n",
       "  </thead>\n",
       "  <tbody>\n",
       "    <tr>\n",
       "      <th>53914</th>\n",
       "      <td>6593</td>\n",
       "      <td>7982</td>\n",
       "      <td>127</td>\n",
       "      <td>0.00</td>\n",
       "    </tr>\n",
       "    <tr>\n",
       "      <th>53915</th>\n",
       "      <td>6593</td>\n",
       "      <td>7982</td>\n",
       "      <td>117</td>\n",
       "      <td>0.25</td>\n",
       "    </tr>\n",
       "    <tr>\n",
       "      <th>53916</th>\n",
       "      <td>6593</td>\n",
       "      <td>7982</td>\n",
       "      <td>389</td>\n",
       "      <td>0.00</td>\n",
       "    </tr>\n",
       "    <tr>\n",
       "      <th>57292</th>\n",
       "      <td>6593</td>\n",
       "      <td>8629</td>\n",
       "      <td>127</td>\n",
       "      <td>1.00</td>\n",
       "    </tr>\n",
       "    <tr>\n",
       "      <th>63767</th>\n",
       "      <td>6593</td>\n",
       "      <td>9887</td>\n",
       "      <td>117</td>\n",
       "      <td>0.25</td>\n",
       "    </tr>\n",
       "    <tr>\n",
       "      <th>63768</th>\n",
       "      <td>6593</td>\n",
       "      <td>9887</td>\n",
       "      <td>910</td>\n",
       "      <td>0.00</td>\n",
       "    </tr>\n",
       "    <tr>\n",
       "      <th>63769</th>\n",
       "      <td>6593</td>\n",
       "      <td>9887</td>\n",
       "      <td>520</td>\n",
       "      <td>0.00</td>\n",
       "    </tr>\n",
       "    <tr>\n",
       "      <th>63771</th>\n",
       "      <td>6593</td>\n",
       "      <td>9887</td>\n",
       "      <td>133</td>\n",
       "      <td>0.00</td>\n",
       "    </tr>\n",
       "    <tr>\n",
       "      <th>63772</th>\n",
       "      <td>6593</td>\n",
       "      <td>9887</td>\n",
       "      <td>111</td>\n",
       "      <td>1.00</td>\n",
       "    </tr>\n",
       "    <tr>\n",
       "      <th>63773</th>\n",
       "      <td>6593</td>\n",
       "      <td>9887</td>\n",
       "      <td>295</td>\n",
       "      <td>1.00</td>\n",
       "    </tr>\n",
       "    <tr>\n",
       "      <th>63774</th>\n",
       "      <td>6593</td>\n",
       "      <td>9887</td>\n",
       "      <td>385</td>\n",
       "      <td>0.00</td>\n",
       "    </tr>\n",
       "    <tr>\n",
       "      <th>63775</th>\n",
       "      <td>6593</td>\n",
       "      <td>9887</td>\n",
       "      <td>1073</td>\n",
       "      <td>0.00</td>\n",
       "    </tr>\n",
       "    <tr>\n",
       "      <th>63776</th>\n",
       "      <td>6593</td>\n",
       "      <td>9887</td>\n",
       "      <td>478</td>\n",
       "      <td>0.00</td>\n",
       "    </tr>\n",
       "    <tr>\n",
       "      <th>63777</th>\n",
       "      <td>6593</td>\n",
       "      <td>9887</td>\n",
       "      <td>225</td>\n",
       "      <td>0.25</td>\n",
       "    </tr>\n",
       "    <tr>\n",
       "      <th>63778</th>\n",
       "      <td>6593</td>\n",
       "      <td>9887</td>\n",
       "      <td>537</td>\n",
       "      <td>0.25</td>\n",
       "    </tr>\n",
       "    <tr>\n",
       "      <th>63779</th>\n",
       "      <td>6593</td>\n",
       "      <td>9887</td>\n",
       "      <td>130</td>\n",
       "      <td>1.00</td>\n",
       "    </tr>\n",
       "    <tr>\n",
       "      <th>66446</th>\n",
       "      <td>6593</td>\n",
       "      <td>10364</td>\n",
       "      <td>1073</td>\n",
       "      <td>1.00</td>\n",
       "    </tr>\n",
       "  </tbody>\n",
       "</table>\n",
       "</div>"
      ],
      "text/plain": [
       "       band_id  track__id  influencer_id  score\n",
       "53914     6593       7982            127   0.00\n",
       "53915     6593       7982            117   0.25\n",
       "53916     6593       7982            389   0.00\n",
       "57292     6593       8629            127   1.00\n",
       "63767     6593       9887            117   0.25\n",
       "63768     6593       9887            910   0.00\n",
       "63769     6593       9887            520   0.00\n",
       "63771     6593       9887            133   0.00\n",
       "63772     6593       9887            111   1.00\n",
       "63773     6593       9887            295   1.00\n",
       "63774     6593       9887            385   0.00\n",
       "63775     6593       9887           1073   0.00\n",
       "63776     6593       9887            478   0.00\n",
       "63777     6593       9887            225   0.25\n",
       "63778     6593       9887            537   0.25\n",
       "63779     6593       9887            130   1.00\n",
       "66446     6593      10364           1073   1.00"
      ]
     },
     "execution_count": 15,
     "metadata": {},
     "output_type": "execute_result"
    }
   ],
   "source": [
    "df.query('band_id==6593')[['band_id','track__id','influencer_id','score']]"
   ]
  },
  {
   "cell_type": "markdown",
   "metadata": {},
   "source": [
    "This difference is due to agglomeration per band. "
   ]
  },
  {
   "cell_type": "markdown",
   "metadata": {},
   "source": [
    "## b/ Measure the quality of recommandations"
   ]
  },
  {
   "cell_type": "markdown",
   "metadata": {},
   "source": [
    "To assess the quality of our recommendations, we use the well-known cross validation technique.\n"
   ]
  },
  {
   "cell_type": "code",
   "execution_count": 16,
   "metadata": {},
   "outputs": [
    {
     "name": "stdout",
     "output_type": "stream",
     "text": [
      "RMSE: 0.18908560213210399 STD ref 0.9606281893366195  R2 : 0.9612558383252335\n"
     ]
    }
   ],
   "source": [
    "mse = 0.0\n",
    "count = 0\n",
    "std = 0\n",
    "mean = 0\n",
    "for i, row in test.iterrows():\n",
    "    if row['influencer_id'] not in ipos or row['band_id'] not in bpos:\n",
    "        continue\n",
    "    ii=ipos[row['influencer_id']]\n",
    "    bi=bpos[row['band_id']]\n",
    "    mse += (newM[ii,bi]-ratings_ref.values[ii,bi])**2\n",
    "    count +=1\n",
    "    mean +=ratings_ref.values[ii,bi]\n",
    "mean/=count\n",
    "for i, row in test.iterrows():\n",
    "    if row['influencer_id'] not in ipos or row['band_id'] not in bpos:\n",
    "        continue\n",
    "    std += (ratings_ref.values[ii,bi]-mean)**2\n",
    "    \n",
    "print(\"RMSE:\", np.sqrt(mse/count), 'STD ref', np.sqrt(std/count),\" R2 :\", 1.0-mse/std)"
   ]
  },
  {
   "cell_type": "markdown",
   "metadata": {},
   "source": [
    "Our model seems really good.\n",
    "Finaly, let's train our model on the whole dataset to improve future predictions."
   ]
  },
  {
   "cell_type": "code",
   "execution_count": 17,
   "metadata": {},
   "outputs": [],
   "source": [
    "ratings =df.groupby(['influencer_id','band_id'])['score'].max().reset_index().pivot_table(index='influencer_id',columns='band_id',values='score').fillna(0)\n",
    "ipos={v:i for i,v in enumerate(ratings.index.values)}\n",
    "bpos={v:i for i,v in enumerate(ratings.columns)}\n",
    "U,S,V=svds((ratings-ratings.mean()),k=200)\n",
    "newM=(U.dot(np.diag(S))).dot(V)+ratings.mean().values\n"
   ]
  },
  {
   "cell_type": "markdown",
   "metadata": {},
   "source": [
    "# Exercise 2"
   ]
  },
  {
   "cell_type": "markdown",
   "metadata": {},
   "source": [
    "First, we compute a similarity matrix from score. The basic idea is that bands evaluated in the same way should be similar.\n"
   ]
  },
  {
   "cell_type": "code",
   "execution_count": 18,
   "metadata": {},
   "outputs": [],
   "source": [
    "from sklearn.metrics.pairwise import cosine_similarity\n",
    "def similarity(data_matrix, kind='influencer_id'):\n",
    "    if kind == 'influencer_id':\n",
    "        return cosine_similarity(data_matrix)\n",
    "    elif kind == 'band_id':\n",
    "        return cosine_similarity(data_matrix.T)"
   ]
  },
  {
   "cell_type": "code",
   "execution_count": 19,
   "metadata": {},
   "outputs": [],
   "source": [
    "band_similarity = similarity(newM, kind='band_id')"
   ]
  },
  {
   "cell_type": "markdown",
   "metadata": {},
   "source": [
    "Next, we find the top 10 bands similar to band 6593."
   ]
  },
  {
   "cell_type": "code",
   "execution_count": 20,
   "metadata": {},
   "outputs": [
    {
     "data": {
      "text/plain": [
       "[4830, 4120, 6862, 5585, 3528, 446, 1948, 8228, 1393, 7039]"
      ]
     },
     "execution_count": 20,
     "metadata": {},
     "output_type": "execute_result"
    }
   ],
   "source": [
    "def top_k_band(ratings, similarity, mapper, band_id, k=10):\n",
    "    return [ratings.columns[x] for x in np.argsort(similarity[mapper[band_id],:])[:-k-2:-1]][1:]\n",
    "\n",
    "top_k_band(ratings,band_similarity, bpos, 6593)"
   ]
  },
  {
   "cell_type": "markdown",
   "metadata": {},
   "source": [
    "# Exercise 3"
   ]
  },
  {
   "cell_type": "markdown",
   "metadata": {},
   "source": [
    "Sparsity gives us the % of missing values. It is not that small. So we can expect a good accuracy by CF."
   ]
  },
  {
   "cell_type": "code",
   "execution_count": 21,
   "metadata": {},
   "outputs": [
    {
     "name": "stdout",
     "output_type": "stream",
     "text": [
      "Sparsity:6.37%\n"
     ]
    }
   ],
   "source": [
    "ratings_stats =df.groupby(['influencer_id','band_id'])['score'].mean().reset_index().pivot_table(index='influencer_id',columns='band_id',values='score').fillna(0)\n",
    "# in case of track, uncomment the line below\n",
    "#ratings= train.pivot_table(index='influencer_id',columns='track__id',values='score').fillna(0)\n",
    "print(\"Sparsity:{:4.2f}%\".format(100*df.shape[0]/float(ratings_stats.shape[0]*ratings_stats.shape[1])))"
   ]
  },
  {
   "cell_type": "markdown",
   "metadata": {},
   "source": [
    "Few bands have published more than 20 tracks. It may be difficult to evaluate bands with few tracks."
   ]
  },
  {
   "cell_type": "code",
   "execution_count": 22,
   "metadata": {},
   "outputs": [
    {
     "data": {
      "text/plain": [
       "<matplotlib.axes._subplots.AxesSubplot at 0x263258236d8>"
      ]
     },
     "execution_count": 22,
     "metadata": {},
     "output_type": "execute_result"
    },
    {
     "data": {
      "image/png": "[encoded data removed]",
      "text/plain": [
       "<Figure size 432x288 with 1 Axes>"
      ]
     },
     "metadata": {
      "needs_background": "light"
     },
     "output_type": "display_data"
    }
   ],
   "source": [
    "df.groupby(\"band_id\").id.count().hist(bins=25)"
   ]
  },
  {
   "cell_type": "markdown",
   "metadata": {},
   "source": [
    "We have a lot of influencers with more than 100 evaluations. Considering that, it should be possible to evaluate properly their preferences in terms of band/track."
   ]
  },
  {
   "cell_type": "code",
   "execution_count": 23,
   "metadata": {},
   "outputs": [
    {
     "data": {
      "text/plain": [
       "<matplotlib.axes._subplots.AxesSubplot at 0x263258239b0>"
      ]
     },
     "execution_count": 23,
     "metadata": {},
     "output_type": "execute_result"
    },
    {
     "data": {
      "image/png": "[encoded data removed]",
      "text/plain": [
       "<Figure size 432x288 with 1 Axes>"
      ]
     },
     "metadata": {
      "needs_background": "light"
     },
     "output_type": "display_data"
    }
   ],
   "source": [
    "df.groupby(\"influencer_id\").id.count().hist(bins=25)"
   ]
  },
  {
   "cell_type": "markdown",
   "metadata": {},
   "source": [
    "The figure below illustrates that a lot of scores are null. It means that influencers are really selective on tracks.\n"
   ]
  },
  {
   "cell_type": "code",
   "execution_count": 24,
   "metadata": {},
   "outputs": [
    {
     "data": {
      "text/plain": [
       "<matplotlib.axes._subplots.AxesSubplot at 0x26323158e80>"
      ]
     },
     "execution_count": 24,
     "metadata": {},
     "output_type": "execute_result"
    },
    {
     "data": {
      "image/png": "[encoded data removed]",
      "text/plain": [
       "<Figure size 432x288 with 1 Axes>"
      ]
     },
     "metadata": {
      "needs_background": "light"
     },
     "output_type": "display_data"
    }
   ],
   "source": [
    "df.acceptation_rate.plot(kind='kde')"
   ]
  },
  {
   "cell_type": "markdown",
   "metadata": {},
   "source": [
    "# Exercice 4"
   ]
  },
  {
   "cell_type": "markdown",
   "metadata": {},
   "source": [
    "Considering the data available on each band, we can look for similar bands in the dataset related to influencers used earlier. Then we can predict the top influencer for each band.\n",
    "I propose to use KNN approach. By that, I mean to build a similarity vector for a cold start band with bands in our previous dataset, considering subgenres and social networks data. Then for the top K bands closer to the cold start band, we seek for the best H influencers. Finaly, we select the most frequent influencers among the H influencers for the K bands. Or, another approach, we compute a new score for each influencer such as similarity band x influencer/band score. And we select the top influencers with this new score.\n"
   ]
  },
  {
   "cell_type": "markdown",
   "metadata": {},
   "source": [
    "## References"
   ]
  },
  {
   "cell_type": "markdown",
   "metadata": {},
   "source": [
    "https://medium.com/datadriveninvestor/how-to-built-a-recommender-system-rs-616c988d64b2\n",
    "\n",
    "https://www.analyticsvidhya.com/blog/2018/06/comprehensive-guide-recommendation-engine-python/\n"
   ]
  }
 ],
 "metadata": {
  "kernelspec": {
   "display_name": "Python 3",
   "language": "python",
   "name": "python3"
  },
  "language_info": {
   "codemirror_mode": {
    "name": "ipython",
    "version": 3
   },
   "file_extension": ".py",
   "mimetype": "text/x-python",
   "name": "python",
   "nbconvert_exporter": "python",
   "pygments_lexer": "ipython3",
   "version": "3.7.3"
  }
 },
 "nbformat": 4,
 "nbformat_minor": 2
}
