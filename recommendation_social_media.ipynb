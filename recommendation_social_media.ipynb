{
 "cells": [
  {
   "cell_type": "markdown",
   "id": "470149f1",
   "metadata": {},
   "source": [
    "# Yubo test : recommendations"
   ]
  },
  {
   "cell_type": "markdown",
   "id": "42569783",
   "metadata": {},
   "source": [
    "We're given two files: \\\n",
    "    \\- tag_names.csv : correspondances between tag_ids and tags \\\n",
    "    \\- user_tag.csv: relationships between users and tags\\\n",
    "\n",
    "\n",
    "Objective: \\\n",
    "1/ Find all tags similar to \"minecraft\" \\\n",
    "2/ Build a system to recommend tags to users"
   ]
  },
  {
   "cell_type": "markdown",
   "id": "de231a19",
   "metadata": {},
   "source": [
    "# Part 1 : Exploration of data"
   ]
  },
  {
   "cell_type": "code",
   "execution_count": 1,
   "id": "24a465f3",
   "metadata": {},
   "outputs": [],
   "source": [
    "# import package for exploration\n",
    "import pandas as pd\n",
    "import matplotlib.pyplot as plt\n",
    "import seaborn as sns\n",
    "# system import\n",
    "import os\n",
    "import numpy as np\n",
    "\n",
    "#fix random seed for reproductibility\n",
    "np.random.seed(42)"
   ]
  },
  {
   "cell_type": "code",
   "execution_count": 2,
   "id": "44ae71c8",
   "metadata": {},
   "outputs": [],
   "source": [
    "df_tag_names = pd.read_csv(os.path.join(os.getcwd(),\"tag_reco_test\", \"tag_names.csv\"), sep = \"\\t\")\n",
    "df_user_tag = pd.read_csv(os.path.join(os.getcwd(),\"tag_reco_test\", \"user_tag.csv\"), sep = \"\\t\")"
   ]
  },
  {
   "cell_type": "code",
   "execution_count": 3,
   "id": "3bd84e4e",
   "metadata": {},
   "outputs": [
    {
     "name": "stdout",
     "output_type": "stream",
     "text": [
      "<class 'pandas.core.frame.DataFrame'>\n",
      "RangeIndex: 107175 entries, 0 to 107174\n",
      "Data columns (total 2 columns):\n",
      " #   Column    Non-Null Count   Dtype \n",
      "---  ------    --------------   ----- \n",
      " 0   tag_id    107175 non-null  object\n",
      " 1   tag_name  107175 non-null  object\n",
      "dtypes: object(2)\n",
      "memory usage: 1.6+ MB\n"
     ]
    }
   ],
   "source": [
    "df_tag_names.info()"
   ]
  },
  {
   "cell_type": "code",
   "execution_count": 4,
   "id": "620368f0",
   "metadata": {},
   "outputs": [
    {
     "data": {
      "text/html": [
       "<div>\n",
       "<style scoped>\n",
       "    .dataframe tbody tr th:only-of-type {\n",
       "        vertical-align: middle;\n",
       "    }\n",
       "\n",
       "    .dataframe tbody tr th {\n",
       "        vertical-align: top;\n",
       "    }\n",
       "\n",
       "    .dataframe thead th {\n",
       "        text-align: right;\n",
       "    }\n",
       "</style>\n",
       "<table border=\"1\" class=\"dataframe\">\n",
       "  <thead>\n",
       "    <tr style=\"text-align: right;\">\n",
       "      <th></th>\n",
       "      <th>tag_id</th>\n",
       "      <th>tag_name</th>\n",
       "    </tr>\n",
       "  </thead>\n",
       "  <tbody>\n",
       "    <tr>\n",
       "      <th>0</th>\n",
       "      <td>8a833138</td>\n",
       "      <td>Koneko no Studio</td>\n",
       "    </tr>\n",
       "    <tr>\n",
       "      <th>1</th>\n",
       "      <td>6cec747d</td>\n",
       "      <td>Need For Speed Underground Rivals</td>\n",
       "    </tr>\n",
       "    <tr>\n",
       "      <th>2</th>\n",
       "      <td>e217f527</td>\n",
       "      <td>Kore ga UFO da! Soratobu Enban</td>\n",
       "    </tr>\n",
       "    <tr>\n",
       "      <th>3</th>\n",
       "      <td>9a69d8c6</td>\n",
       "      <td>Shinobu Kokoro wa</td>\n",
       "    </tr>\n",
       "    <tr>\n",
       "      <th>4</th>\n",
       "      <td>b874034a</td>\n",
       "      <td>Ano Hito to Nitenai Kuchibiru</td>\n",
       "    </tr>\n",
       "  </tbody>\n",
       "</table>\n",
       "</div>"
      ],
      "text/plain": [
       "     tag_id                           tag_name\n",
       "0  8a833138                   Koneko no Studio\n",
       "1  6cec747d  Need For Speed Underground Rivals\n",
       "2  e217f527     Kore ga UFO da! Soratobu Enban\n",
       "3  9a69d8c6                  Shinobu Kokoro wa\n",
       "4  b874034a      Ano Hito to Nitenai Kuchibiru"
      ]
     },
     "execution_count": 4,
     "metadata": {},
     "output_type": "execute_result"
    }
   ],
   "source": [
    "df_tag_names.head()"
   ]
  },
  {
   "cell_type": "code",
   "execution_count": 5,
   "id": "4a6d3b17",
   "metadata": {},
   "outputs": [
    {
     "name": "stdout",
     "output_type": "stream",
     "text": [
      "<class 'pandas.core.frame.DataFrame'>\n",
      "RangeIndex: 2000000 entries, 0 to 1999999\n",
      "Data columns (total 2 columns):\n",
      " #   Column  Dtype \n",
      "---  ------  ----- \n",
      " 0   uid     object\n",
      " 1   tag_id  object\n",
      "dtypes: object(2)\n",
      "memory usage: 30.5+ MB\n"
     ]
    }
   ],
   "source": [
    "df_user_tag.info()"
   ]
  },
  {
   "cell_type": "markdown",
   "id": "753228ee",
   "metadata": {},
   "source": [
    "This first table link tag to tag_name, tag_id is a hash and the tag_name is some texte"
   ]
  },
  {
   "cell_type": "code",
   "execution_count": 6,
   "id": "cbe94e12",
   "metadata": {},
   "outputs": [
    {
     "data": {
      "text/html": [
       "<div>\n",
       "<style scoped>\n",
       "    .dataframe tbody tr th:only-of-type {\n",
       "        vertical-align: middle;\n",
       "    }\n",
       "\n",
       "    .dataframe tbody tr th {\n",
       "        vertical-align: top;\n",
       "    }\n",
       "\n",
       "    .dataframe thead th {\n",
       "        text-align: right;\n",
       "    }\n",
       "</style>\n",
       "<table border=\"1\" class=\"dataframe\">\n",
       "  <thead>\n",
       "    <tr style=\"text-align: right;\">\n",
       "      <th></th>\n",
       "      <th>uid</th>\n",
       "      <th>tag_id</th>\n",
       "    </tr>\n",
       "  </thead>\n",
       "  <tbody>\n",
       "    <tr>\n",
       "      <th>0</th>\n",
       "      <td>5b834695</td>\n",
       "      <td>981f0e1f</td>\n",
       "    </tr>\n",
       "    <tr>\n",
       "      <th>1</th>\n",
       "      <td>ec16a4d6</td>\n",
       "      <td>e7216648</td>\n",
       "    </tr>\n",
       "    <tr>\n",
       "      <th>2</th>\n",
       "      <td>dca48ac2</td>\n",
       "      <td>5cc98ce2</td>\n",
       "    </tr>\n",
       "    <tr>\n",
       "      <th>3</th>\n",
       "      <td>8360babd</td>\n",
       "      <td>d4de315c</td>\n",
       "    </tr>\n",
       "    <tr>\n",
       "      <th>4</th>\n",
       "      <td>19291034</td>\n",
       "      <td>31ca6ec6</td>\n",
       "    </tr>\n",
       "  </tbody>\n",
       "</table>\n",
       "</div>"
      ],
      "text/plain": [
       "        uid    tag_id\n",
       "0  5b834695  981f0e1f\n",
       "1  ec16a4d6  e7216648\n",
       "2  dca48ac2  5cc98ce2\n",
       "3  8360babd  d4de315c\n",
       "4  19291034  31ca6ec6"
      ]
     },
     "execution_count": 6,
     "metadata": {},
     "output_type": "execute_result"
    }
   ],
   "source": [
    "df_user_tag.head()"
   ]
  },
  {
   "cell_type": "code",
   "execution_count": 7,
   "id": "20eb6a20",
   "metadata": {},
   "outputs": [
    {
     "data": {
      "text/plain": [
       "1039548"
      ]
     },
     "execution_count": 7,
     "metadata": {},
     "output_type": "execute_result"
    }
   ],
   "source": [
    "df_user_tag.uid.nunique()"
   ]
  },
  {
   "cell_type": "code",
   "execution_count": 8,
   "id": "5bd2b6d5",
   "metadata": {},
   "outputs": [
    {
     "data": {
      "text/plain": [
       "22006"
      ]
     },
     "execution_count": 8,
     "metadata": {},
     "output_type": "execute_result"
    }
   ],
   "source": [
    "df_user_tag.tag_id.nunique()"
   ]
  },
  {
   "cell_type": "markdown",
   "id": "2d7f96b0",
   "metadata": {},
   "source": [
    "This second table is a link table between user id 'uid' and the tags 'tag_id'. I just check the link drive and it seems there is no other data.  I will use this table for recommendation system later."
   ]
  },
  {
   "cell_type": "markdown",
   "id": "f778e7c4",
   "metadata": {},
   "source": [
    "# explore tags"
   ]
  },
  {
   "cell_type": "code",
   "execution_count": 7,
   "id": "7bfbfd09",
   "metadata": {},
   "outputs": [
    {
     "data": {
      "text/html": [
       "<div>\n",
       "<style scoped>\n",
       "    .dataframe tbody tr th:only-of-type {\n",
       "        vertical-align: middle;\n",
       "    }\n",
       "\n",
       "    .dataframe tbody tr th {\n",
       "        vertical-align: top;\n",
       "    }\n",
       "\n",
       "    .dataframe thead th {\n",
       "        text-align: right;\n",
       "    }\n",
       "</style>\n",
       "<table border=\"1\" class=\"dataframe\">\n",
       "  <thead>\n",
       "    <tr style=\"text-align: right;\">\n",
       "      <th></th>\n",
       "      <th>tag_id</th>\n",
       "      <th>tag_name</th>\n",
       "    </tr>\n",
       "  </thead>\n",
       "  <tbody>\n",
       "    <tr>\n",
       "      <th>46004</th>\n",
       "      <td>a689bffd</td>\n",
       "      <td>A Night Out</td>\n",
       "    </tr>\n",
       "    <tr>\n",
       "      <th>94138</th>\n",
       "      <td>7b0493c6</td>\n",
       "      <td>FRAD</td>\n",
       "    </tr>\n",
       "    <tr>\n",
       "      <th>99062</th>\n",
       "      <td>57e9cd6f</td>\n",
       "      <td>Maceo Parker</td>\n",
       "    </tr>\n",
       "    <tr>\n",
       "      <th>91933</th>\n",
       "      <td>6da94562</td>\n",
       "      <td>Sure Sure</td>\n",
       "    </tr>\n",
       "    <tr>\n",
       "      <th>97169</th>\n",
       "      <td>3d70f830</td>\n",
       "      <td>Prefab Sprout</td>\n",
       "    </tr>\n",
       "    <tr>\n",
       "      <th>90603</th>\n",
       "      <td>40fe60b7</td>\n",
       "      <td>Conkarah</td>\n",
       "    </tr>\n",
       "    <tr>\n",
       "      <th>91653</th>\n",
       "      <td>e7487120</td>\n",
       "      <td>Mory Kanté</td>\n",
       "    </tr>\n",
       "    <tr>\n",
       "      <th>94235</th>\n",
       "      <td>22e4cd31</td>\n",
       "      <td>Them Are Us Too</td>\n",
       "    </tr>\n",
       "    <tr>\n",
       "      <th>71983</th>\n",
       "      <td>cd73e421</td>\n",
       "      <td>Electrick Children</td>\n",
       "    </tr>\n",
       "    <tr>\n",
       "      <th>33942</th>\n",
       "      <td>8d02ab43</td>\n",
       "      <td>Spawn of Possession</td>\n",
       "    </tr>\n",
       "    <tr>\n",
       "      <th>70859</th>\n",
       "      <td>42c78d5f</td>\n",
       "      <td>Infra-Man</td>\n",
       "    </tr>\n",
       "    <tr>\n",
       "      <th>54088</th>\n",
       "      <td>1b1d1d61</td>\n",
       "      <td>Ella Enchanted</td>\n",
       "    </tr>\n",
       "    <tr>\n",
       "      <th>43260</th>\n",
       "      <td>d87f75f8</td>\n",
       "      <td>Tank Operations: European Campaign</td>\n",
       "    </tr>\n",
       "    <tr>\n",
       "      <th>27651</th>\n",
       "      <td>7df4191a</td>\n",
       "      <td>Rear Window</td>\n",
       "    </tr>\n",
       "    <tr>\n",
       "      <th>50332</th>\n",
       "      <td>a5524b38</td>\n",
       "      <td>The Restless</td>\n",
       "    </tr>\n",
       "    <tr>\n",
       "      <th>82275</th>\n",
       "      <td>78e4a4af</td>\n",
       "      <td>Ezra</td>\n",
       "    </tr>\n",
       "    <tr>\n",
       "      <th>79725</th>\n",
       "      <td>e2f1a4c4</td>\n",
       "      <td>Doll Star: Kotodama Tsukai Ihon</td>\n",
       "    </tr>\n",
       "    <tr>\n",
       "      <th>94196</th>\n",
       "      <td>fb459072</td>\n",
       "      <td>England Dan &amp; John Ford Coley</td>\n",
       "    </tr>\n",
       "    <tr>\n",
       "      <th>19903</th>\n",
       "      <td>33e41ad2</td>\n",
       "      <td>What's Bred in the Bone</td>\n",
       "    </tr>\n",
       "    <tr>\n",
       "      <th>71140</th>\n",
       "      <td>88914ea5</td>\n",
       "      <td>The Mighty Peking Man</td>\n",
       "    </tr>\n",
       "    <tr>\n",
       "      <th>45045</th>\n",
       "      <td>eb198f1b</td>\n",
       "      <td>Batman: Return of the Joker</td>\n",
       "    </tr>\n",
       "    <tr>\n",
       "      <th>14603</th>\n",
       "      <td>bc179cad</td>\n",
       "      <td>The Name of the Wind</td>\n",
       "    </tr>\n",
       "    <tr>\n",
       "      <th>83662</th>\n",
       "      <td>93a8a407</td>\n",
       "      <td>The Art of Self-Defense</td>\n",
       "    </tr>\n",
       "    <tr>\n",
       "      <th>48494</th>\n",
       "      <td>cecd7640</td>\n",
       "      <td>Uighur</td>\n",
       "    </tr>\n",
       "    <tr>\n",
       "      <th>86084</th>\n",
       "      <td>11ea661f</td>\n",
       "      <td>Kenshi Yonezu</td>\n",
       "    </tr>\n",
       "    <tr>\n",
       "      <th>42003</th>\n",
       "      <td>0467121c</td>\n",
       "      <td>Theatre of War 2: Kursk 1943</td>\n",
       "    </tr>\n",
       "    <tr>\n",
       "      <th>41619</th>\n",
       "      <td>ac674734</td>\n",
       "      <td>Arctic Adventure</td>\n",
       "    </tr>\n",
       "    <tr>\n",
       "      <th>22819</th>\n",
       "      <td>c0418405</td>\n",
       "      <td>The Haunting of Hill House</td>\n",
       "    </tr>\n",
       "    <tr>\n",
       "      <th>16353</th>\n",
       "      <td>38137f1f</td>\n",
       "      <td>Eleanor Oliphant Is Completely Fine</td>\n",
       "    </tr>\n",
       "    <tr>\n",
       "      <th>95636</th>\n",
       "      <td>04002710</td>\n",
       "      <td>Heart</td>\n",
       "    </tr>\n",
       "    <tr>\n",
       "      <th>91358</th>\n",
       "      <td>e410d9d4</td>\n",
       "      <td>Max Bruch</td>\n",
       "    </tr>\n",
       "    <tr>\n",
       "      <th>79928</th>\n",
       "      <td>e62603ab</td>\n",
       "      <td>Koisuru Boukun dj - Aru Hi, Mori no Naka.</td>\n",
       "    </tr>\n",
       "    <tr>\n",
       "      <th>16069</th>\n",
       "      <td>3542592c</td>\n",
       "      <td>Saint Anything</td>\n",
       "    </tr>\n",
       "    <tr>\n",
       "      <th>42934</th>\n",
       "      <td>5ca52651</td>\n",
       "      <td>Bayonetta 3</td>\n",
       "    </tr>\n",
       "    <tr>\n",
       "      <th>21921</th>\n",
       "      <td>39ef73da</td>\n",
       "      <td>K2, The Savage Mountain: The Classic True Stor...</td>\n",
       "    </tr>\n",
       "    <tr>\n",
       "      <th>72019</th>\n",
       "      <td>b895dcd6</td>\n",
       "      <td>Found</td>\n",
       "    </tr>\n",
       "    <tr>\n",
       "      <th>56744</th>\n",
       "      <td>9b75f039</td>\n",
       "      <td>Cool Runnings</td>\n",
       "    </tr>\n",
       "    <tr>\n",
       "      <th>61769</th>\n",
       "      <td>4d97629b</td>\n",
       "      <td>NCIS: New Orleans</td>\n",
       "    </tr>\n",
       "    <tr>\n",
       "      <th>97769</th>\n",
       "      <td>d838ec3f</td>\n",
       "      <td>The Contours</td>\n",
       "    </tr>\n",
       "    <tr>\n",
       "      <th>98433</th>\n",
       "      <td>6b50e61f</td>\n",
       "      <td>Alice Phoebe Lou</td>\n",
       "    </tr>\n",
       "    <tr>\n",
       "      <th>49701</th>\n",
       "      <td>920a6438</td>\n",
       "      <td>The Ramen Girl</td>\n",
       "    </tr>\n",
       "    <tr>\n",
       "      <th>85059</th>\n",
       "      <td>2dac1620</td>\n",
       "      <td>dosii</td>\n",
       "    </tr>\n",
       "    <tr>\n",
       "      <th>86604</th>\n",
       "      <td>5810ec24</td>\n",
       "      <td>Giggs</td>\n",
       "    </tr>\n",
       "    <tr>\n",
       "      <th>3789</th>\n",
       "      <td>45bd11b6</td>\n",
       "      <td>Sinless</td>\n",
       "    </tr>\n",
       "    <tr>\n",
       "      <th>56229</th>\n",
       "      <td>837c76cb</td>\n",
       "      <td>Shazam!</td>\n",
       "    </tr>\n",
       "    <tr>\n",
       "      <th>24035</th>\n",
       "      <td>372d27cf</td>\n",
       "      <td>Odds Against</td>\n",
       "    </tr>\n",
       "    <tr>\n",
       "      <th>95051</th>\n",
       "      <td>9c9fb1d7</td>\n",
       "      <td>Dominique A</td>\n",
       "    </tr>\n",
       "    <tr>\n",
       "      <th>56311</th>\n",
       "      <td>b50c640b</td>\n",
       "      <td>Sugar Rush</td>\n",
       "    </tr>\n",
       "    <tr>\n",
       "      <th>72401</th>\n",
       "      <td>0b1f6eb8</td>\n",
       "      <td>More Than Honey</td>\n",
       "    </tr>\n",
       "    <tr>\n",
       "      <th>105595</th>\n",
       "      <td>c045d686</td>\n",
       "      <td>Chung Nam Group of Companies</td>\n",
       "    </tr>\n",
       "  </tbody>\n",
       "</table>\n",
       "</div>"
      ],
      "text/plain": [
       "          tag_id                                           tag_name\n",
       "46004   a689bffd                                        A Night Out\n",
       "94138   7b0493c6                                               FRAD\n",
       "99062   57e9cd6f                                       Maceo Parker\n",
       "91933   6da94562                                          Sure Sure\n",
       "97169   3d70f830                                      Prefab Sprout\n",
       "90603   40fe60b7                                           Conkarah\n",
       "91653   e7487120                                         Mory Kanté\n",
       "94235   22e4cd31                                    Them Are Us Too\n",
       "71983   cd73e421                                 Electrick Children\n",
       "33942   8d02ab43                                Spawn of Possession\n",
       "70859   42c78d5f                                          Infra-Man\n",
       "54088   1b1d1d61                                     Ella Enchanted\n",
       "43260   d87f75f8                 Tank Operations: European Campaign\n",
       "27651   7df4191a                                        Rear Window\n",
       "50332   a5524b38                                       The Restless\n",
       "82275   78e4a4af                                               Ezra\n",
       "79725   e2f1a4c4                    Doll Star: Kotodama Tsukai Ihon\n",
       "94196   fb459072                      England Dan & John Ford Coley\n",
       "19903   33e41ad2                            What's Bred in the Bone\n",
       "71140   88914ea5                              The Mighty Peking Man\n",
       "45045   eb198f1b                        Batman: Return of the Joker\n",
       "14603   bc179cad                               The Name of the Wind\n",
       "83662   93a8a407                            The Art of Self-Defense\n",
       "48494   cecd7640                                             Uighur\n",
       "86084   11ea661f                                      Kenshi Yonezu\n",
       "42003   0467121c                       Theatre of War 2: Kursk 1943\n",
       "41619   ac674734                                   Arctic Adventure\n",
       "22819   c0418405                         The Haunting of Hill House\n",
       "16353   38137f1f                Eleanor Oliphant Is Completely Fine\n",
       "95636   04002710                                              Heart\n",
       "91358   e410d9d4                                          Max Bruch\n",
       "79928   e62603ab          Koisuru Boukun dj - Aru Hi, Mori no Naka.\n",
       "16069   3542592c                                     Saint Anything\n",
       "42934   5ca52651                                        Bayonetta 3\n",
       "21921   39ef73da  K2, The Savage Mountain: The Classic True Stor...\n",
       "72019   b895dcd6                                              Found\n",
       "56744   9b75f039                                      Cool Runnings\n",
       "61769   4d97629b                                  NCIS: New Orleans\n",
       "97769   d838ec3f                                       The Contours\n",
       "98433   6b50e61f                                   Alice Phoebe Lou\n",
       "49701   920a6438                                     The Ramen Girl\n",
       "85059   2dac1620                                              dosii\n",
       "86604   5810ec24                                              Giggs\n",
       "3789    45bd11b6                                            Sinless\n",
       "56229   837c76cb                                            Shazam!\n",
       "24035   372d27cf                                       Odds Against\n",
       "95051   9c9fb1d7                                        Dominique A\n",
       "56311   b50c640b                                         Sugar Rush\n",
       "72401   0b1f6eb8                                    More Than Honey\n",
       "105595  c045d686                       Chung Nam Group of Companies"
      ]
     },
     "execution_count": 7,
     "metadata": {},
     "output_type": "execute_result"
    }
   ],
   "source": [
    "df_tag_names.sample(50)"
   ]
  },
  {
   "cell_type": "markdown",
   "id": "63526457",
   "metadata": {},
   "source": [
    "Most data in tag seems to be music group, movies title, manga,... my first idea about create an embedding with doc2vec or BERT seems compromised...or extract feature from this text is irrelevant at first sight."
   ]
  },
  {
   "cell_type": "markdown",
   "id": "324a389e",
   "metadata": {},
   "source": [
    "So, now, let's have a look on how the tags are distributed over user. First, let's count the occurence of each tag."
   ]
  },
  {
   "cell_type": "code",
   "execution_count": 8,
   "id": "b07ddbe2",
   "metadata": {},
   "outputs": [],
   "source": [
    "df_grouped_user_tag = df_user_tag.groupby(\"tag_id\").count().reset_index().rename(columns={\"uid\": \"count\"})"
   ]
  },
  {
   "cell_type": "markdown",
   "id": "abef13c4",
   "metadata": {},
   "source": [
    "Here are the most frequent tags. It seems consistent."
   ]
  },
  {
   "cell_type": "code",
   "execution_count": 9,
   "id": "a8170f08",
   "metadata": {
    "scrolled": true
   },
   "outputs": [
    {
     "data": {
      "text/html": [
       "<div>\n",
       "<style scoped>\n",
       "    .dataframe tbody tr th:only-of-type {\n",
       "        vertical-align: middle;\n",
       "    }\n",
       "\n",
       "    .dataframe tbody tr th {\n",
       "        vertical-align: top;\n",
       "    }\n",
       "\n",
       "    .dataframe thead th {\n",
       "        text-align: right;\n",
       "    }\n",
       "</style>\n",
       "<table border=\"1\" class=\"dataframe\">\n",
       "  <thead>\n",
       "    <tr style=\"text-align: right;\">\n",
       "      <th></th>\n",
       "      <th>tag_id</th>\n",
       "      <th>count</th>\n",
       "      <th>tag_name</th>\n",
       "    </tr>\n",
       "  </thead>\n",
       "  <tbody>\n",
       "    <tr>\n",
       "      <th>0</th>\n",
       "      <td>5f790ce7</td>\n",
       "      <td>17482</td>\n",
       "      <td>English</td>\n",
       "    </tr>\n",
       "    <tr>\n",
       "      <th>1</th>\n",
       "      <td>d07dc11f</td>\n",
       "      <td>15315</td>\n",
       "      <td>Grand Theft Auto V</td>\n",
       "    </tr>\n",
       "    <tr>\n",
       "      <th>2</th>\n",
       "      <td>88eb7e0f</td>\n",
       "      <td>12159</td>\n",
       "      <td>Stranger Things</td>\n",
       "    </tr>\n",
       "    <tr>\n",
       "      <th>3</th>\n",
       "      <td>915249a0</td>\n",
       "      <td>11741</td>\n",
       "      <td>Basketball</td>\n",
       "    </tr>\n",
       "    <tr>\n",
       "      <th>4</th>\n",
       "      <td>82946c4d</td>\n",
       "      <td>11621</td>\n",
       "      <td>Football</td>\n",
       "    </tr>\n",
       "    <tr>\n",
       "      <th>5</th>\n",
       "      <td>c3c1b983</td>\n",
       "      <td>11314</td>\n",
       "      <td>Rick and Morty</td>\n",
       "    </tr>\n",
       "    <tr>\n",
       "      <th>6</th>\n",
       "      <td>e2e2bbb4</td>\n",
       "      <td>11026</td>\n",
       "      <td>Eminem</td>\n",
       "    </tr>\n",
       "    <tr>\n",
       "      <th>7</th>\n",
       "      <td>981f0e1f</td>\n",
       "      <td>9954</td>\n",
       "      <td>Drake</td>\n",
       "    </tr>\n",
       "    <tr>\n",
       "      <th>8</th>\n",
       "      <td>535cb1e8</td>\n",
       "      <td>9814</td>\n",
       "      <td>Queen</td>\n",
       "    </tr>\n",
       "    <tr>\n",
       "      <th>9</th>\n",
       "      <td>2d602f81</td>\n",
       "      <td>9766</td>\n",
       "      <td>Nirvana</td>\n",
       "    </tr>\n",
       "  </tbody>\n",
       "</table>\n",
       "</div>"
      ],
      "text/plain": [
       "     tag_id  count            tag_name\n",
       "0  5f790ce7  17482             English\n",
       "1  d07dc11f  15315  Grand Theft Auto V\n",
       "2  88eb7e0f  12159     Stranger Things\n",
       "3  915249a0  11741          Basketball\n",
       "4  82946c4d  11621            Football\n",
       "5  c3c1b983  11314      Rick and Morty\n",
       "6  e2e2bbb4  11026              Eminem\n",
       "7  981f0e1f   9954               Drake\n",
       "8  535cb1e8   9814               Queen\n",
       "9  2d602f81   9766             Nirvana"
      ]
     },
     "execution_count": 9,
     "metadata": {},
     "output_type": "execute_result"
    }
   ],
   "source": [
    "df_grouped_user_tag.sort_values(by=['count'], ascending=False).head(10).merge(df_tag_names, on='tag_id')"
   ]
  },
  {
   "cell_type": "code",
   "execution_count": 10,
   "id": "0078509e",
   "metadata": {},
   "outputs": [
    {
     "data": {
      "text/plain": [
       "<AxesSubplot:ylabel='Density'>"
      ]
     },
     "execution_count": 10,
     "metadata": {},
     "output_type": "execute_result"
    },
    {
     "data": {
      "image/png": "[encoded data removed]",
      "text/plain": [
       "<Figure size 432x288 with 1 Axes>"
      ]
     },
     "metadata": {
      "needs_background": "light"
     },
     "output_type": "display_data"
    }
   ],
   "source": [
    "df_grouped_user_tag[\"count\"].plot.kde()"
   ]
  },
  {
   "cell_type": "markdown",
   "id": "c71e6bfd",
   "metadata": {},
   "source": [
    "Let's have a look under and over 50 to get a better idea"
   ]
  },
  {
   "cell_type": "code",
   "execution_count": 11,
   "id": "4415983a",
   "metadata": {},
   "outputs": [],
   "source": [
    "df_count_over_50 = df_grouped_user_tag.loc[df_grouped_user_tag[\"count\"]>=50]"
   ]
  },
  {
   "cell_type": "code",
   "execution_count": 12,
   "id": "ba13a544",
   "metadata": {},
   "outputs": [
    {
     "data": {
      "text/plain": [
       "0.10751613196400982"
      ]
     },
     "execution_count": 12,
     "metadata": {},
     "output_type": "execute_result"
    }
   ],
   "source": [
    "len(df_count_over_50)/len(df_grouped_user_tag)"
   ]
  },
  {
   "cell_type": "markdown",
   "id": "ad56a58b",
   "metadata": {},
   "source": [
    "10% of tags appears less than 50 times. We may think we have few informations from users for 90% of tags. Distribution is far from being uniform"
   ]
  },
  {
   "cell_type": "code",
   "execution_count": 13,
   "id": "ce258fad",
   "metadata": {},
   "outputs": [],
   "source": [
    "df_count_50 = df_grouped_user_tag.loc[df_grouped_user_tag[\"count\"]<50]"
   ]
  },
  {
   "cell_type": "code",
   "execution_count": 14,
   "id": "8d84d830",
   "metadata": {},
   "outputs": [
    {
     "data": {
      "text/plain": [
       "<AxesSubplot:xlabel='count', ylabel='Count'>"
      ]
     },
     "execution_count": 14,
     "metadata": {},
     "output_type": "execute_result"
    },
    {
     "data": {
      "image/png": "[encoded data removed]",
      "text/plain": [
       "<Figure size 432x288 with 1 Axes>"
      ]
     },
     "metadata": {
      "needs_background": "light"
     },
     "output_type": "display_data"
    }
   ],
   "source": [
    "sns.histplot(data=df_count_50, x=\"count\")"
   ]
  },
  {
   "cell_type": "markdown",
   "id": "5a8c82dc",
   "metadata": {},
   "source": [
    "When we have a look to tags that appears less than 50 times, we can see there is a lot of singular tags."
   ]
  },
  {
   "cell_type": "markdown",
   "id": "45c03591",
   "metadata": {},
   "source": [
    "# Part 2 : find all tags similar to Minecraft"
   ]
  },
  {
   "cell_type": "markdown",
   "id": "4f9a082c",
   "metadata": {},
   "source": [
    "First thing to do from my point of view is to check with regex what I got."
   ]
  },
  {
   "cell_type": "code",
   "execution_count": 15,
   "id": "80490aa9",
   "metadata": {},
   "outputs": [],
   "source": [
    "import re"
   ]
  },
  {
   "cell_type": "code",
   "execution_count": 16,
   "id": "8e13ff44",
   "metadata": {
    "scrolled": true
   },
   "outputs": [
    {
     "data": {
      "text/html": [
       "<div>\n",
       "<style scoped>\n",
       "    .dataframe tbody tr th:only-of-type {\n",
       "        vertical-align: middle;\n",
       "    }\n",
       "\n",
       "    .dataframe tbody tr th {\n",
       "        vertical-align: top;\n",
       "    }\n",
       "\n",
       "    .dataframe thead th {\n",
       "        text-align: right;\n",
       "    }\n",
       "</style>\n",
       "<table border=\"1\" class=\"dataframe\">\n",
       "  <thead>\n",
       "    <tr style=\"text-align: right;\">\n",
       "      <th></th>\n",
       "      <th>tag_id</th>\n",
       "      <th>tag_name</th>\n",
       "    </tr>\n",
       "  </thead>\n",
       "  <tbody>\n",
       "    <tr>\n",
       "      <th>34443</th>\n",
       "      <td>0f681579</td>\n",
       "      <td>Minecraft: Story Mode - Season Two</td>\n",
       "    </tr>\n",
       "    <tr>\n",
       "      <th>36023</th>\n",
       "      <td>9743d409</td>\n",
       "      <td>Minecraft</td>\n",
       "    </tr>\n",
       "    <tr>\n",
       "      <th>38809</th>\n",
       "      <td>f993c2df</td>\n",
       "      <td>Minecraft: Story Mode - A Telltale Games Series</td>\n",
       "    </tr>\n",
       "    <tr>\n",
       "      <th>41363</th>\n",
       "      <td>8ab98581</td>\n",
       "      <td>Minecraft: Dungeons</td>\n",
       "    </tr>\n",
       "    <tr>\n",
       "      <th>45471</th>\n",
       "      <td>3d77f200</td>\n",
       "      <td>Minecraft: Pocket Edition</td>\n",
       "    </tr>\n",
       "    <tr>\n",
       "      <th>51178</th>\n",
       "      <td>68d404ed</td>\n",
       "      <td>Minecraft Epic</td>\n",
       "    </tr>\n",
       "  </tbody>\n",
       "</table>\n",
       "</div>"
      ],
      "text/plain": [
       "         tag_id                                         tag_name\n",
       "34443  0f681579               Minecraft: Story Mode - Season Two\n",
       "36023  9743d409                                        Minecraft\n",
       "38809  f993c2df  Minecraft: Story Mode - A Telltale Games Series\n",
       "41363  8ab98581                              Minecraft: Dungeons\n",
       "45471  3d77f200                        Minecraft: Pocket Edition\n",
       "51178  68d404ed                                   Minecraft Epic"
      ]
     },
     "execution_count": 16,
     "metadata": {},
     "output_type": "execute_result"
    }
   ],
   "source": [
    "c=re.compile(r\"\\bminecraft\\b\",re.I)\n",
    "df_reco_regex = df_tag_names[df_tag_names[\"tag_name\"].apply(lambda x:len(c.findall(x))>0)]\n",
    "list_tag_ids_minecraft = df_reco_regex[\"tag_id\"].tolist()\n",
    "df_reco_regex"
   ]
  },
  {
   "cell_type": "markdown",
   "id": "50652f14",
   "metadata": {},
   "source": [
    "Ok, right now, I think I will use collaborative filtering which is the usual thing to do to find tag with similarities. For rating, I will put one value in the matrix for tag_id/uid matching and 0 otherwise. I will use SVD decomposition and store matrices in sparse format for memory issues"
   ]
  },
  {
   "cell_type": "code",
   "execution_count": 17,
   "id": "5d5d13b2",
   "metadata": {},
   "outputs": [],
   "source": [
    "import numpy as np\n",
    "from scipy import sparse"
   ]
  },
  {
   "cell_type": "code",
   "execution_count": 18,
   "id": "092b81f7",
   "metadata": {},
   "outputs": [],
   "source": [
    "ar = np.array(df_user_tag.to_records(index=False))"
   ]
  },
  {
   "cell_type": "code",
   "execution_count": 19,
   "id": "7a863237",
   "metadata": {},
   "outputs": [],
   "source": [
    "rows, r_pos = np.unique(ar['tag_id'], return_inverse=True)\n",
    "cols, c_pos = np.unique(ar['uid'], return_inverse=True)\n",
    "s = sparse.coo_matrix((np.ones(r_pos.shape,int), (r_pos, c_pos)))\n",
    "sparse_csr_mat = s.tocsr().asfptype()\n"
   ]
  },
  {
   "cell_type": "code",
   "execution_count": 20,
   "id": "f4772b02",
   "metadata": {},
   "outputs": [],
   "source": [
    "from scipy.sparse.linalg import svds\n",
    "tags_mat, eigenvalues, users_mat = svds(sparse_csr_mat, k=80)"
   ]
  },
  {
   "cell_type": "code",
   "execution_count": 21,
   "id": "c24701bc",
   "metadata": {},
   "outputs": [],
   "source": [
    "index_minecraft = np.where(rows == \"9743d409\")[0][0]"
   ]
  },
  {
   "cell_type": "markdown",
   "id": "8ab29b55",
   "metadata": {},
   "source": [
    "I chose to use cosine similarity"
   ]
  },
  {
   "cell_type": "code",
   "execution_count": 22,
   "id": "81a49f7c",
   "metadata": {},
   "outputs": [],
   "source": [
    "from numpy.linalg import norm\n",
    "from numpy import dot\n",
    "\n",
    "p1 = tags_mat.dot(tags_mat[index_minecraft])\n",
    "n1 = norm(tags_mat[index_minecraft])\n",
    "n2 = norm(tags_mat, axis=1)\n",
    "p3 = p1/(n2*n1)"
   ]
  },
  {
   "cell_type": "code",
   "execution_count": 23,
   "id": "ace09e28",
   "metadata": {},
   "outputs": [],
   "source": [
    "top_ten = np.argsort(p3)[-10:]"
   ]
  },
  {
   "cell_type": "code",
   "execution_count": 24,
   "id": "375ef77c",
   "metadata": {
    "scrolled": true
   },
   "outputs": [
    {
     "name": "stdout",
     "output_type": "stream",
     "text": [
      "[['1bf3f035' 'Appleseed Ex Machina']]\n",
      "[['1f3ead8e' 'Mobile Suit Gundam SEED']]\n",
      "[['347406ff' 'Titan A.E.']]\n",
      "[['9346d8a0' 'Stan Getz']]\n",
      "[['f918d2e8' 'The Legend of Heroes: Trails in the Sky SC']]\n",
      "[['4d023850' 'Kino']]\n",
      "[['1939d50a' 'Warhammer: Vermintide 2']]\n",
      "[['091b635b' 'Blind Channel']]\n",
      "[['00b9ba19' 'Sonic 3 and Knuckles']]\n",
      "[['9743d409' 'Minecraft']]\n"
     ]
    }
   ],
   "source": [
    "for ind in top_ten:\n",
    "    print(df_tag_names[df_tag_names.tag_id == rows[ind]].values)"
   ]
  },
  {
   "cell_type": "markdown",
   "id": "78351181",
   "metadata": {},
   "source": [
    "Recommendation done by SVD decomposition seems to give other games. Due to memory issues, I couldn't get more eigenvalues. Is it better than regex defined earlier? It depends of what we want to do."
   ]
  },
  {
   "cell_type": "code",
   "execution_count": 25,
   "id": "0481befb",
   "metadata": {},
   "outputs": [
    {
     "data": {
      "text/html": [
       "<div>\n",
       "<style scoped>\n",
       "    .dataframe tbody tr th:only-of-type {\n",
       "        vertical-align: middle;\n",
       "    }\n",
       "\n",
       "    .dataframe tbody tr th {\n",
       "        vertical-align: top;\n",
       "    }\n",
       "\n",
       "    .dataframe thead th {\n",
       "        text-align: right;\n",
       "    }\n",
       "</style>\n",
       "<table border=\"1\" class=\"dataframe\">\n",
       "  <thead>\n",
       "    <tr style=\"text-align: right;\">\n",
       "      <th></th>\n",
       "      <th>tag_id</th>\n",
       "      <th>count</th>\n",
       "    </tr>\n",
       "  </thead>\n",
       "  <tbody>\n",
       "    <tr>\n",
       "      <th>1372</th>\n",
       "      <td>0f681579</td>\n",
       "      <td>18</td>\n",
       "    </tr>\n",
       "    <tr>\n",
       "      <th>5273</th>\n",
       "      <td>3d77f200</td>\n",
       "      <td>151</td>\n",
       "    </tr>\n",
       "    <tr>\n",
       "      <th>9034</th>\n",
       "      <td>68d404ed</td>\n",
       "      <td>3</td>\n",
       "    </tr>\n",
       "    <tr>\n",
       "      <th>11963</th>\n",
       "      <td>8ab98581</td>\n",
       "      <td>31</td>\n",
       "    </tr>\n",
       "    <tr>\n",
       "      <th>13041</th>\n",
       "      <td>9743d409</td>\n",
       "      <td>9243</td>\n",
       "    </tr>\n",
       "    <tr>\n",
       "      <th>21489</th>\n",
       "      <td>f993c2df</td>\n",
       "      <td>28</td>\n",
       "    </tr>\n",
       "  </tbody>\n",
       "</table>\n",
       "</div>"
      ],
      "text/plain": [
       "         tag_id  count\n",
       "1372   0f681579     18\n",
       "5273   3d77f200    151\n",
       "9034   68d404ed      3\n",
       "11963  8ab98581     31\n",
       "13041  9743d409   9243\n",
       "21489  f993c2df     28"
      ]
     },
     "execution_count": 25,
     "metadata": {},
     "output_type": "execute_result"
    }
   ],
   "source": [
    "df_grouped_user_tag[df_grouped_user_tag[\"tag_id\"].isin(list_tag_ids_minecraft)]"
   ]
  },
  {
   "cell_type": "markdown",
   "id": "afeab93e",
   "metadata": {},
   "source": [
    "It seems understandable I do not get recommendation with matrix factorization same as regex. Regex reco have tags underrepresented. I should also check for normalization of the matrix if I want to go futher."
   ]
  },
  {
   "cell_type": "markdown",
   "id": "8d05bc02",
   "metadata": {},
   "source": [
    "# filtered rating\n",
    "\n",
    "I will filter with a cutoff of 50 to get a better representation."
   ]
  },
  {
   "cell_type": "code",
   "execution_count": 26,
   "id": "092a5205",
   "metadata": {},
   "outputs": [],
   "source": [
    "filtered_90quantile_tag_ids = df_count_over_50.tag_id.tolist()\n",
    "df_user_tag_filtered = df_user_tag[df_user_tag.tag_id.isin(filtered_90quantile_tag_ids)].copy()"
   ]
  },
  {
   "cell_type": "code",
   "execution_count": 27,
   "id": "a248240e",
   "metadata": {},
   "outputs": [],
   "source": [
    "ar = np.array(df_user_tag_filtered.to_records(index=False))\n",
    "rows, r_pos = np.unique(ar['tag_id'], return_inverse=True)\n",
    "cols, c_pos = np.unique(ar['uid'], return_inverse=True)\n",
    "s = sparse.coo_matrix((np.ones(r_pos.shape,int), (r_pos, c_pos)))\n",
    "sparse_csr_mat = s.tocsr().asfptype()"
   ]
  },
  {
   "cell_type": "code",
   "execution_count": 28,
   "id": "d0f24df6",
   "metadata": {},
   "outputs": [],
   "source": [
    "tags_mat, eigenvalues, users_mat = svds(sparse_csr_mat, k=80)\n",
    "index_minecraft = np.where(rows == \"9743d409\")[0][0]\n",
    "p1 = tags_mat.dot(tags_mat[index_minecraft])\n",
    "n1 = norm(tags_mat[index_minecraft])\n",
    "n2 = norm(tags_mat, axis=1)\n",
    "p3 = p1/(n2*n1)\n",
    "top_ten = np.argsort(p3)[-10:]"
   ]
  },
  {
   "cell_type": "code",
   "execution_count": 29,
   "id": "b1e7a78c",
   "metadata": {
    "scrolled": true
   },
   "outputs": [
    {
     "name": "stdout",
     "output_type": "stream",
     "text": [
      "[['2b3e4920' 'The Mask']]\n",
      "[['c4c9c371' 'Hereditary']]\n",
      "[['accd2561' 'My Little Pony: Friendship Is Magic']]\n",
      "[['7bd455c4' 'Waterparks']]\n",
      "[['86133833' 'Big Time Rush']]\n",
      "[['db223d9a' 'Car Seat Headrest']]\n",
      "[['b9f98f48' 'Wilbur']]\n",
      "[['9b590096' 'Danganronpa V3: Killing Harmony']]\n",
      "[['c9296261' 'Lany']]\n",
      "[['9743d409' 'Minecraft']]\n"
     ]
    }
   ],
   "source": [
    "for ind in top_ten:\n",
    "    print(df_tag_names[df_tag_names.tag_id == rows[ind]].values)"
   ]
  },
  {
   "cell_type": "markdown",
   "id": "6f2639c8",
   "metadata": {},
   "source": [
    "With this filtered version, we got a more mainstream recommendation which seems normal. Other thing I could check is normalization of the matrix with number of occurences of a tag."
   ]
  },
  {
   "cell_type": "code",
   "execution_count": 30,
   "id": "c87b2e94",
   "metadata": {},
   "outputs": [],
   "source": [
    "from scipy.sparse.linalg import spsolve\n",
    "# get an implementation of ALS on the net\n",
    "def implicit_als(sparse_data, alpha_val=40, iterations=10, lambda_val=0.1, features=10):\n",
    " \n",
    "    \"\"\" Implementation of Alternating Least Squares with implicit data. We iteratively\n",
    "    compute the user (x_u) and item (y_i) vectors using the following formulas:\n",
    " \n",
    "    x_u = ((Y.T*Y + Y.T*(Cu - I) * Y) + lambda*I)^-1 * (X.T * Cu * p(u))\n",
    "    y_i = ((X.T*X + X.T*(Ci - I) * X) + lambda*I)^-1 * (Y.T * Ci * p(i))\n",
    " \n",
    "    Args:\n",
    "        sparse_data (csr_matrix): Our sparse user-by-item matrix\n",
    " \n",
    "        alpha_val (int): The rate in which we'll increase our confidence\n",
    "        in a preference with more interactions.\n",
    " \n",
    "        iterations (int): How many times we alternate between fixing and \n",
    "        updating our user and item vectors\n",
    " \n",
    "        lambda_val (float): Regularization value\n",
    " \n",
    "        features (int): How many latent features we want to compute.\n",
    "    \n",
    "    Returns:     \n",
    "        X (csr_matrix): user vectors of size users-by-features\n",
    "        \n",
    "        Y (csr_matrix): item vectors of size items-by-features\n",
    "     \"\"\"\n",
    "\n",
    "    # Calculate the foncidence for each value in our data\n",
    "    confidence = sparse_data * alpha_val\n",
    "    \n",
    "    # Get the size of user rows and item columns\n",
    "    user_size, item_size = sparse_data.shape\n",
    "    \n",
    "    # We create the user vectors X of size users-by-features, the item vectors\n",
    "    # Y of size items-by-features and randomly assign the values.\n",
    "    X = sparse.csr_matrix(np.random.normal(size = (user_size, features)))\n",
    "    Y = sparse.csr_matrix(np.random.normal(size = (item_size, features)))\n",
    "    \n",
    "    #Precompute I and lambda * I\n",
    "    X_I = sparse.eye(user_size)\n",
    "    Y_I = sparse.eye(item_size)\n",
    "    \n",
    "    I = sparse.eye(features)\n",
    "    lI = lambda_val * I\n",
    "     # Start main loop. For each iteration we first compute X and then Y\n",
    "    for i in range(iterations):\n",
    "        print('iteration %d of %d' % (i+1, iterations))\n",
    "        \n",
    "        # Precompute Y-transpose-Y and X-transpose-X\n",
    "        yTy = Y.T.dot(Y)\n",
    "        xTx = X.T.dot(X)\n",
    "\n",
    "        # Loop through all users\n",
    "        for u in range(user_size):\n",
    "\n",
    "            # Get the user row.\n",
    "            u_row = confidence[u,:].toarray() \n",
    "\n",
    "            # Calculate the binary preference p(u)\n",
    "            p_u = u_row.copy()\n",
    "            p_u[p_u != 0] = 1.0\n",
    "\n",
    "            # Calculate Cu and Cu - I\n",
    "            CuI = sparse.diags(u_row, [0])\n",
    "            Cu = CuI + Y_I\n",
    "\n",
    "            # Put it all together and compute the final formula\n",
    "            yT_CuI_y = Y.T.dot(CuI).dot(Y)\n",
    "            yT_Cu_pu = Y.T.dot(Cu).dot(p_u.T)\n",
    "            X[u] = spsolve(yTy + yT_CuI_y + lI, yT_Cu_pu)\n",
    "\n",
    "    \n",
    "        for i in range(item_size):\n",
    "\n",
    "            # Get the item column and transpose it.\n",
    "            i_row = confidence[:,i].T.toarray()\n",
    "\n",
    "            # Calculate the binary preference p(i)\n",
    "            p_i = i_row.copy()\n",
    "            p_i[p_i != 0] = 1.0\n",
    "\n",
    "            # Calculate Ci and Ci - I\n",
    "            CiI = sparse.diags(i_row, [0])\n",
    "            Ci = CiI + X_I\n",
    "\n",
    "            # Put it all together and compute the final formula\n",
    "            xT_CiI_x = X.T.dot(CiI).dot(X)\n",
    "            xT_Ci_pi = X.T.dot(Ci).dot(p_i.T)\n",
    "            Y[i] = spsolve(xTx + xT_CiI_x + lI, xT_Ci_pi)\n",
    "\n",
    "    return X, Y\n",
    "    "
   ]
  },
  {
   "cell_type": "code",
   "execution_count": 31,
   "id": "80c99702",
   "metadata": {},
   "outputs": [],
   "source": [
    "#user_vecs, tags_vecs = implicit_als(sparse_csr_mat, iterations=20, features=20, alpha_val=40)"
   ]
  },
  {
   "cell_type": "markdown",
   "id": "42875ca5",
   "metadata": {},
   "source": [
    "I abandon using ALS as it seems costly"
   ]
  },
  {
   "cell_type": "markdown",
   "id": "cb72d6f4",
   "metadata": {},
   "source": [
    "# Part 3 : recommend tags to user"
   ]
  },
  {
   "cell_type": "markdown",
   "id": "c792c64d",
   "metadata": {},
   "source": [
    "For this part, I will use 'surprise' package, which is dedicated to recommendation"
   ]
  },
  {
   "cell_type": "code",
   "execution_count": 32,
   "id": "ae1a674c",
   "metadata": {},
   "outputs": [],
   "source": [
    "from surprise import SVD\n",
    "from surprise import Dataset\n",
    "from surprise import Reader\n",
    "from surprise.model_selection import cross_validate"
   ]
  },
  {
   "cell_type": "code",
   "execution_count": 33,
   "id": "9329b472",
   "metadata": {},
   "outputs": [
    {
     "data": {
      "text/html": [
       "<div>\n",
       "<style scoped>\n",
       "    .dataframe tbody tr th:only-of-type {\n",
       "        vertical-align: middle;\n",
       "    }\n",
       "\n",
       "    .dataframe tbody tr th {\n",
       "        vertical-align: top;\n",
       "    }\n",
       "\n",
       "    .dataframe thead th {\n",
       "        text-align: right;\n",
       "    }\n",
       "</style>\n",
       "<table border=\"1\" class=\"dataframe\">\n",
       "  <thead>\n",
       "    <tr style=\"text-align: right;\">\n",
       "      <th></th>\n",
       "      <th>uid</th>\n",
       "      <th>tag_id</th>\n",
       "    </tr>\n",
       "  </thead>\n",
       "  <tbody>\n",
       "    <tr>\n",
       "      <th>0</th>\n",
       "      <td>5b834695</td>\n",
       "      <td>981f0e1f</td>\n",
       "    </tr>\n",
       "    <tr>\n",
       "      <th>2</th>\n",
       "      <td>dca48ac2</td>\n",
       "      <td>5cc98ce2</td>\n",
       "    </tr>\n",
       "    <tr>\n",
       "      <th>3</th>\n",
       "      <td>8360babd</td>\n",
       "      <td>d4de315c</td>\n",
       "    </tr>\n",
       "    <tr>\n",
       "      <th>4</th>\n",
       "      <td>19291034</td>\n",
       "      <td>31ca6ec6</td>\n",
       "    </tr>\n",
       "    <tr>\n",
       "      <th>5</th>\n",
       "      <td>e724f214</td>\n",
       "      <td>e43c087d</td>\n",
       "    </tr>\n",
       "    <tr>\n",
       "      <th>...</th>\n",
       "      <td>...</td>\n",
       "      <td>...</td>\n",
       "    </tr>\n",
       "    <tr>\n",
       "      <th>1999995</th>\n",
       "      <td>fcb4080b</td>\n",
       "      <td>90d84901</td>\n",
       "    </tr>\n",
       "    <tr>\n",
       "      <th>1999996</th>\n",
       "      <td>099e8bf4</td>\n",
       "      <td>d9ea8d2b</td>\n",
       "    </tr>\n",
       "    <tr>\n",
       "      <th>1999997</th>\n",
       "      <td>b4c3ec06</td>\n",
       "      <td>a92e0a32</td>\n",
       "    </tr>\n",
       "    <tr>\n",
       "      <th>1999998</th>\n",
       "      <td>15ba8410</td>\n",
       "      <td>bced222a</td>\n",
       "    </tr>\n",
       "    <tr>\n",
       "      <th>1999999</th>\n",
       "      <td>7d303bf2</td>\n",
       "      <td>6d8509cf</td>\n",
       "    </tr>\n",
       "  </tbody>\n",
       "</table>\n",
       "<p>1886151 rows × 2 columns</p>\n",
       "</div>"
      ],
      "text/plain": [
       "              uid    tag_id\n",
       "0        5b834695  981f0e1f\n",
       "2        dca48ac2  5cc98ce2\n",
       "3        8360babd  d4de315c\n",
       "4        19291034  31ca6ec6\n",
       "5        e724f214  e43c087d\n",
       "...           ...       ...\n",
       "1999995  fcb4080b  90d84901\n",
       "1999996  099e8bf4  d9ea8d2b\n",
       "1999997  b4c3ec06  a92e0a32\n",
       "1999998  15ba8410  bced222a\n",
       "1999999  7d303bf2  6d8509cf\n",
       "\n",
       "[1886151 rows x 2 columns]"
      ]
     },
     "execution_count": 33,
     "metadata": {},
     "output_type": "execute_result"
    }
   ],
   "source": [
    "df_user_tag_filtered"
   ]
  },
  {
   "cell_type": "code",
   "execution_count": 34,
   "id": "89ce46d3",
   "metadata": {},
   "outputs": [],
   "source": [
    "reader = Reader(rating_scale=(0,1))\n",
    "df_user_tag_filtered[\"rating\"] = 1.0\n",
    "data = Dataset.load_from_df(df_user_tag_filtered[[\"uid\", \"tag_id\", \"rating\"]], reader)"
   ]
  },
  {
   "cell_type": "code",
   "execution_count": 35,
   "id": "52219b54",
   "metadata": {},
   "outputs": [
    {
     "name": "stdout",
     "output_type": "stream",
     "text": [
      "Processing epoch 0\n",
      "Processing epoch 1\n",
      "Processing epoch 2\n",
      "Processing epoch 3\n",
      "Processing epoch 4\n",
      "Processing epoch 5\n",
      "Processing epoch 6\n",
      "Processing epoch 7\n",
      "Processing epoch 8\n",
      "Processing epoch 9\n",
      "Processing epoch 0\n",
      "Processing epoch 1\n",
      "Processing epoch 2\n",
      "Processing epoch 3\n",
      "Processing epoch 4\n",
      "Processing epoch 5\n",
      "Processing epoch 6\n",
      "Processing epoch 7\n",
      "Processing epoch 8\n",
      "Processing epoch 9\n",
      "Processing epoch 0\n",
      "Processing epoch 1\n",
      "Processing epoch 2\n",
      "Processing epoch 3\n",
      "Processing epoch 4\n",
      "Processing epoch 5\n",
      "Processing epoch 6\n",
      "Processing epoch 7\n",
      "Processing epoch 8\n",
      "Processing epoch 9\n",
      "Evaluating RMSE, MAE of algorithm SVD on 3 split(s).\n",
      "\n",
      "                  Fold 1  Fold 2  Fold 3  Mean    Std     \n",
      "RMSE (testset)    0.0145  0.0145  0.0145  0.0145  0.0000  \n",
      "MAE (testset)     0.0044  0.0044  0.0044  0.0044  0.0000  \n",
      "Fit time          24.28   25.37   25.12   24.93   0.47    \n",
      "Test time         3.39    3.83    3.40    3.54    0.21    \n"
     ]
    },
    {
     "data": {
      "text/plain": [
       "{'test_rmse': array([0.01450996, 0.01450851, 0.01451214]),\n",
       " 'test_mae': array([0.00439976, 0.00439853, 0.00440415]),\n",
       " 'fit_time': (24.282350778579712, 25.37414240837097, 25.123907566070557),\n",
       " 'test_time': (3.3946597576141357, 3.8345446586608887, 3.4012365341186523)}"
      ]
     },
     "execution_count": 35,
     "metadata": {},
     "output_type": "execute_result"
    }
   ],
   "source": [
    "svd = SVD(verbose=True, n_epochs=10)\n",
    "cross_validate(svd, data, measures=['RMSE', 'MAE'], cv=3, verbose=True)"
   ]
  },
  {
   "cell_type": "code",
   "execution_count": 36,
   "id": "cf52947c",
   "metadata": {},
   "outputs": [
    {
     "name": "stdout",
     "output_type": "stream",
     "text": [
      "Processing epoch 0\n",
      "Processing epoch 1\n",
      "Processing epoch 2\n",
      "Processing epoch 3\n",
      "Processing epoch 4\n",
      "Processing epoch 5\n",
      "Processing epoch 6\n",
      "Processing epoch 7\n",
      "Processing epoch 8\n",
      "Processing epoch 9\n"
     ]
    },
    {
     "data": {
      "text/plain": [
       "<surprise.prediction_algorithms.matrix_factorization.SVD at 0x7f3411b74220>"
      ]
     },
     "execution_count": 36,
     "metadata": {},
     "output_type": "execute_result"
    }
   ],
   "source": [
    "trainset = data.build_full_trainset()\n",
    "svd.fit(trainset)"
   ]
  },
  {
   "cell_type": "code",
   "execution_count": 37,
   "id": "68826af7",
   "metadata": {},
   "outputs": [],
   "source": [
    "def generate_recommendation(uid, model, list_tags, top_n=10):\n",
    "    list_rating = []\n",
    "    for tag in list_tags: \n",
    "        list_rating.append(model.predict(uid,tag).est)\n",
    "    list_index =np.argsort(np.array(list_rating))[-top_n:]\n",
    "    recommmended_tags = []\n",
    "    for i in list_index:\n",
    "        recommmended_tags.append(list_tags[i])\n",
    "    return recommmended_tags    "
   ]
  },
  {
   "cell_type": "code",
   "execution_count": 38,
   "id": "ac6361bc",
   "metadata": {
    "scrolled": true
   },
   "outputs": [
    {
     "data": {
      "text/plain": [
       "['711beff9',\n",
       " '711b8d5c',\n",
       " '7119c95d',\n",
       " '70ec08aa',\n",
       " '701d5ffd',\n",
       " '701cf2f6',\n",
       " '6fc459e7',\n",
       " '6fa95a3c',\n",
       " '716416d7',\n",
       " 'fff220ac']"
      ]
     },
     "execution_count": 38,
     "metadata": {},
     "output_type": "execute_result"
    }
   ],
   "source": [
    "generate_recommendation('5b834695', svd, filtered_90quantile_tag_ids)"
   ]
  },
  {
   "cell_type": "markdown",
   "id": "6c073b7f",
   "metadata": {},
   "source": [
    "# Prospects\n",
    "\n",
    "Concerning rating matrix, I should go further and try normalization approach to avoid bias due to frequency over tags. I was thinking also to use information by normalizing row with log(1/count_tag). Regularization term over User and Tags matrix could help also which i did not use in the part 2 about finding similar tags to minecraft.\n",
    "\n",
    "For User recommendation, I tried to use 'surprise' package but algorithms did not seem adapted for bechmarking large dataset as my memory went down. So, I decided to just use it with SVD which works. We could go further and test others algorithms MF approach such as ALS, NMF,... and tried k-NN also. I could also adapt surprise model for part 2 about finding similar tags to minecraft.\n",
    "\n",
    "Also, for evaluation, I should use better metrics such as FCP (Fraction od Concordant Pairs). Here, it bug due maybe to the test split done. I did not investigate further.\n",
    "\n",
    "Other point, concerning generate_recommendation function, I should also remove tags already setup by user.\n",
    "\n",
    "Concerning part 2, I did some first implementation which should also be evaluate by CV.\n",
    "\n",
    "And overall, an hyperoptimisation study for similarities score methods, model hyperparameters, computation of rating matrice,...\n",
    "\n",
    "I focused mainly here on collaborative filtering approach as I intuited information in tag names are irrevelant from a first exploration. Otherwise, I was thinking in this case to implement prod2vec approach which seems difficult in the amount of time, and so explore what features I could extract from this text. Maybe, it exists somewhere a model that can classify this text in features such as movie, manga, game,... I could use as input.\n",
    "\n"
   ]
  },
  {
   "cell_type": "code",
   "execution_count": null,
   "id": "3cb7ca09",
   "metadata": {},
   "outputs": [],
   "source": []
  }
 ],
 "metadata": {
  "kernelspec": {
   "display_name": "Python 3",
   "language": "python",
   "name": "python3"
  },
  "language_info": {
   "codemirror_mode": {
    "name": "ipython",
    "version": 3
   },
   "file_extension": ".py",
   "mimetype": "text/x-python",
   "name": "python",
   "nbconvert_exporter": "python",
   "pygments_lexer": "ipython3",
   "version": "3.8.10"
  }
 },
 "nbformat": 4,
 "nbformat_minor": 5
}
